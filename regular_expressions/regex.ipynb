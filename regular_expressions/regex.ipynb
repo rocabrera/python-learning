{
 "cells": [
  {
   "cell_type": "code",
   "execution_count": 1,
   "metadata": {
    "ExecuteTime": {
     "end_time": "2020-12-28T18:48:35.635641Z",
     "start_time": "2020-12-28T18:48:35.625962Z"
    }
   },
   "outputs": [],
   "source": [
    "import re"
   ]
  },
  {
   "cell_type": "markdown",
   "metadata": {},
   "source": [
    "The re module uses a backtracking regular expression engine"
   ]
  },
  {
   "cell_type": "markdown",
   "metadata": {},
   "source": [
    "Regular expressions match text patterns \n",
    "\n",
    "Use case examples:\n",
    "\n",
    "- Check if an email or phone number was written correctly.\n",
    "- Split text by some mark (comma, dot, newline) which may be useful to parse data.\n",
    "- Get content from HTML tags.\n",
    "- Improve your linux command skills."
   ]
  },
  {
   "cell_type": "markdown",
   "metadata": {},
   "source": [
    "However ...\n",
    "\n",
    ">Some people, when confronted with a problem, think \"I know, I'll use regular expressions\". Now they have two problems - Jamie Zawinski, 1997"
   ]
  },
  {
   "cell_type": "markdown",
   "metadata": {
    "heading_collapsed": true
   },
   "source": [
    "## **Python String** "
   ]
  },
  {
   "cell_type": "markdown",
   "metadata": {
    "hidden": true
   },
   "source": [
    "\\begin{array}{ccc}\n",
    "\\hline Type &  Prefixed & Description \\\\\\hline\n",
    "  \\text{String} & - & \\text{They are string literals. They're Unicode. The backslash is\n",
    "necessary to escape meaningful characters.} \\\\\n",
    "  \\text{Raw String}  & \\text{r or R} & \\text{They're equal to literal strings with the exception of the\n",
    "backslashes, which are treated as normal characters.} \\\\\n",
    "  \\text{Byte String}  & \\text{b or B} & \\text{Strings represented as bytes. They can only contain ASCII\n",
    "characters; if the byte is greater than 128, it must be escaped.} \\\\\n",
    "\\end{array}"
   ]
  },
  {
   "cell_type": "code",
   "execution_count": 2,
   "metadata": {
    "ExecuteTime": {
     "end_time": "2020-12-28T18:48:58.325381Z",
     "start_time": "2020-12-28T18:48:58.309664Z"
    },
    "hidden": true
   },
   "outputs": [
    {
     "name": "stdout",
     "output_type": "stream",
     "text": [
      "feijão com\t limão\n",
      "feijão com\\t limão\n",
      "b'feij\\xc3\\xa3o com\\t lim\\xc3\\xa3o'\n"
     ]
    }
   ],
   "source": [
    "#Normal String\n",
    "print(\"feijão com\\t limão\")\n",
    "#Raw String\n",
    "print(r\"feijão com\\t limão\")\n",
    "#Byte String\n",
    "print(b\"feij\\xc3\\xa3o com\\t lim\\xc3\\xa3o\")"
   ]
  },
  {
   "cell_type": "code",
   "execution_count": 3,
   "metadata": {
    "ExecuteTime": {
     "end_time": "2020-12-28T18:48:58.815444Z",
     "start_time": "2020-12-28T18:48:58.789084Z"
    },
    "hidden": true
   },
   "outputs": [
    {
     "data": {
      "text/plain": [
       "'feijão com\\t limão'"
      ]
     },
     "execution_count": 3,
     "metadata": {},
     "output_type": "execute_result"
    }
   ],
   "source": [
    "str(b\"feij\\xc3\\xa3o com\\t lim\\xc3\\xa3o\", \"utf-8\")"
   ]
  },
  {
   "cell_type": "markdown",
   "metadata": {
    "heading_collapsed": true
   },
   "source": [
    "## **General** "
   ]
  },
  {
   "cell_type": "markdown",
   "metadata": {
    "hidden": true
   },
   "source": [
    "Our build blocks are composed of:\n",
    "\n",
    "- Literals\n",
    "- Metacharacter\n",
    " - Backslash: \\\\\n",
    " - Caret: \\^\n",
    " - Dollar Sign: \\$\n",
    " - Dot: \\.\n",
    " - Pipe Symbol: \\|\n",
    " - Question Mark: \\?\n",
    " - Asterisk: \\*\n",
    " - Plus sign: \\+\n",
    " - Opening parenthesis: \\(\n",
    " - Closing parenthesis: \\)\n",
    " - Opening square bracket: \\[\n",
    " - The opening curly brace: \\{\n"
   ]
  },
  {
   "cell_type": "markdown",
   "metadata": {
    "heading_collapsed": true,
    "hidden": true
   },
   "source": [
    "### **Literals** "
   ]
  },
  {
   "cell_type": "code",
   "execution_count": 4,
   "metadata": {
    "ExecuteTime": {
     "end_time": "2020-12-28T18:51:11.294113Z",
     "start_time": "2020-12-28T18:51:11.283844Z"
    },
    "hidden": true
   },
   "outputs": [
    {
     "name": "stdout",
     "output_type": "stream",
     "text": [
      "HERE !!!\n",
      "\n",
      "Sorry pal, you'll starve to death.\n",
      "\n"
     ]
    }
   ],
   "source": [
    "\"\"\"\n",
    "version 1: with compile\n",
    "\"\"\"\n",
    "def areYouHungry_v1(pattern, text):\n",
    "    match = pattern.search(text)\n",
    "    if match: print(\"HERE !!!\\n\")\n",
    "    else:     print(\"Sorry pal, you'll starve to death.\\n\")\n",
    "\n",
    "helloWorldRegex = r\"rodrigo\"\n",
    "\n",
    "pattern = re.compile(helloWorldRegex)\n",
    "\n",
    "text1 = r\"Where can I find food here? - rodrigo\"\n",
    "text2 = r\"Where can I find food here? - Rodrigo\"\n",
    "\n",
    "areYouHungry_v1(pattern,text1)\n",
    "areYouHungry_v1(pattern,text2)"
   ]
  },
  {
   "cell_type": "code",
   "execution_count": 5,
   "metadata": {
    "ExecuteTime": {
     "end_time": "2020-12-28T18:51:37.782982Z",
     "start_time": "2020-12-28T18:51:37.767195Z"
    },
    "hidden": true
   },
   "outputs": [
    {
     "name": "stdout",
     "output_type": "stream",
     "text": [
      "HERE !!!\n",
      "\n",
      "Sorry pal, you'll starve to death.\n",
      "\n"
     ]
    }
   ],
   "source": [
    "\"\"\"\n",
    "version 2: without compile\n",
    "\"\"\"\n",
    "def areYouHungry_v2(regex, text):\n",
    "    match = re.search(regex, text)\n",
    "    if match: print(\"HERE !!!\\n\")\n",
    "    else:     print(\"Sorry pal, you'll starve to death.\\n\")\n",
    "\n",
    "helloWorldRegex = r\"rodrigo\"\n",
    "\n",
    "text1 = r\"Where can I find food here? - rodrigo\"\n",
    "text2 = r\"Where can I find food here? - Rodrigo\"\n",
    "\n",
    "areYouHungry_v2(helloWorldRegex, text1)\n",
    "areYouHungry_v2(helloWorldRegex, text2)"
   ]
  },
  {
   "cell_type": "markdown",
   "metadata": {
    "heading_collapsed": true,
    "hidden": true
   },
   "source": [
    "### **Character classes**"
   ]
  },
  {
   "cell_type": "code",
   "execution_count": 6,
   "metadata": {
    "ExecuteTime": {
     "end_time": "2020-12-28T18:51:43.132665Z",
     "start_time": "2020-12-28T18:51:43.119950Z"
    },
    "hidden": true
   },
   "outputs": [
    {
     "name": "stdout",
     "output_type": "stream",
     "text": [
      "Beer is also food !!\n",
      "\n",
      "Beer is also food !!\n",
      "\n"
     ]
    }
   ],
   "source": [
    "\"\"\"\n",
    "version 3: classes\n",
    "\"\"\"\n",
    "def areYouHungry_v3(pattern, text):\n",
    "    match = pattern.search(text)\n",
    "    if match: print(\"Beer is also food !!\\n\")\n",
    "    else:     print(\"Sorry pal, you'll starve to death.\\n\")\n",
    "\n",
    "helloWorldRegex = r\"[rR]odrigo\"\n",
    "\n",
    "pattern = re.compile(helloWorldRegex)\n",
    "\n",
    "text1 = r\"Where can I find food here? - rodrigo\"\n",
    "text2 = r\"Where can I find food here? - Rodrigo\"\n",
    "\n",
    "areYouHungry_v3(pattern,text1)\n",
    "areYouHungry_v3(pattern,text2)"
   ]
  },
  {
   "cell_type": "markdown",
   "metadata": {
    "hidden": true
   },
   "source": [
    "Usual Classes:\n",
    "\n",
    "- [0-9]: Matches anything between 0 and 9.\n",
    "- [a-z]: Matches anything between a and z.\n",
    "- [A-Z]: Matches anything between A and Z.\n",
    "\n",
    "Predefined Classes:\n",
    "- **\\.** : Matches everything except newline.\n",
    "- Lower Case classes:\n",
    "    - \\d : Same as [0-9].\n",
    "    - \\s : Same as [ \\t\\n\\r\\f\\v] the first character of the class is the whitespace character.\n",
    "    - \\w : Same as [a-zA-Z0-9_] the last character of the class is the underscore character.\n",
    "\n",
    "- Upper Case classes (the negation):\n",
    "    - \\D : Matches non decimal digit, same as [^0-9].\n",
    "    - \\S : Matches any non whitespace character [^ \\t\\n\\r\\f\\v].\n",
    "    - \\W : Matches any non alphanumeric character [^a-zA-Z0-9_] .\n"
   ]
  },
  {
   "cell_type": "markdown",
   "metadata": {
    "hidden": true
   },
   "source": [
    "Both codes will do the same ... \n",
    "\n",
    "The re module keeps a cache with come compiled regex so you do not need to compile the regex everytime you call the function (technique called memoization). \n",
    "\n",
    "The first version just give you a fine control ..."
   ]
  },
  {
   "cell_type": "markdown",
   "metadata": {
    "hidden": true
   },
   "source": [
    "```Pattern``` was **re.Pattern** variable which has a lot of methods. Let's find out with methods are there using regular expression !!"
   ]
  },
  {
   "cell_type": "code",
   "execution_count": 7,
   "metadata": {
    "ExecuteTime": {
     "end_time": "2020-12-28T18:52:00.338676Z",
     "start_time": "2020-12-28T18:52:00.328354Z"
    },
    "hidden": true
   },
   "outputs": [
    {
     "data": {
      "text/plain": [
       "'__class__\\n__copy__\\n__deepcopy__\\n__delattr__\\n__dir__\\n__doc__\\n__eq__\\n__format__\\n__ge__\\n__getattribute__\\n__gt__\\n__hash__\\n__init__\\n__init_subclass__\\n__le__\\n__lt__\\n__ne__\\n__new__\\n__reduce__\\n__reduce_ex__\\n__repr__\\n__setattr__\\n__sizeof__\\n__str__\\n__subclasshook__\\nfindall\\nfinditer\\nflags\\nfullmatch\\ngroupindex\\ngroups\\nmatch\\npattern\\nscanner\\nsearch\\nsplit\\nsub\\nsubn'"
      ]
     },
     "execution_count": 7,
     "metadata": {},
     "output_type": "execute_result"
    }
   ],
   "source": [
    "helloWorldRegex = r\"[rR]odrigo\"\n",
    "pattern = re.compile(helloWorldRegex)\n",
    "patternText = \"\\n\".join(dir(pattern))\n",
    "patternText"
   ]
  },
  {
   "cell_type": "code",
   "execution_count": 8,
   "metadata": {
    "ExecuteTime": {
     "end_time": "2020-12-28T19:34:30.013958Z",
     "start_time": "2020-12-28T19:34:29.997917Z"
    },
    "hidden": true
   },
   "outputs": [
    {
     "name": "stdout",
     "output_type": "stream",
     "text": [
      "{'groups', 'subn', 'match', 'search', 'sub', 'split', 'flags', 'finditer', 'findall'}\n"
     ]
    }
   ],
   "source": [
    "#Regex for does not start with “__”\n",
    "pattern_list_methods = set(re.findall(r\"^(?!__).*$\", patternText, re.M))\n",
    "to_delete = [\"fullmatch\", \"groupindex\", \"pattern\", \"scanner\"]\n",
    "pattern_list_methods.difference_update(to_delete)\n",
    "print(pattern_list_methods)"
   ]
  },
  {
   "cell_type": "markdown",
   "metadata": {
    "hidden": true
   },
   "source": [
    "- RegexObject: It is also known as Pattern Object. It represents a compiled regular expression\n",
    "- MatchObject: It represents the matched pattern"
   ]
  },
  {
   "cell_type": "markdown",
   "metadata": {
    "heading_collapsed": true,
    "hidden": true
   },
   "source": [
    "###  Regex Behavior"
   ]
  },
  {
   "cell_type": "code",
   "execution_count": 9,
   "metadata": {
    "ExecuteTime": {
     "end_time": "2020-12-28T19:35:00.086220Z",
     "start_time": "2020-12-28T19:35:00.062180Z"
    },
    "hidden": true
   },
   "outputs": [
    {
     "name": "stdout",
     "output_type": "stream",
     "text": [
      "Found it\n",
      "None here\n",
      "Found it\n"
     ]
    }
   ],
   "source": [
    "def isGotcha(match):\n",
    "    if match: print(\"Found it\")\n",
    "    else:     print(\"None here\")\n",
    "        \n",
    "data = \"aaabbbccc\"\n",
    "match1 = re.match(\"\\w+\", data)\n",
    "isGotcha(match1)\n",
    "match2 = re.match(\"bbb\",data)\n",
    "isGotcha(match2)\n",
    "match3 = re.search(\"bbb\",data)\n",
    "isGotcha(match3)"
   ]
  },
  {
   "cell_type": "markdown",
   "metadata": {
    "hidden": true
   },
   "source": [
    "\\begin{array}{rrr}\n",
    "\\hline \\text{match1}  & \\text{match2}       & \\text{match3}\\\\\\hline\n",
    "  \\text{aaabbbccc}    & \\text{aaabbbccc}    & \\text{aaabbbccc}\\\\\n",
    "  \\text{aabbbccc}     & \\text{returns None} & \\text{aabbbccc}\\\\\n",
    "  \\text{abbbccc}      & -                   & \\text{abbbccc}\\\\\n",
    "  \\text{bbbccc}       & -                   & \\text{bbbccc}\\\\\n",
    "  \\text{bbccc}        & -                   & \\text{bbccc}\\\\\n",
    "  \\text{bccc}         & -                   & \\text{bccc}\\\\\n",
    "  \\text{ccc}          & -                   & \\text{returns Match}\\\\\n",
    "  \\text{cc}           & -                   & - \\\\\n",
    "  \\text{c}            & -                   & - \\\\\n",
    "  \\text{returns None} & -                   & - \n",
    "\\end{array}"
   ]
  },
  {
   "cell_type": "markdown",
   "metadata": {
    "heading_collapsed": true,
    "hidden": true
   },
   "source": [
    "### Greedy Behavior"
   ]
  },
  {
   "cell_type": "code",
   "execution_count": 10,
   "metadata": {
    "ExecuteTime": {
     "end_time": "2020-12-28T20:01:41.688966Z",
     "start_time": "2020-12-28T20:01:41.672929Z"
    },
    "hidden": true
   },
   "outputs": [
    {
     "name": "stdout",
     "output_type": "stream",
     "text": [
      "<re.Match object; span=(0, 27), match='<b>foo</b> and <i>so on</i>'>\n",
      "<b>foo</b> and <i>so on</i>\n"
     ]
    }
   ],
   "source": [
    "text = \"<b>foo</b> and <i>so on</i>\"\n",
    "\n",
    "match = re.match(\"<.*>\",text)\n",
    "print(match)\n",
    "print(match.group())"
   ]
  },
  {
   "cell_type": "code",
   "execution_count": 11,
   "metadata": {
    "ExecuteTime": {
     "end_time": "2020-12-28T20:04:04.393219Z",
     "start_time": "2020-12-28T20:04:04.377221Z"
    },
    "hidden": true
   },
   "outputs": [
    {
     "name": "stdout",
     "output_type": "stream",
     "text": [
      "<re.Match object; span=(0, 3), match='<b>'>\n",
      "<b>\n"
     ]
    }
   ],
   "source": [
    "text = \"<b>foo</b> and <i>so on</i>\"\n",
    "\n",
    "match = re.match(\"<.*?>\",text)\n",
    "print(match)\n",
    "print(match.group())"
   ]
  },
  {
   "cell_type": "markdown",
   "metadata": {
    "hidden": true
   },
   "source": [
    "The non-greedy behavior can be requested by adding an extra question mark to the quantifier; for example, ??, *? or +?. A quantifier marked as reluctant will behave like the exact opposite of the greedy ones. They will try to have the smallest match possible."
   ]
  },
  {
   "cell_type": "markdown",
   "metadata": {
    "heading_collapsed": true
   },
   "source": [
    "## **Problem 1** - Phone Number"
   ]
  },
  {
   "cell_type": "markdown",
   "metadata": {
    "heading_collapsed": true,
    "hidden": true
   },
   "source": [
    "### **Search** "
   ]
  },
  {
   "cell_type": "code",
   "execution_count": 12,
   "metadata": {
    "ExecuteTime": {
     "end_time": "2020-12-28T16:20:01.832511Z",
     "start_time": "2020-12-28T16:20:01.823538Z"
    },
    "hidden": true
   },
   "outputs": [
    {
     "name": "stdout",
     "output_type": "stream",
     "text": [
      "Regex Number 1\n",
      "Your number is: !\n",
      "\n",
      "Regex Number 2\n",
      "Your number is: 9!\n",
      "\n",
      "Regex Number 3\n",
      "Your number is: 9-96!\n",
      "\n",
      "Regex Number 4\n",
      "Your number is: 9-96379889!\n",
      "\n",
      "Regex Number 5\n",
      "Your number is: 96379889!\n",
      "\n",
      "Regex Number 6\n",
      "Your number is: 9 96379889!\n",
      "\n"
     ]
    }
   ],
   "source": [
    "def isThere_v1(regexObject, text):\n",
    "    if regexObject: return f\"Your number is: {regexObject.group()}!\"\n",
    "    else: return \"Hey! I did not find it.\"\n",
    "\n",
    "    \n",
    "text = \"\"\" 9-96379889\n",
    "           96379889\n",
    "           996379889\n",
    "           9-9637-9889\n",
    "\n",
    "           42246889\n",
    "           4224-6889\n",
    "           \n",
    "           99637 9889\n",
    "           9 96379889\n",
    "       \"\"\"\n",
    "\n",
    "#The first character is not a number, but a whitespace.\n",
    "regex1 = re.search(r\"\\d?\", text)\n",
    "\n",
    "#Removing the whitespace character we find the number ! The ? operator means optional\n",
    "regex2 = re.search(r\"\\d?\", text.strip())\n",
    "\n",
    "#Then, it could appear a optional whitespace or -. We also get two decimal character with \\d\\d \n",
    "regex3 = re.search(r\"\\d?-?\\d\\d\", text.strip())\n",
    "\n",
    "#However we want more than one decimal chracter. This can be achievied by using the + operator\n",
    "regex4 = re.search(r\"\\d?-?\\d+\", text.strip())\n",
    "\n",
    "#Looking backwards $\n",
    "regex5 = re.search(r\"\\d?-?\\d+$\", text.strip())\n",
    "\n",
    "#Using class to get - or whitespace\n",
    "regex6 = re.search(r\"\\d?[-\\s]?\\d+$\", text.strip())\n",
    "\n",
    "regex_lst = [regex1, regex2, regex3, regex4, regex5, regex6]\n",
    "for index, regex in enumerate(regex_lst):\n",
    "    print(f\"Regex Number {index+1}\")\n",
    "    print(isThere_v1(regex,text) + \"\\n\")"
   ]
  },
  {
   "cell_type": "markdown",
   "metadata": {
    "heading_collapsed": true,
    "hidden": true
   },
   "source": [
    "### **Findall**  "
   ]
  },
  {
   "cell_type": "code",
   "execution_count": 13,
   "metadata": {
    "ExecuteTime": {
     "end_time": "2020-12-28T16:20:08.743510Z",
     "start_time": "2020-12-28T16:20:08.736530Z"
    },
    "hidden": true
   },
   "outputs": [
    {
     "name": "stdout",
     "output_type": "stream",
     "text": [
      "Regex Number 7\n",
      "Uow phone numbers:\n",
      "[' 996349889', ' 96359889', ' 9', '-96349889', ' 9', '-9634', '-9889', ' 42256889', ' 4225', '-6889', ' 99634', ' 9889', ' 9', ' 96349889'] !\n",
      "\n",
      "Regex Number 8\n",
      "Uow phone numbers:\n",
      "['996349889', ' 96359889', ' 9-96349889', ' 9-9634', '-9889', ' 42256889', ' 4225-6889', ' 99634 9889', ' 9 96349889'] !\n",
      "\n",
      "Regex Number 9\n",
      "Uow phone numbers:\n",
      "['996349889', ' 96359889', '9-96349889', '9-9634-9889', ' 42256889', ' 4225-6889', ' 99634', '9 96349889'] !\n",
      "\n",
      "Regex Number 10\n",
      "Uow phone numbers:\n",
      "['996349889', ' 96359889', '9-96349889', '9-9634-9889', ' 42256889', ' 4225-6889', '99634 9889', '9 96349889'] !\n",
      "\n"
     ]
    }
   ],
   "source": [
    "def isThere_v2(regexObject, text):\n",
    "    if regexObject: return f\"Uow phone numbers:\\n{regexObject} !\"\n",
    "    else: return \"Hey! I did not find it.\"\n",
    "    \n",
    "text = \"\"\" 996349889\n",
    "           96359889\n",
    "           9-96349889\n",
    "           \n",
    "           9-9634-9889\n",
    "           42256889\n",
    "           4225-6889\n",
    "           \n",
    "           99634 9889\n",
    "           9 96349889\n",
    "       \"\"\"\n",
    "#findall looks for every possible match.\n",
    "\n",
    "regex7  = re.findall(r\"\\d?[-\\s]?\\d+\", text)\n",
    "\"\"\"\n",
    "Why is [... ' 9', '-96349889' ...] splited? \n",
    "\n",
    "Step1: \\d?    is not consumed.\n",
    "Step2: [-\\s]? the whitespace is consumed.\n",
    "Step3: \\d+    Consumes 9 and stop due to the - character.\n",
    "\n",
    "Therefore ' 9' is recognized.\n",
    "\"\"\"\n",
    "\n",
    "regex8  = re.findall(r\"\\d?[-\\s]?\\d+[-\\s]?\\d+\", text.strip())\n",
    "\"\"\"\n",
    "Why is [... ' 9-9634', '-9889' ...] splited? \n",
    "\n",
    "Step1: \\d?    is consumed.\n",
    "Step2: [-\\s]? is consumed.\n",
    "Step3: \\d+    Consumes until the - character\n",
    "Step4: [-\\s]? is not consumed\n",
    "Step5: \\d+    is ignored because the first decimal was consumed in Step3\n",
    "\n",
    "Therefore ' 9-9634' is recognized.\n",
    "\"\"\"\n",
    "\n",
    "#Adds a restrition of 4 decimals in the first part.\n",
    "regex9  = re.findall(r\"\\d?[-\\s]?\\d{4}[-\\s]?\\d+\", text.strip())\n",
    "\n",
    "#Adds a restrition of 4 decimals in the second part forcing a number after the whitespace.\n",
    "regex10 = re.findall(r\"\\d?[-\\s]?\\d{4}[-\\s]?\\d{4}\", text.strip())\n",
    "\n",
    "regex_lst = [regex7, regex8, regex9, regex10]\n",
    "\n",
    "for index, regex in enumerate(regex_lst):\n",
    "    print(f\"Regex Number {index+7}\")\n",
    "    print(isThere_v2(regex,text) + \"\\n\")"
   ]
  },
  {
   "cell_type": "code",
   "execution_count": 14,
   "metadata": {
    "ExecuteTime": {
     "end_time": "2020-12-28T16:22:16.166547Z",
     "start_time": "2020-12-28T16:22:16.160571Z"
    },
    "hidden": true
   },
   "outputs": [
    {
     "name": "stdout",
     "output_type": "stream",
     "text": [
      "Regex Dirty Number 1\n",
      "Uow phone numbers:\n",
      "['996379889', ' 96379889', '9-96379889', '9-9637-9889', ' 42246889', ' 4224-6889', '99637 9889', '9 96379889', ' 99999999', ' 85885888'] !\n",
      "\n",
      "Regex Dirty Number 2\n",
      "Uow phone numbers:\n",
      "['996379889', ' 96379889', '9-96379889', '9-9637-9889', ' 42246889', ' 4224-6889', '99637 9889', '9 96379889'] !\n",
      "\n",
      "Regex Dirty Number 3\n",
      "Uow phone numbers:\n",
      "['996379889', '96379889', '9-96379889', '9-9637-9889', '42246889', '4224-6889', '99637 9889', '9 96379889'] !\n",
      "\n"
     ]
    }
   ],
   "source": [
    "text_dirty = r\"\"\"996379889\n",
    "                 96379889\n",
    "                 9-96379889\n",
    "                 9-9637-9889\n",
    "                 42246889\n",
    "                 4224-6889\n",
    "                 99637 9889\n",
    "                 9 96379889\n",
    "                 777 777 777\n",
    "                 90 329921 0\n",
    "                 9999999999 9\n",
    "                 8588588899436\n",
    "             \"\"\"\n",
    "\n",
    "#Regex 10\n",
    "regex_dirty1 = re.findall(r\"\\d?[-\\s]?\\d{4}[-\\s]?\\d{4}\", text_dirty.strip())\n",
    "\n",
    "#Adding Negative look behind and negative look ahead\n",
    "regex_dirty2 = re.findall(r\"(?<!\\d)\\d?[-\\s]?\\d{4}[-\\s]?\\d{4}(?!\\d)\", text_dirty.strip())\n",
    "\n",
    "#\\b is a word boundary which depend on the contextkey contexts.\n",
    "regex_dirty3 = re.findall(r\"\\b\\d?[-\\s]?\\d{4}[-\\s]?\\d{4}\\b\", text_dirty.strip())\n",
    "\n",
    "\n",
    "regex_dirty_lst = [regex_dirty1, regex_dirty2, regex_dirty3]\n",
    "\n",
    "for index, result in enumerate(map(lambda x: isThere_v2(x,text_dirty), regex_dirty_lst)):\n",
    "    print(f\"Regex Dirty Number {index+1}\")\n",
    "    print(result + \"\\n\")"
   ]
  },
  {
   "cell_type": "markdown",
   "metadata": {
    "heading_collapsed": true,
    "hidden": true
   },
   "source": [
    "### **Finditer** "
   ]
  },
  {
   "cell_type": "markdown",
   "metadata": {
    "hidden": true
   },
   "source": [
    "This is a lazy method !!"
   ]
  },
  {
   "cell_type": "code",
   "execution_count": 38,
   "metadata": {
    "ExecuteTime": {
     "end_time": "2020-12-28T16:33:50.386515Z",
     "start_time": "2020-12-28T16:33:50.382526Z"
    },
    "hidden": true
   },
   "outputs": [],
   "source": [
    "real_text_example = \"\"\"\n",
    "                    Lorem ipsum dolor sit amet, consectetur adipiscing elit. Duis viverra consectetur sodales. Vestibulum consequat, \n",
    "                    risus in sollicitudin imperdiet, velit 996379889 elit congue sem, vitae aliquet ligula mi eget justo. Nulla facilisi. \n",
    "                    Maecenas a egestas nisi. Morbi purus dolor, ornare ac dui a, eleifend dignissim nunc. Proin pellentesque dolor non lectus pellentesque \n",
    "                    tincidunt. Ut et 345.323.343-9 tempus orci. Duis molestie 9 96379889 cursus tortor vitae pretium. 4224-6889 Donec non sapien neque. Pellentesque urna ligula, finibus a lectus sit amet\n",
    "                    , ultricies cursus metus. Quisque eget orci et turpis faucibus  4224-6889 pharetra. \n",
    "                    \"\"\"\n",
    "match_genarator = re.finditer(r'\\b((?:9[ -]?)?\\d{4}[ \\-]?\\d{4})\\b', real_text_example.strip())"
   ]
  },
  {
   "cell_type": "code",
   "execution_count": 39,
   "metadata": {
    "ExecuteTime": {
     "end_time": "2020-12-28T16:33:50.862495Z",
     "start_time": "2020-12-28T16:33:50.857508Z"
    },
    "hidden": true
   },
   "outputs": [
    {
     "name": "stdout",
     "output_type": "stream",
     "text": [
      "Phone Number: 996379889\n",
      "Text Position: (173, 182)\n",
      "\n",
      "Phone Number: 9 96379889\n",
      "Text Position: (487, 497)\n",
      "\n",
      "Phone Number: 4224-6889\n",
      "Text Position: (527, 536)\n",
      "\n",
      "Phone Number: 4224-6889\n",
      "Text Position: (697, 706)\n",
      "\n"
     ]
    }
   ],
   "source": [
    "for match in match_genarator:\n",
    "    print(f\"Phone Number: {match.group()}\\nText Position: {match.span()}\\n\")"
   ]
  },
  {
   "cell_type": "markdown",
   "metadata": {
    "heading_collapsed": true
   },
   "source": [
    "## **Problem 2** - Format Text"
   ]
  },
  {
   "cell_type": "markdown",
   "metadata": {
    "heading_collapsed": true,
    "hidden": true
   },
   "source": [
    "### **Groups**"
   ]
  },
  {
   "cell_type": "code",
   "execution_count": 17,
   "metadata": {
    "ExecuteTime": {
     "end_time": "2020-12-28T16:37:18.865029Z",
     "start_time": "2020-12-28T16:37:18.860636Z"
    },
    "hidden": true
   },
   "outputs": [],
   "source": [
    "email_text = \"hey my email is: localPart@domain\""
   ]
  },
  {
   "cell_type": "markdown",
   "metadata": {
    "hidden": true
   },
   "source": [
    "Using the parenthesis it is possible to capture a group:"
   ]
  },
  {
   "cell_type": "code",
   "execution_count": 18,
   "metadata": {
    "ExecuteTime": {
     "end_time": "2020-12-28T16:46:10.381311Z",
     "start_time": "2020-12-28T16:46:10.376322Z"
    },
    "hidden": true
   },
   "outputs": [
    {
     "name": "stdout",
     "output_type": "stream",
     "text": [
      "localPart\n",
      "domain\n"
     ]
    }
   ],
   "source": [
    "match = re.search(\"(\\w+)@(\\w+)\", email_text)\n",
    "print(match.group(1))\n",
    "print(match.group(2))"
   ]
  },
  {
   "cell_type": "markdown",
   "metadata": {
    "hidden": true
   },
   "source": [
    "Using the following syntax it is possible to give a name to the group:\n",
    "```?P<name>pattern```"
   ]
  },
  {
   "cell_type": "code",
   "execution_count": 19,
   "metadata": {
    "ExecuteTime": {
     "end_time": "2020-12-28T16:46:11.259327Z",
     "start_time": "2020-12-28T16:46:11.253343Z"
    },
    "hidden": true
   },
   "outputs": [
    {
     "name": "stdout",
     "output_type": "stream",
     "text": [
      "localPart\n",
      "domain\n"
     ]
    }
   ],
   "source": [
    "match = re.search(\"(?P<localPart>\\w+)@(?P<domain>\\w+)\", email_text)\n",
    "print(match.group(\"localPart\"))\n",
    "print(match.group(\"domain\"))"
   ]
  },
  {
   "cell_type": "markdown",
   "metadata": {
    "heading_collapsed": true,
    "hidden": true
   },
   "source": [
    "### **Sub** "
   ]
  },
  {
   "cell_type": "markdown",
   "metadata": {
    "hidden": true
   },
   "source": [
    "Suppose a text with the following structure:\n",
    "\n",
    "```\n",
    "time - day | usage | id, description \\n\n",
    "```\n",
    "\n",
    "Definitely, a unique separator should be used .. However life is tough."
   ]
  },
  {
   "cell_type": "code",
   "execution_count": 20,
   "metadata": {
    "ExecuteTime": {
     "end_time": "2020-12-28T18:02:47.962619Z",
     "start_time": "2020-12-28T18:02:47.955633Z"
    },
    "hidden": true
   },
   "outputs": [
    {
     "name": "stdout",
     "output_type": "stream",
     "text": [
      "\n",
      "         20:18:14 - 21/01 | 0.65 | 3947kedj, No |dia| em que eu saí de casa\n",
      "         25:32:26 - 11/07 | 0.80 | 5679lqui, Minha mãe me disse: |filho|, vem cá\n",
      "         12:13:00 - 12/06 | 0.65 | 5249dqok, Passou a mão em meu cabelos\n",
      "         23:12:35 - 13/03 | 0.77 | 3434afdf, Olhou em meus |olhos|, começou falar\n",
      "         20:22:00 - 12/02 | 0.98 | 1111absd, We are the champions, my friends\n",
      "         22:12:00 - 07/03 | 0.65 | 4092bvds, And we'll keep on |fighting| till the end\n",
      "         22:52:59 - 30/02 | 0.41 | 9021poij, We are the |champions|, we are the champions\n",
      "         21:47:00 - 28/03 | 0.15 | 6342fdpo, No time for |losers|, 'cause we are the champions\n",
      "         19:19:00 - 31/08 | 0.30 | 2314qwen, of the |world|\n",
      "         00:22:21 - 99/99 | 0.00 | 0000aaaa, \n",
      "         \n"
     ]
    }
   ],
   "source": [
    "my_txt = r\"\"\"\n",
    "         20:18:14 - 21/01 | 0.65 | 3947kedj, No |dia| em que eu saí de casa\n",
    "         25:32:26 - 11/07 | 0.80 | 5679lqui, Minha mãe me disse: |filho|, vem cá\n",
    "         12:13:00 - 12/06 | 0.65 | 5249dqok, Passou a mão em meu cabelos\n",
    "         23:12:35 - 13/03 | 0.77 | 3434afdf, Olhou em meus |olhos|, começou falar\n",
    "         20:22:00 - 12/02 | 0.98 | 1111absd, We are the champions, my friends\n",
    "         22:12:00 - 07/03 | 0.65 | 4092bvds, And we'll keep on |fighting| till the end\n",
    "         22:52:59 - 30/02 | 0.41 | 9021poij, We are the |champions|, we are the champions\n",
    "         21:47:00 - 28/03 | 0.15 | 6342fdpo, No time for |losers|, 'cause we are the champions\n",
    "         19:19:00 - 31/08 | 0.30 | 2314qwen, of the |world|\n",
    "         00:22:21 - 99/99 | 0.00 | 0000aaaa, \n",
    "         \"\"\"\n",
    "print(my_txt)"
   ]
  },
  {
   "cell_type": "code",
   "execution_count": 21,
   "metadata": {
    "ExecuteTime": {
     "end_time": "2020-12-28T17:03:49.495819Z",
     "start_time": "2020-12-28T17:03:49.490832Z"
    },
    "hidden": true
   },
   "outputs": [
    {
     "name": "stdout",
     "output_type": "stream",
     "text": [
      "\n",
      "         21/01 - 20:18:14 | 0.65 | 3947kedj, No |dia| em que eu saí de casa\n",
      "         11/07 - 25:32:26 | 0.80 | 5679lqui, Minha mãe me disse: |filho|, vem cá\n",
      "         12/06 - 12:13:00 | 0.65 | 5249dqok, Passou a mão em meu cabelos\n",
      "         13/03 - 23:12:35 | 0.77 | 3434afdf, Olhou em meus |olhos|, começou falar\n",
      "         12/02 - 20:22:00 | 0.98 | 1111absd, We are the champions, my friends\n",
      "         07/03 - 22:12:00 | 0.65 | 4092bvds, And we'll keep on |fighting| till the end\n",
      "         30/02 - 22:52:59 | 0.41 | 9021poij, We are the |champions|, we are the champions\n",
      "         28/03 - 21:47:00 | 0.15 | 6342fdpo, No time for |losers|, 'cause we are the champions\n",
      "         31/08 - 19:19:00 | 0.30 | 2314qwen, of the |world|\n",
      "         99/99 - 00:22:21 | 0.00 | 0000aaaa, \n",
      "         \n"
     ]
    }
   ],
   "source": [
    "#\\g<name> to reference a group.\n",
    "\n",
    "pattern = re.compile(r\"(?P<time>\\d{2}:\\d{2}:\\d{2}) - (?P<day>\\d{2}/\\d{2})\")\n",
    "text = pattern.sub(\"\\g<day> - \\g<time>\",my_txt)\n",
    "print(text)"
   ]
  },
  {
   "cell_type": "code",
   "execution_count": 22,
   "metadata": {
    "ExecuteTime": {
     "end_time": "2020-12-28T17:04:13.873895Z",
     "start_time": "2020-12-28T17:04:13.869906Z"
    },
    "hidden": true
   },
   "outputs": [
    {
     "name": "stdout",
     "output_type": "stream",
     "text": [
      "\n",
      "         20:18:14, 21/01 | 0.65 | 3947kedj, No |dia| em que eu saí de casa\n",
      "         25:32:26, 11/07 | 0.80 | 5679lqui, Minha mãe me disse: |filho|, vem cá\n",
      "         12:13:00, 12/06 | 0.65 | 5249dqok, Passou a mão em meu cabelos\n",
      "         23:12:35, 13/03 | 0.77 | 3434afdf, Olhou em meus |olhos|, começou falar\n",
      "         20:22:00, 12/02 | 0.98 | 1111absd, We are the champions, my friends\n",
      "         22:12:00, 07/03 | 0.65 | 4092bvds, And we'll keep on |fighting| till the end\n",
      "         22:52:59, 30/02 | 0.41 | 9021poij, We are the |champions|, we are the champions\n",
      "         21:47:00, 28/03 | 0.15 | 6342fdpo, No time for |losers|, 'cause we are the champions\n",
      "         19:19:00, 31/08 | 0.30 | 2314qwen, of the |world|\n",
      "         00:22:21, 99/99 | 0.00 | 0000aaaa, \n",
      "         \n"
     ]
    }
   ],
   "source": [
    "#pattern new_text texto\n",
    "\"\"\"\n",
    "Changes an optional whitespace with the - caracter to a comma (,).\n",
    "\"\"\"\n",
    "text = re.sub(r\"\\s?-\", ',', my_txt)\n",
    "print(text)"
   ]
  },
  {
   "cell_type": "code",
   "execution_count": 23,
   "metadata": {
    "ExecuteTime": {
     "end_time": "2020-12-28T17:04:27.858799Z",
     "start_time": "2020-12-28T17:04:27.853814Z"
    },
    "hidden": true
   },
   "outputs": [
    {
     "name": "stdout",
     "output_type": "stream",
     "text": [
      "\n",
      "         20:18:14, 21/01, , |, , 0.65, |, , , 3947kedj, No |dia| em que eu saí de casa\n",
      "         25:32:26, 11/07, , |, , 0.80, |, , , 5679lqui, Minha mãe me disse: |filho|, vem cá\n",
      "         12:13:00, 12/06, , |, , 0.65, |, , , 5249dqok, Passou a mão em meu cabelos\n",
      "         23:12:35, 13/03, , |, , 0.77, |, , , 3434afdf, Olhou em meus |olhos|, começou falar\n",
      "         20:22:00, 12/02, , |, , 0.98, |, , , 1111absd, We are the champions, my friends\n",
      "         22:12:00, 07/03, , |, , 0.65, |, , , 4092bvds, And we'll keep on |fighting| till the end\n",
      "         22:52:59, 30/02, , |, , 0.41, |, , , 9021poij, We are the |champions|, we are the champions\n",
      "         21:47:00, 28/03, , |, , 0.15, |, , , 6342fdpo, No time for |losers|, 'cause we are the champions\n",
      "         19:19:00, 31/08, , |, , 0.30, |, , , 2314qwen, of the |world|\n",
      "         00:22:21, 99/99, , |, , 0.00, |, , , 0000aaaa, \n",
      "         \n"
     ]
    }
   ],
   "source": [
    "#pattern new_text texto\n",
    "\n",
    "\"\"\"\n",
    "Do not forget to escape meaninful caracters :) \n",
    "\n",
    "the dot character is escaped however, the pipe character is not :(\n",
    "\"\"\"\n",
    "\n",
    "pattern = r\"(?P<time>\\d{2}:\\d{2}:\\d{2}) - (?P<day>\\d{2}/\\d{2}) | (?P<usage>\\d\\.\\d{2}) | (?P<id>\\d{4}\\w{4})\"\n",
    "new_text = r\"\\g<time>, \\g<day>, \\g<usage>, \\g<id>\"\n",
    "text = re.sub(pattern, new_text, my_txt)\n",
    "\n",
    "print(text)"
   ]
  },
  {
   "cell_type": "code",
   "execution_count": 24,
   "metadata": {
    "ExecuteTime": {
     "end_time": "2020-12-28T17:09:02.623641Z",
     "start_time": "2020-12-28T17:09:02.619623Z"
    },
    "hidden": true
   },
   "outputs": [
    {
     "name": "stdout",
     "output_type": "stream",
     "text": [
      "\n",
      "         20:18:14, 21/01, 0.65, 3947kedj, No |dia| em que eu saí de casa\n",
      "         25:32:26, 11/07, 0.80, 5679lqui, Minha mãe me disse: |filho|, vem cá\n",
      "         12:13:00, 12/06, 0.65, 5249dqok, Passou a mão em meu cabelos\n",
      "         23:12:35, 13/03, 0.77, 3434afdf, Olhou em meus |olhos|, começou falar\n",
      "         20:22:00, 12/02, 0.98, 1111absd, We are the champions, my friends\n",
      "         22:12:00, 07/03, 0.65, 4092bvds, And we'll keep on |fighting| till the end\n",
      "         22:52:59, 30/02, 0.41, 9021poij, We are the |champions|, we are the champions\n",
      "         21:47:00, 28/03, 0.15, 6342fdpo, No time for |losers|, 'cause we are the champions\n",
      "         19:19:00, 31/08, 0.30, 2314qwen, of the |world|\n",
      "         00:22:21, 99/99, 0.00, 0000aaaa, \n",
      "         \n"
     ]
    }
   ],
   "source": [
    "#pattern new_text texto\n",
    "\n",
    "pattern = \"(?P<time>\\d{2}:\\d{2}:\\d{2}) - (?P<day>\\d{2}/\\d{2}) \\| (?P<usage>\\d\\.\\d{2}) \\| (?P<id>\\d{4}\\w{4})\"\n",
    "new_text = \"\\g<time>, \\g<day>, \\g<usage>, \\g<id>\"\n",
    "text = re.sub(pattern, new_text, my_txt)\n",
    "\n",
    "print(text)"
   ]
  },
  {
   "cell_type": "markdown",
   "metadata": {
    "heading_collapsed": true,
    "hidden": true
   },
   "source": [
    "### **Subn**"
   ]
  },
  {
   "cell_type": "markdown",
   "metadata": {
    "hidden": true
   },
   "source": [
    "Similar to ```sub```. It returns a tuple with the new string and the number of substitutions made. "
   ]
  },
  {
   "cell_type": "code",
   "execution_count": 25,
   "metadata": {
    "ExecuteTime": {
     "end_time": "2020-12-28T17:11:10.603683Z",
     "start_time": "2020-12-28T17:11:10.599668Z"
    },
    "hidden": true
   },
   "outputs": [
    {
     "name": "stdout",
     "output_type": "stream",
     "text": [
      "Clean Text Result:\n",
      "\n",
      "         20:18:14, 21/01, 0.65, 3947kedj, No dia em que eu saí de casa\n",
      "         25:32:26, 11/07, 0.80, 5679lqui, Minha mãe me disse: filho, vem cá\n",
      "         12:13:00, 12/06, 0.65, 5249dqok, Passou a mão em meu cabelos\n",
      "         23:12:35, 13/03, 0.77, 3434afdf, Olhou em meus olhos, começou falar\n",
      "         20:22:00, 12/02, 0.98, 1111absd, We are the champions, my friends\n",
      "         22:12:00, 07/03, 0.65, 4092bvds, And we'll keep on fighting till the end\n",
      "         22:52:59, 30/02, 0.41, 9021poij, We are the champions, we are the champions\n",
      "         21:47:00, 28/03, 0.15, 6342fdpo, No time for losers, 'cause we are the champions\n",
      "         19:19:00, 31/08, 0.30, 2314qwen, of the world\n",
      "         00:22:21, 99/99, 0.00, 0000aaaa, \n",
      "         \n",
      "How many mistakes did I make it?\n",
      "14\n"
     ]
    }
   ],
   "source": [
    "#pattern new_text texto\n",
    "\n",
    "pattern = \"\\|\"\n",
    "new_text = \"\"\n",
    "clean_txt, mistakes_count = re.subn(pattern, new_text, text)\n",
    "\n",
    "print(f\"Clean Text Result:\\n{clean_txt}\")\n",
    "print(f\"How many mistakes did I make it?\\n{mistakes_count}\")"
   ]
  },
  {
   "cell_type": "markdown",
   "metadata": {
    "heading_collapsed": true,
    "hidden": true
   },
   "source": [
    "### **Groupdict**"
   ]
  },
  {
   "cell_type": "code",
   "execution_count": 26,
   "metadata": {
    "ExecuteTime": {
     "end_time": "2020-12-28T18:44:49.143354Z",
     "start_time": "2020-12-28T18:44:49.125523Z"
    },
    "hidden": true
   },
   "outputs": [
    {
     "name": "stdout",
     "output_type": "stream",
     "text": [
      "{'time': '20:18:14', 'day': '21/01', 'usage': '0.65', 'id': '3947kedj'}\n",
      "{'time': '25:32:26', 'day': '11/07', 'usage': '0.80', 'id': '5679lqui'}\n",
      "{'time': '12:13:00', 'day': '12/06', 'usage': '0.65', 'id': '5249dqok'}\n",
      "{'time': '23:12:35', 'day': '13/03', 'usage': '0.77', 'id': '3434afdf'}\n",
      "{'time': '20:22:00', 'day': '12/02', 'usage': '0.98', 'id': '1111absd'}\n",
      "{'time': '22:12:00', 'day': '07/03', 'usage': '0.65', 'id': '4092bvds'}\n",
      "{'time': '22:52:59', 'day': '30/02', 'usage': '0.41', 'id': '9021poij'}\n",
      "{'time': '21:47:00', 'day': '28/03', 'usage': '0.15', 'id': '6342fdpo'}\n",
      "{'time': '19:19:00', 'day': '31/08', 'usage': '0.30', 'id': '2314qwen'}\n",
      "{'time': '00:22:21', 'day': '99/99', 'usage': '0.00', 'id': '0000aaaa'}\n"
     ]
    }
   ],
   "source": [
    "#pattern new_text texto\n",
    "\n",
    "\"\"\"\n",
    "Do not forget to escape meaninful caracters :) \n",
    "\n",
    "the dot character is escaped however, the pipe character is not :(\n",
    "\"\"\"\n",
    "\n",
    "pattern = r\"(?P<time>\\d{2}:\\d{2}:\\d{2}) - (?P<day>\\d{2}/\\d{2}) \\| (?P<usage>\\d\\.\\d{2}) \\| (?P<id>\\d{4}\\w{4})\"\n",
    "matchs = re.finditer(pattern, my_txt)\n",
    "\n",
    "for match in matchs:\n",
    "    print(match.groupdict())"
   ]
  },
  {
   "cell_type": "markdown",
   "metadata": {
    "heading_collapsed": true
   },
   "source": [
    "## **Performance**"
   ]
  },
  {
   "cell_type": "markdown",
   "metadata": {
    "hidden": true
   },
   "source": [
    ">Programmers waste enormous amounts of time thinking about, or worrying\n",
    "about, the speed of noncritical parts of their programs, and these attempts at\n",
    "efficiency actually have a strong negative impact when debugging and maintenance\n",
    "are considered. We should forget about small efficiencies, say about 97% of the\n",
    "time: premature optimization is the root of all evil. Yet we should not pass up our\n",
    "opportunities in that critical 3%. - Donald Knuth"
   ]
  },
  {
   "cell_type": "markdown",
   "metadata": {
    "hidden": true
   },
   "source": [
    "General:\n",
    "\n",
    "- Don't be greedy.\n",
    "- Reuse compiled patterns.\n",
    "- Be specific."
   ]
  },
  {
   "cell_type": "markdown",
   "metadata": {
    "heading_collapsed": true
   },
   "source": [
    "## References "
   ]
  },
  {
   "cell_type": "markdown",
   "metadata": {
    "hidden": true
   },
   "source": [
    "Book:\n",
    "- Mastering Python Regular Expressions (PACKT) - by: Félix López Víctor Romero\n",
    "\n",
    "Links:\n",
    "- https://developers.google.com/edu/python/regular-expressions"
   ]
  }
 ],
 "metadata": {
  "hide_input": false,
  "kernelspec": {
   "display_name": "Python 3",
   "language": "python",
   "name": "python3"
  },
  "language_info": {
   "codemirror_mode": {
    "name": "ipython",
    "version": 3
   },
   "file_extension": ".py",
   "mimetype": "text/x-python",
   "name": "python",
   "nbconvert_exporter": "python",
   "pygments_lexer": "ipython3",
   "version": "3.8.5"
  },
  "varInspector": {
   "cols": {
    "lenName": 16,
    "lenType": 16,
    "lenVar": 40
   },
   "kernels_config": {
    "python": {
     "delete_cmd_postfix": "",
     "delete_cmd_prefix": "del ",
     "library": "var_list.py",
     "varRefreshCmd": "print(var_dic_list())"
    },
    "r": {
     "delete_cmd_postfix": ") ",
     "delete_cmd_prefix": "rm(",
     "library": "var_list.r",
     "varRefreshCmd": "cat(var_dic_list()) "
    }
   },
   "types_to_exclude": [
    "module",
    "function",
    "builtin_function_or_method",
    "instance",
    "_Feature"
   ],
   "window_display": false
  }
 },
 "nbformat": 4,
 "nbformat_minor": 4
}
