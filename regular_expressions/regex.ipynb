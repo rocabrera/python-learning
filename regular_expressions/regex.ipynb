{
 "cells": [
  {
   "cell_type": "code",
   "execution_count": 1,
   "metadata": {},
   "outputs": [],
   "source": [
    "import re"
   ]
  },
  {
   "cell_type": "markdown",
   "metadata": {},
   "source": [
    "The re module uses a backtracking regular expression engine"
   ]
  },
  {
   "cell_type": "markdown",
   "metadata": {},
   "source": [
    "Regular expressions match text patterns \n",
    "\n",
    "Use case examples:\n",
    "\n",
    "- Check if an email or phone number was written correctly.\n",
    "- Split text by some mark (comma, dot, newline) which may be useful to parse data.\n",
    "- Get content from HTML tags.\n",
    "- Improve your linux command skills."
   ]
  },
  {
   "cell_type": "markdown",
   "metadata": {},
   "source": [
    "However ...\n",
    "\n",
    ">Some people, when confronted with a problem, think \"I know, I'll use regular expressions\". Now they have two problems - Jamie Zawinski, 1997"
   ]
  },
  {
   "cell_type": "markdown",
   "metadata": {
    "collapsed": "true"
   },
   "source": [
    "## **General** "
   ]
  },
  {
   "cell_type": "markdown",
   "metadata": {},
   "source": [
    "Our build blocks are composed of:\n",
    "\n",
    "- Literals\n",
    "- Metacharacter\n",
    " - Backslash: \\\\\n",
    " - Caret: \\^\n",
    " - Dollar Sign: \\$\n",
    " - Dot: \\.\n",
    " - Pipe Symbol: \\|\n",
    " - Question Mark: \\?\n",
    " - Asterisk: \\*\n",
    " - Plus sign: \\+\n",
    " - Opening parenthesis: \\(\n",
    " - Closing parenthesis: \\)\n",
    " - Opening square bracket: \\[\n",
    " - The opening curly brace: \\{\n"
   ]
  },
  {
   "cell_type": "markdown",
   "metadata": {
    "collapsed": "true"
   },
   "source": [
    "### **Literals** "
   ]
  },
  {
   "cell_type": "code",
   "execution_count": 2,
   "metadata": {},
   "outputs": [
    {
     "name": "stdout",
     "output_type": "stream",
     "text": [
      "HERE !!!\n",
      "\n",
      "Sorry pal, you'll starve to death.\n",
      "\n"
     ]
    }
   ],
   "source": [
    "\"\"\"\n",
    "version 1: with compile\n",
    "\"\"\"\n",
    "def areYouHungry_v1(pattern, text):\n",
    "    if match := pattern.search(text): print(\"HERE !!!\\n\")\n",
    "    else: print(\"Sorry pal, you'll starve to death.\\n\")\n",
    "\n",
    "helloWorldRegex = r\"rodrigo\"\n",
    "\n",
    "pattern = re.compile(helloWorldRegex)\n",
    "\n",
    "text1 = \"Where can I find food here? - rodrigo\"\n",
    "text2 = \"Where can I find food here? - Rodrigo\"\n",
    "\n",
    "areYouHungry_v1(pattern,text1)\n",
    "areYouHungry_v1(pattern,text2)"
   ]
  },
  {
   "cell_type": "code",
   "execution_count": 3,
   "metadata": {},
   "outputs": [
    {
     "name": "stdout",
     "output_type": "stream",
     "text": [
      "HERE !!!\n",
      "\n",
      "Sorry pal, you'll starve to death.\n",
      "\n"
     ]
    }
   ],
   "source": [
    "\"\"\"\n",
    "version 2: without compile\n",
    "\"\"\"\n",
    "def areYouHungry_v2(regex, text):\n",
    "    if match := re.search(regex, text): print(\"HERE !!!\\n\")\n",
    "    else: print(\"Sorry pal, you'll starve to death.\\n\")\n",
    "\n",
    "helloWorldRegex = r\"rodrigo\"\n",
    "\n",
    "text1 = \"Where can I find food here? - rodrigo\"\n",
    "text2 = \"Where can I find food here? - Rodrigo\"\n",
    "\n",
    "areYouHungry_v2(helloWorldRegex, text1)\n",
    "areYouHungry_v2(helloWorldRegex, text2)"
   ]
  },
  {
   "cell_type": "markdown",
   "metadata": {
    "collapsed": "true"
   },
   "source": [
    "### **Character classes**"
   ]
  },
  {
   "cell_type": "code",
   "execution_count": 4,
   "metadata": {},
   "outputs": [
    {
     "name": "stdout",
     "output_type": "stream",
     "text": [
      "Beer is also food !!\n",
      "\n",
      "Beer is also food !!\n",
      "\n"
     ]
    }
   ],
   "source": [
    "\"\"\"\n",
    "version 3: classes\n",
    "\"\"\"\n",
    "def areYouHungry_v3(pattern, text):\n",
    "    if match := pattern.search(text): print(\"Beer is also food !!\\n\")\n",
    "    else: print(\"Sorry pal, you'll starve to death.\\n\")\n",
    "\n",
    "helloWorldRegex = r\"[rR]odrigo\"\n",
    "\n",
    "pattern = re.compile(helloWorldRegex)\n",
    "\n",
    "text1 = \"Where can I find food here? - rodrigo\"\n",
    "text2 = \"Where can I find food here? - Rodrigo\"\n",
    "\n",
    "areYouHungry_v3(pattern,text1)\n",
    "areYouHungry_v3(pattern,text2)"
   ]
  },
  {
   "cell_type": "markdown",
   "metadata": {},
   "source": [
    "Usual Classes:\n",
    "\n",
    "- [0-9]: Matches anything between 0 and 9.\n",
    "- [a-z]: Matches anything between a and z.\n",
    "- [A-Z]: Matches anything between A and Z.\n",
    "\n",
    "Predefined Classes:\n",
    "- **\\.** : Matches everything except newline.\n",
    "- Lower Case classes:\n",
    "    - \\d : Same as [0-9].\n",
    "    - \\s : Same as [ \\t\\n\\r\\f\\v] the first character of the class is the whitespace character.\n",
    "    - \\w : Same as [a-zA-Z0-9_] the last character of the class is the underscore character.\n",
    "\n",
    "- Upper Case classes (the negation):\n",
    "    - \\D : Matches non decimal digit, same as [^0-9].\n",
    "    - \\S : Matches any non whitespace character [^ \\t\\n\\r\\f\\v].\n",
    "    - \\W : Matches any non alphanumeric character [^a-zA-Z0-9_] .\n"
   ]
  },
  {
   "cell_type": "markdown",
   "metadata": {},
   "source": [
    "Both codes will do the same ... \n",
    "\n",
    "The re module keeps a cache with come compiled regex so you do not need to compile the regex everytime you call the function (technique called memoization). \n",
    "\n",
    "The first version just give you a fine control ..."
   ]
  },
  {
   "cell_type": "markdown",
   "metadata": {},
   "source": [
    "```Pattern``` was **re.Pattern** variable which has a lot of methods. Let's find out with methods are there using regular expression !!"
   ]
  },
  {
   "cell_type": "code",
   "execution_count": 5,
   "metadata": {},
   "outputs": [
    {
     "data": {
      "text/plain": [
       "'__class__\\n__copy__\\n__deepcopy__\\n__delattr__\\n__dir__\\n__doc__\\n__eq__\\n__format__\\n__ge__\\n__getattribute__\\n__gt__\\n__hash__\\n__init__\\n__init_subclass__\\n__le__\\n__lt__\\n__ne__\\n__new__\\n__reduce__\\n__reduce_ex__\\n__repr__\\n__setattr__\\n__sizeof__\\n__str__\\n__subclasshook__\\nfindall\\nfinditer\\nflags\\nfullmatch\\ngroupindex\\ngroups\\nmatch\\npattern\\nscanner\\nsearch\\nsplit\\nsub\\nsubn'"
      ]
     },
     "execution_count": 5,
     "metadata": {},
     "output_type": "execute_result"
    }
   ],
   "source": [
    "patternText = \"\\n\".join(dir(pattern))\n",
    "patternText"
   ]
  },
  {
   "cell_type": "code",
   "execution_count": 6,
   "metadata": {},
   "outputs": [
    {
     "data": {
      "text/plain": [
       "['findall',\n",
       " 'finditer',\n",
       " 'flags',\n",
       " 'fullmatch',\n",
       " 'groupindex',\n",
       " 'groups',\n",
       " 'match',\n",
       " 'pattern',\n",
       " 'scanner',\n",
       " 'search',\n",
       " 'split',\n",
       " 'sub',\n",
       " 'subn']"
      ]
     },
     "execution_count": 6,
     "metadata": {},
     "output_type": "execute_result"
    }
   ],
   "source": [
    "#Regex for does not start with “__”\n",
    "pattern_list_methods = re.findall(r\"^(?!__).*$\", patternText, re.M)\n",
    "pattern_list_methods"
   ]
  },
  {
   "cell_type": "markdown",
   "metadata": {
    "collapsed": "true"
   },
   "source": [
    "## **Problem 1** - Phone Number"
   ]
  },
  {
   "cell_type": "markdown",
   "metadata": {
    "collapsed": "true"
   },
   "source": [
    "### **Search** "
   ]
  },
  {
   "cell_type": "code",
   "execution_count": 30,
   "metadata": {},
   "outputs": [
    {
     "name": "stdout",
     "output_type": "stream",
     "text": [
      "Regex Number 1\n",
      "Your number is: !\n",
      "\n",
      "Regex Number 2\n",
      "Your number is: 9!\n",
      "\n",
      "Regex Number 3\n",
      "Your number is: 9-96!\n",
      "\n",
      "Regex Number 4\n",
      "Your number is: 9-96379889!\n",
      "\n",
      "Regex Number 5\n",
      "Your number is: 96379889!\n",
      "\n",
      "Regex Number 6\n",
      "Your number is: 9 96379889!\n",
      "\n"
     ]
    }
   ],
   "source": [
    "def isThere_v1(regexObject, text):\n",
    "    if regexObject: return f\"Your number is: {regexObject.group()}!\"\n",
    "    else: return \"Hey! I did not find it.\"\n",
    "\n",
    "    \n",
    "text = \"\"\" 9-96379889\n",
    "           996379889\n",
    "           96379889\n",
    "           9-9637-9889\n",
    "\n",
    "           42246889\n",
    "           4224-6889\n",
    "           \n",
    "           99637 9889\n",
    "           9 96379889\n",
    "       \"\"\"\n",
    "\n",
    "#The first character is not a number, but a whitespace.\n",
    "regex1 = re.search(r\"\\d?\", text)\n",
    "\n",
    "#Removing the whitespace character we find the number ! The ? operator means optional\n",
    "regex2 = re.search(r\"\\d?\", text.strip())\n",
    "\n",
    "#Then, it could appear a optional whitespace or -. We also get two decimal character with \\d\\d \n",
    "regex3 = re.search(r\"\\d?-?\\d\\d\", text.strip())\n",
    "\n",
    "#However we want more than one decimal chracter. This can be achievied by using the + operator\n",
    "regex4 = re.search(r\"\\d?-?\\d+\", text.strip())\n",
    "\n",
    "#Looking backwards $\n",
    "regex5 = re.search(r\"\\d?-?\\d+$\", text.strip())\n",
    "\n",
    "#Using class to get - or whitespace\n",
    "regex6 = re.search(r\"\\d?[-\\s]?\\d+$\", text.strip())\n",
    "\n",
    "regex_lst = [regex1, regex2, regex3, regex4, regex5, regex6]\n",
    "for index, regex in enumerate(regex_lst):\n",
    "    print(f\"Regex Number {index+1}\")\n",
    "    print(isThere_v1(regex,text) + \"\\n\")"
   ]
  },
  {
   "cell_type": "markdown",
   "metadata": {
    "collapsed": "true"
   },
   "source": [
    "### **Findall**  "
   ]
  },
  {
   "cell_type": "code",
   "execution_count": 53,
   "metadata": {},
   "outputs": [
    {
     "name": "stdout",
     "output_type": "stream",
     "text": [
      "Regex Number 7\n",
      "Uow phone numbers:\n",
      "[' 996349889', ' 96359889', ' 9', '-96349889', ' 9', '-9634', '-9889', ' 42256889', ' 4225', '-6889', ' 99634', ' 9889', ' 9', ' 96349889'] !\n",
      "\n",
      "Regex Number 8\n",
      "Uow phone numbers:\n",
      "['996349889', ' 96359889', ' 9-96349889', ' 9-9634', '-9889', ' 42256889', ' 4225-6889', ' 99634 9889', ' 9 96349889'] !\n",
      "\n",
      "Regex Number 9\n",
      "Uow phone numbers:\n",
      "['996349889', ' 96359889', '9-96349889', '9-9634-9889', ' 42256889', ' 4225-6889', ' 99634', '9 96349889'] !\n",
      "\n",
      "Regex Number 10\n",
      "Uow phone numbers:\n",
      "['996349889', ' 96359889', '9-96349889', '9-9634-9889', ' 42256889', ' 4225-6889', '99634 9889', '9 96349889'] !\n",
      "\n"
     ]
    }
   ],
   "source": [
    "def isThere_v2(regexObject, text):\n",
    "    if regexObject: return f\"Uow phone numbers:\\n{regexObject} !\"\n",
    "    else: return \"Hey! I did not find it.\"\n",
    "    \n",
    "text = \"\"\" 996349889\n",
    "           96359889\n",
    "           9-96349889\n",
    "           \n",
    "           9-9634-9889\n",
    "           42256889\n",
    "           4225-6889\n",
    "           \n",
    "           99634 9889\n",
    "           9 96349889\n",
    "       \"\"\"\n",
    "#findall looks for every possible match.\n",
    "\n",
    "regex7  = re.findall(r\"\\d?[-\\s]?\\d+\", text)\n",
    "\"\"\"\n",
    "Why is [... ' 9', '-96349889' ...] splited? \n",
    "\n",
    "Step1: \\d?    is not consumed.\n",
    "Step2: [-\\s]? the whitespace is consumed.\n",
    "Step3: \\d+    Consumes 9 and stop due to the - character.\n",
    "\n",
    "Therefore ' 9' is recognized.\n",
    "\"\"\"\n",
    "\n",
    "regex8  = re.findall(r\"\\d?[-\\s]?\\d+[-\\s]?\\d+\", text.strip())\n",
    "\"\"\"\n",
    "Why is [... ' 9-9634', '-9889' ...] splited? \n",
    "\n",
    "Step1: \\d?    is consumed.\n",
    "Step2: [-\\s]? is consumed.\n",
    "Step3: \\d+    Consumes until the - character\n",
    "Step4: [-\\s]? is not consumed\n",
    "Step5: \\d+    is ignored because the first decimal was consumed in Step3\n",
    "\n",
    "Therefore ' 9-9634' is recognized.\n",
    "\"\"\"\n",
    "\n",
    "#Adds a restrition of 4 decimals in the first part.\n",
    "regex9  = re.findall(r\"\\d?[-\\s]?\\d{4}[-\\s]?\\d+\", text.strip())\n",
    "\n",
    "#Adds a restrition of 4 decimals in the second part forcing a number after the whitespace.\n",
    "regex10 = re.findall(r\"\\d?[-\\s]?\\d{4}[-\\s]?\\d{4}\", text.strip())\n",
    "\n",
    "regex_lst = [regex7, regex8, regex9, regex10]\n",
    "\n",
    "for index, regex in enumerate(regex_lst):\n",
    "    print(f\"Regex Number {index+7}\")\n",
    "    print(isThere_v2(regex,text) + \"\\n\")"
   ]
  },
  {
   "cell_type": "code",
   "execution_count": 57,
   "metadata": {},
   "outputs": [
    {
     "name": "stdout",
     "output_type": "stream",
     "text": [
      "Regex Dirty Number 1\n",
      "Uow phone numbers:\n",
      "['996379889', ' 96379889', '9-96379889', '9-9637-9889', ' 42246889', ' 4224-6889', '99637 9889', '9 96379889', ' 99999999', ' 85885888'] !\n",
      "\n",
      "Regex Dirty Number 2\n",
      "Uow phone numbers:\n",
      "['996379889', ' 96379889', '9-96379889', '9-9637-9889', ' 42246889', ' 4224-6889', '99637 9889', '9 96379889'] !\n",
      "\n",
      "Regex Dirty Number 3\n",
      "Uow phone numbers:\n",
      "['996379889', '96379889', '9-96379889', '9-9637-9889', '42246889', '4224-6889', '99637 9889', '9 96379889'] !\n",
      "\n"
     ]
    }
   ],
   "source": [
    "text_dirty = r\"\"\"996379889\n",
    "                 96379889\n",
    "                 9-96379889\n",
    "                 9-9637-9889\n",
    "                 42246889\n",
    "                 4224-6889\n",
    "                 99637 9889\n",
    "                 9 96379889\n",
    "                 777 777 777\n",
    "                 90 329921 0\n",
    "                 9999999999 9\n",
    "                 8588588899436\n",
    "             \"\"\"\n",
    "\n",
    "#Regex 10\n",
    "regex_dirty1 = re.findall(r\"\\d?[-\\s]?\\d{4}[-\\s]?\\d{4}\", text_dirty.strip())\n",
    "\n",
    "#Adding Negative look behind and negative look ahead\n",
    "regex_dirty2 = re.findall(r\"(?<!\\d)\\d?[-\\s]?\\d{4}[-\\s]?\\d{4}(?!\\d)\", text_dirty.strip())\n",
    "\n",
    "#A hard solution that\n",
    "regex_dirty3 = re.findall(r'\\b((?:9[ -]?)?\\d{4}[ \\-]?\\d{4})\\b', text_dirty.strip())\n",
    "\n",
    "\n",
    "regex_dirty_lst = [regex_dirty1, regex_dirty2, regex_dirty3]\n",
    "\n",
    "for index, result in enumerate(map(lambda x: isThere_v2(x,text_dirty), regex_dirty_lst)):\n",
    "    print(f\"Regex Dirty Number {index+1}\")\n",
    "    print(result + \"\\n\")"
   ]
  },
  {
   "cell_type": "markdown",
   "metadata": {
    "collapsed": "true"
   },
   "source": [
    "### **Finditer** "
   ]
  },
  {
   "cell_type": "code",
   "execution_count": 88,
   "metadata": {},
   "outputs": [],
   "source": [
    "real_text_example = \"\"\"\n",
    "                    Lorem ipsum dolor sit amet, consectetur adipiscing elit. Duis viverra consectetur sodales. Vestibulum consequat, \n",
    "                    risus in sollicitudin imperdiet, velit 996379889 elit congue sem, vitae aliquet ligula mi eget justo. Nulla facilisi. \n",
    "                    Maecenas a egestas nisi. Morbi purus dolor, ornare ac dui a, eleifend dignissim nunc. Proin pellentesque dolor non lectus pellentesque \n",
    "                    tincidunt. Ut et 345.323.343-9 tempus orci. Duis molestie 9 96379889 cursus tortor vitae pretium. 4224-6889 Donec non sapien neque. Pellentesque urna ligula, finibus a lectus sit amet\n",
    "                    , ultricies cursus metus. Quisque eget orci et turpis faucibus  4224-6889 pharetra. \n",
    "                    \"\"\"\n",
    "match_genarator = re.finditer(r'\\b((?:9[ -]?)?\\d{4}[ \\-]?\\d{4})\\b', real_text_example.strip())"
   ]
  },
  {
   "cell_type": "code",
   "execution_count": 89,
   "metadata": {},
   "outputs": [
    {
     "name": "stdout",
     "output_type": "stream",
     "text": [
      "Phone Number: 996379889\n",
      "Text Position: (173, 182)\n",
      "\n",
      "Phone Number: 9 96379889\n",
      "Text Position: (487, 497)\n",
      "\n",
      "Phone Number: 4224-6889\n",
      "Text Position: (527, 536)\n",
      "\n",
      "Phone Number: 4224-6889\n",
      "Text Position: (697, 706)\n",
      "\n"
     ]
    }
   ],
   "source": [
    "for match in match_genarator:\n",
    "    print(f\"Phone Number: {match.group()}\\nText Position: {match.span()}\\n\")"
   ]
  },
  {
   "cell_type": "markdown",
   "metadata": {},
   "source": [
    "## **Problem 2** - Email"
   ]
  },
  {
   "cell_type": "markdown",
   "metadata": {},
   "source": [
    "### **Groups**"
   ]
  },
  {
   "cell_type": "code",
   "execution_count": 96,
   "metadata": {},
   "outputs": [],
   "source": [
    "email_text = \"hey my email is: localPart@domain\""
   ]
  },
  {
   "cell_type": "markdown",
   "metadata": {},
   "source": [
    "Using the parenthesis it is possible to capture a group:"
   ]
  },
  {
   "cell_type": "code",
   "execution_count": 105,
   "metadata": {},
   "outputs": [
    {
     "name": "stdout",
     "output_type": "stream",
     "text": [
      "localPart\n",
      "domain\n"
     ]
    }
   ],
   "source": [
    "match = re.search(\"(\\w+)@(\\w+)\", email_text)\n",
    "print(match.group(1))\n",
    "print(match.group(2))"
   ]
  },
  {
   "cell_type": "markdown",
   "metadata": {},
   "source": [
    "Using the following syntax it is possible to give a name to the group:\n",
    "```?P<name>pattern```"
   ]
  },
  {
   "cell_type": "code",
   "execution_count": 106,
   "metadata": {},
   "outputs": [
    {
     "name": "stdout",
     "output_type": "stream",
     "text": [
      "localPart\n",
      "domain\n"
     ]
    }
   ],
   "source": [
    "match = re.search(\"(?P<localPart>\\w+)@(?P<domain>\\w+)\", email_text)\n",
    "print(match.group(\"localPart\"))\n",
    "print(match.group(\"domain\"))"
   ]
  },
  {
   "cell_type": "markdown",
   "metadata": {},
   "source": [
    "### **sub** "
   ]
  },
  {
   "cell_type": "markdown",
   "metadata": {},
   "source": [
    "Suppose a text with the following structure:\n",
    "\n",
    "```\n",
    "time - day | usage | id, description \\n\n",
    "```\n",
    "\n",
    "Definitely, a unique separator should be used .. However life is tough."
   ]
  },
  {
   "cell_type": "code",
   "execution_count": null,
   "metadata": {},
   "outputs": [],
   "source": [
    "my_txt = r\"\"\"\n",
    "         20:18:14 - 21/01 | 0.65 | 3947kedj, No dia em que eu saí de casa\\n\n",
    "         25:32:26 - 11/07 | 0.80 | 5679lqui, Minha mãe me disse: filho, vem cá\\n\n",
    "         12:13:00 - 12/06 | 0.65 | 5249dqok, Passou a mão em meus cabelos\\n\n",
    "         23:12:35 - 13/03 | 0.77 | 3434afdf, Olhou em meus olhos, começou falar\\n\n",
    "         20:22:00 - 12/02 | 0.98 | 1111absd, We are the champions, my friends\\n\n",
    "         22:12:00 - 07/03 | 0.65 | 4092bvds, And we'll keep on fighting till the end\\n\n",
    "         22:52:59 - 30/02 | 0.41 | 9021poij, We are the champions, we are the champions\\n\n",
    "         21:47:00 - 28/03 | 0.15 | 6342fdpo, No time for losers, 'cause we are the champions\\n\n",
    "         19:19:00 - 31/08 | 0.30 | 2314qwen, of the world\\n\n",
    "         xx:yy:zz - xx/yy | 0.00 | 0000aaaa,\\n\n",
    "         \"\"\""
   ]
  },
  {
   "cell_type": "code",
   "execution_count": null,
   "metadata": {},
   "outputs": [],
   "source": [
    "pattern = re.compile(r\"(?P<time>\\d{2}:\\d{2}:\\d{2}) - (?P<day>\\d{2}/\\d{2}) | (?P<usage>\\d\\.\\d{2}) | (?P<id>\\d\\.\\d{2}), (?P<id>\\w*)\")\n",
    "pattern.search(my_txt)"
   ]
  },
  {
   "cell_type": "markdown",
   "metadata": {},
   "source": [
    "## **Performance**"
   ]
  },
  {
   "cell_type": "markdown",
   "metadata": {},
   "source": [
    ">Programmers waste enormous amounts of time thinking about, or worrying\n",
    "about, the speed of noncritical parts of their programs, and these attempts at\n",
    "efficiency actually have a strong negative impact when debugging and maintenance\n",
    "are considered. We should forget about small efficiencies, say about 97% of the\n",
    "time: premature optimization is the root of all evil. Yet we should not pass up our\n",
    "opportunities in that critical 3%. - Donald Knuth"
   ]
  },
  {
   "cell_type": "markdown",
   "metadata": {},
   "source": [
    "General:\n",
    "\n",
    "- Don't be greedy.\n",
    "- Reuse compiled patterns.\n",
    "- Be specific."
   ]
  }
 ],
 "metadata": {
  "kernelspec": {
   "display_name": "venv_playground",
   "language": "python",
   "name": "venv_playground"
  },
  "language_info": {
   "codemirror_mode": {
    "name": "ipython",
    "version": 3
   },
   "file_extension": ".py",
   "mimetype": "text/x-python",
   "name": "python",
   "nbconvert_exporter": "python",
   "pygments_lexer": "ipython3",
   "version": "3.8.5"
  }
 },
 "nbformat": 4,
 "nbformat_minor": 4
}
