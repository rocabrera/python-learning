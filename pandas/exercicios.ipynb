{
 "cells": [
  {
   "cell_type": "code",
   "execution_count": 1,
   "metadata": {},
   "outputs": [],
   "source": [
    "import numpy as np\n",
    "import pandas as pd\n",
    "import os\n",
    "import re"
   ]
  },
  {
   "cell_type": "code",
   "execution_count": 2,
   "metadata": {},
   "outputs": [
    {
     "data": {
      "text/plain": [
       "'data/preco_medicamento.csv'"
      ]
     },
     "execution_count": 2,
     "metadata": {},
     "output_type": "execute_result"
    }
   ],
   "source": [
    "folder_path = \"data\"\n",
    "file_name   = \"preco_medicamento.csv\"\n",
    "file_path   = os.path.join(folder_path,file_name)\n",
    "file_path"
   ]
  },
  {
   "cell_type": "markdown",
   "metadata": {
    "collapsed": "true"
   },
   "source": [
    "### **Ler o arquivo** "
   ]
  },
  {
   "cell_type": "markdown",
   "metadata": {},
   "source": [
    "<details><summary><b>SPOILER (Resposta para continuar o exercicio)</b></summary>\n",
    "    \n",
    "```python\n",
    "df = pd.read_csv(path, encoding=\"latin-1\", sep=\";\")\n",
    "```\n",
    "\n",
    "Obs: comando ```file``` pode trazer informações interessantes sobre o problema."
   ]
  },
  {
   "cell_type": "code",
   "execution_count": 3,
   "metadata": {},
   "outputs": [],
   "source": [
    "df = pd.read_csv(file_path, encoding=\"latin-1\", sep=\";\")"
   ]
  },
  {
   "cell_type": "markdown",
   "metadata": {
    "collapsed": "true"
   },
   "source": [
    "### **Checar dataframe**"
   ]
  },
  {
   "cell_type": "markdown",
   "metadata": {},
   "source": [
    "1. Mostrar a quantidade de linhas e colunas.\n",
    "2. Mostrar o tipo de dado de cada coluna.\n",
    "3. Mostrar a quantidade de dados faltantes em cada coluna. Se houver, remover  as linhas faltantes.\n",
    "4. Checar existência de linhas duplicadas (Caso exista remover)."
   ]
  },
  {
   "cell_type": "markdown",
   "metadata": {},
   "source": [
    "**Parte 1**"
   ]
  },
  {
   "cell_type": "code",
   "execution_count": 4,
   "metadata": {},
   "outputs": [
    {
     "name": "stdout",
     "output_type": "stream",
     "text": [
      "Linhas: 24291, Colunas: 5\n"
     ]
    }
   ],
   "source": [
    "print(f\"Linhas: {df.shape[0]}, Colunas: {df.shape[1]}\")"
   ]
  },
  {
   "cell_type": "markdown",
   "metadata": {},
   "source": [
    "**Parte 2**"
   ]
  },
  {
   "cell_type": "code",
   "execution_count": 5,
   "metadata": {},
   "outputs": [
    {
     "data": {
      "text/plain": [
       "SUBSTÂNCIA              object\n",
       "PF 17% ALC              object\n",
       "PF 17                   object\n",
       "TIPO DE PRODUTO         object\n",
       "COMERCIALIZAÇÃO 2019    object\n",
       "dtype: object"
      ]
     },
     "execution_count": 5,
     "metadata": {},
     "output_type": "execute_result"
    }
   ],
   "source": [
    "df.dtypes"
   ]
  },
  {
   "cell_type": "markdown",
   "metadata": {},
   "source": [
    "**Parte 3**"
   ]
  },
  {
   "cell_type": "code",
   "execution_count": 6,
   "metadata": {},
   "outputs": [
    {
     "data": {
      "text/plain": [
       "SUBSTÂNCIA                0\n",
       "PF 17% ALC              772\n",
       "PF 17                   772\n",
       "TIPO DE PRODUTO           0\n",
       "COMERCIALIZAÇÃO 2019      0\n",
       "dtype: int64"
      ]
     },
     "execution_count": 6,
     "metadata": {},
     "output_type": "execute_result"
    }
   ],
   "source": [
    "def meuPrint(x):\n",
    "    return np.sum(x)\n",
    "\n",
    "df.isna().apply(meuPrint, axis=0)"
   ]
  },
  {
   "cell_type": "code",
   "execution_count": 7,
   "metadata": {},
   "outputs": [],
   "source": [
    "df.dropna(inplace=True)"
   ]
  },
  {
   "cell_type": "code",
   "execution_count": 8,
   "metadata": {},
   "outputs": [],
   "source": [
    "df.reset_index(drop=True,inplace=True)"
   ]
  },
  {
   "cell_type": "markdown",
   "metadata": {},
   "source": [
    "**Parte 4**"
   ]
  },
  {
   "cell_type": "code",
   "execution_count": 9,
   "metadata": {},
   "outputs": [
    {
     "data": {
      "text/html": [
       "<div>\n",
       "<style scoped>\n",
       "    .dataframe tbody tr th:only-of-type {\n",
       "        vertical-align: middle;\n",
       "    }\n",
       "\n",
       "    .dataframe tbody tr th {\n",
       "        vertical-align: top;\n",
       "    }\n",
       "\n",
       "    .dataframe thead th {\n",
       "        text-align: right;\n",
       "    }\n",
       "</style>\n",
       "<table border=\"1\" class=\"dataframe\">\n",
       "  <thead>\n",
       "    <tr style=\"text-align: right;\">\n",
       "      <th></th>\n",
       "      <th>SUBSTÂNCIA</th>\n",
       "      <th>PF 17% ALC</th>\n",
       "      <th>PF 17</th>\n",
       "      <th>TIPO DE PRODUTO</th>\n",
       "      <th>COMERCIALIZAÇÃO 2019</th>\n",
       "    </tr>\n",
       "  </thead>\n",
       "  <tbody>\n",
       "    <tr>\n",
       "      <th>0</th>\n",
       "      <td>CLORIDRATO DE MEMANTINA</td>\n",
       "      <td>155,54</td>\n",
       "      <td>155,54</td>\n",
       "      <td>Similar</td>\n",
       "      <td>Sim</td>\n",
       "    </tr>\n",
       "    <tr>\n",
       "      <th>1</th>\n",
       "      <td>ITRACONAZOL</td>\n",
       "      <td>4451,41</td>\n",
       "      <td>4451,41</td>\n",
       "      <td>Similar</td>\n",
       "      <td>NÃ£o</td>\n",
       "    </tr>\n",
       "    <tr>\n",
       "      <th>2</th>\n",
       "      <td>RAMELTEONA</td>\n",
       "      <td>21,30</td>\n",
       "      <td>24,47</td>\n",
       "      <td>Novo</td>\n",
       "      <td>NÃ£o</td>\n",
       "    </tr>\n",
       "    <tr>\n",
       "      <th>3</th>\n",
       "      <td>NICOTINAMIDA;NITRATO DE TIAMINA;GLICINATO FÃR...</td>\n",
       "      <td>14,52</td>\n",
       "      <td>16,68</td>\n",
       "      <td>EspecÃ­fico</td>\n",
       "      <td>Sim</td>\n",
       "    </tr>\n",
       "    <tr>\n",
       "      <th>4</th>\n",
       "      <td>MESILATO DE DOXAZOSINA</td>\n",
       "      <td>77,37</td>\n",
       "      <td>77,37</td>\n",
       "      <td>Similar</td>\n",
       "      <td>NÃ£o</td>\n",
       "    </tr>\n",
       "    <tr>\n",
       "      <th>...</th>\n",
       "      <td>...</td>\n",
       "      <td>...</td>\n",
       "      <td>...</td>\n",
       "      <td>...</td>\n",
       "      <td>...</td>\n",
       "    </tr>\n",
       "    <tr>\n",
       "      <th>20907</th>\n",
       "      <td>LACTATO DE SÃDIO;CLORETO DE POTÃSSIO;CLORETO...</td>\n",
       "      <td>213,31</td>\n",
       "      <td>213,31</td>\n",
       "      <td>Similar</td>\n",
       "      <td>Sim</td>\n",
       "    </tr>\n",
       "    <tr>\n",
       "      <th>20908</th>\n",
       "      <td>BISSULFATO DE CLOPIDOGREL</td>\n",
       "      <td>36,42</td>\n",
       "      <td>36,42</td>\n",
       "      <td>GenÃ©rico</td>\n",
       "      <td>Sim</td>\n",
       "    </tr>\n",
       "    <tr>\n",
       "      <th>20909</th>\n",
       "      <td>CLORETO DE POTÃSSIO</td>\n",
       "      <td>9,47</td>\n",
       "      <td>10,87</td>\n",
       "      <td>Similar</td>\n",
       "      <td>Sim</td>\n",
       "    </tr>\n",
       "    <tr>\n",
       "      <th>20910</th>\n",
       "      <td>ETABONATO DE LOTEPREDNOL</td>\n",
       "      <td>48,94</td>\n",
       "      <td>48,94</td>\n",
       "      <td>Novo</td>\n",
       "      <td>Sim</td>\n",
       "    </tr>\n",
       "    <tr>\n",
       "      <th>20911</th>\n",
       "      <td>ALBUMINA HUMANA</td>\n",
       "      <td>2794,42</td>\n",
       "      <td>2794,42</td>\n",
       "      <td>Similar</td>\n",
       "      <td>NÃ£o</td>\n",
       "    </tr>\n",
       "  </tbody>\n",
       "</table>\n",
       "<p>20912 rows × 5 columns</p>\n",
       "</div>"
      ],
      "text/plain": [
       "                                              SUBSTÂNCIA PF 17% ALC    PF 17  \\\n",
       "0                                CLORIDRATO DE MEMANTINA     155,54   155,54   \n",
       "1                                            ITRACONAZOL    4451,41  4451,41   \n",
       "2                                             RAMELTEONA      21,30    24,47   \n",
       "3      NICOTINAMIDA;NITRATO DE TIAMINA;GLICINATO FÃR...      14,52    16,68   \n",
       "4                                 MESILATO DE DOXAZOSINA      77,37    77,37   \n",
       "...                                                  ...        ...      ...   \n",
       "20907  LACTATO DE SÃDIO;CLORETO DE POTÃSSIO;CLORETO...     213,31   213,31   \n",
       "20908                          BISSULFATO DE CLOPIDOGREL      36,42    36,42   \n",
       "20909                               CLORETO DE POTÃSSIO       9,47    10,87   \n",
       "20910                           ETABONATO DE LOTEPREDNOL      48,94    48,94   \n",
       "20911                                    ALBUMINA HUMANA    2794,42  2794,42   \n",
       "\n",
       "      TIPO DE PRODUTO COMERCIALIZAÇÃO 2019  \n",
       "0             Similar                  Sim  \n",
       "1             Similar                 NÃ£o  \n",
       "2                Novo                 NÃ£o  \n",
       "3         EspecÃ­fico                  Sim  \n",
       "4             Similar                 NÃ£o  \n",
       "...               ...                  ...  \n",
       "20907         Similar                  Sim  \n",
       "20908       GenÃ©rico                  Sim  \n",
       "20909         Similar                  Sim  \n",
       "20910            Novo                  Sim  \n",
       "20911         Similar                 NÃ£o  \n",
       "\n",
       "[20912 rows x 5 columns]"
      ]
     },
     "execution_count": 9,
     "metadata": {},
     "output_type": "execute_result"
    }
   ],
   "source": [
    "df = df.drop_duplicates().reset_index(drop=True)\n",
    "df"
   ]
  },
  {
   "cell_type": "markdown",
   "metadata": {},
   "source": [
    "### **Estatisticas das variáveis** "
   ]
  },
  {
   "cell_type": "markdown",
   "metadata": {},
   "source": [
    "1. Calcular média e desvio padrão para as variáveis \"PF 17% ALC\" e \"PF 17\"\n",
    "2. Na variável comercialização_2019 mapear para 1 quando for \"Sim\" e 0 quando for \"Não\". Caso seja outro valor dropar a linha.\n",
    "3. Calcular a média e desvio padrão para as variáveis \"PF 17% ALC\" e \"PF 17\" quando `COMERCIALIZAÇÃO 2019` é 1, e para quando `COMERCIALIZAÇÃO 2019` é 0."
   ]
  },
  {
   "cell_type": "markdown",
   "metadata": {},
   "source": [
    "**Parte 1**"
   ]
  },
  {
   "cell_type": "code",
   "execution_count": 10,
   "metadata": {},
   "outputs": [],
   "source": [
    "df[\"PF 17% ALC\"] = df[\"PF 17% ALC\"].apply(lambda x: float(x.replace(\",\",\".\")))\n",
    "\n",
    "df[\"PF 17\"] = df[\"PF 17\"].apply(lambda x: float(x.replace(\",\",\".\")))"
   ]
  },
  {
   "cell_type": "code",
   "execution_count": 11,
   "metadata": {},
   "outputs": [
    {
     "data": {
      "text/plain": [
       "0         155.54\n",
       "1        4451.41\n",
       "2          24.47\n",
       "3          16.68\n",
       "4          77.37\n",
       "          ...   \n",
       "20907     213.31\n",
       "20908      36.42\n",
       "20909      10.87\n",
       "20910      48.94\n",
       "20911    2794.42\n",
       "Name: PF 17, Length: 20912, dtype: float64"
      ]
     },
     "execution_count": 11,
     "metadata": {},
     "output_type": "execute_result"
    }
   ],
   "source": [
    "df[\"PF 17\"]"
   ]
  },
  {
   "cell_type": "code",
   "execution_count": 12,
   "metadata": {},
   "outputs": [
    {
     "data": {
      "text/plain": [
       "(836.3998885807191, 7198.428925730309)"
      ]
     },
     "execution_count": 12,
     "metadata": {},
     "output_type": "execute_result"
    }
   ],
   "source": [
    "df[\"PF 17% ALC\"].mean(),df[\"PF 17% ALC\"].std()"
   ]
  },
  {
   "cell_type": "code",
   "execution_count": 13,
   "metadata": {},
   "outputs": [
    {
     "data": {
      "text/plain": [
       "0         Sim\n",
       "1        NÃ£o\n",
       "2        NÃ£o\n",
       "3         Sim\n",
       "4        NÃ£o\n",
       "         ... \n",
       "20907     Sim\n",
       "20908     Sim\n",
       "20909     Sim\n",
       "20910     Sim\n",
       "20911    NÃ£o\n",
       "Name: COMERCIALIZAÇÃO 2019, Length: 20912, dtype: object"
      ]
     },
     "execution_count": 13,
     "metadata": {},
     "output_type": "execute_result"
    }
   ],
   "source": [
    "def myFunc(x):\n",
    "    if x == \"Sim\":\n",
    "        return 1\n",
    "    elif x == \"Siim\":\n",
    "        return 1\n",
    "    else:\n",
    "        return 0\n",
    "\n",
    "df[\"COMERCIALIZAÇÃO 2019\"]"
   ]
  },
  {
   "cell_type": "code",
   "execution_count": 14,
   "metadata": {},
   "outputs": [
    {
     "data": {
      "text/plain": [
       "0        1\n",
       "1        0\n",
       "2        0\n",
       "3        1\n",
       "4        0\n",
       "        ..\n",
       "20907    1\n",
       "20908    1\n",
       "20909    1\n",
       "20910    1\n",
       "20911    0\n",
       "Name: COMERCIALIZAÇÃO 2019, Length: 20912, dtype: int64"
      ]
     },
     "execution_count": 14,
     "metadata": {},
     "output_type": "execute_result"
    }
   ],
   "source": [
    "df[\"COMERCIALIZAÇÃO 2019\"].apply(myFunc)"
   ]
  },
  {
   "cell_type": "code",
   "execution_count": 15,
   "metadata": {},
   "outputs": [],
   "source": [
    "df[\"COMERCIALIZAÇÃO 2019\"] = df[df[\"COMERCIALIZAÇÃO 2019\"] != \"???\"][\"COMERCIALIZAÇÃO 2019\"].apply(lambda x: 1 if x == \"Sim\" else 0)"
   ]
  },
  {
   "cell_type": "code",
   "execution_count": 24,
   "metadata": {},
   "outputs": [],
   "source": [
    "positivo = df[df[\"COMERCIALIZAÇÃO 2019\"] == 1][\"PF 17% ALC\"]\n",
    "negativo = df[df[\"COMERCIALIZAÇÃO 2019\"] == 0][\"PF 17% ALC\"]"
   ]
  },
  {
   "cell_type": "code",
   "execution_count": 29,
   "metadata": {},
   "outputs": [
    {
     "data": {
      "text/plain": [
       "(631.9131473636775, 5286.846135579722)"
      ]
     },
     "execution_count": 29,
     "metadata": {},
     "output_type": "execute_result"
    }
   ],
   "source": [
    "positivo.mean(), positivo.std()"
   ]
  },
  {
   "cell_type": "code",
   "execution_count": 28,
   "metadata": {},
   "outputs": [
    {
     "data": {
      "text/plain": [
       "(1067.6121780766096, 8871.519395710295)"
      ]
     },
     "execution_count": 28,
     "metadata": {},
     "output_type": "execute_result"
    }
   ],
   "source": [
    "negativo.mean(), negativo.std()"
   ]
  },
  {
   "cell_type": "code",
   "execution_count": 32,
   "metadata": {},
   "outputs": [
    {
     "data": {
      "text/html": [
       "<div>\n",
       "<style scoped>\n",
       "    .dataframe tbody tr th:only-of-type {\n",
       "        vertical-align: middle;\n",
       "    }\n",
       "\n",
       "    .dataframe tbody tr th {\n",
       "        vertical-align: top;\n",
       "    }\n",
       "\n",
       "    .dataframe thead tr th {\n",
       "        text-align: left;\n",
       "    }\n",
       "\n",
       "    .dataframe thead tr:last-of-type th {\n",
       "        text-align: right;\n",
       "    }\n",
       "</style>\n",
       "<table border=\"1\" class=\"dataframe\">\n",
       "  <thead>\n",
       "    <tr>\n",
       "      <th></th>\n",
       "      <th colspan=\"3\" halign=\"left\">PF 17% ALC</th>\n",
       "      <th>PF 17</th>\n",
       "    </tr>\n",
       "    <tr>\n",
       "      <th></th>\n",
       "      <th>mean</th>\n",
       "      <th>std</th>\n",
       "      <th>min</th>\n",
       "      <th>median</th>\n",
       "    </tr>\n",
       "    <tr>\n",
       "      <th>COMERCIALIZAÇÃO 2019</th>\n",
       "      <th></th>\n",
       "      <th></th>\n",
       "      <th></th>\n",
       "      <th></th>\n",
       "    </tr>\n",
       "  </thead>\n",
       "  <tbody>\n",
       "    <tr>\n",
       "      <th>0.0</th>\n",
       "      <td>1067.612178</td>\n",
       "      <td>8871.519396</td>\n",
       "      <td>0.89</td>\n",
       "      <td>63.165</td>\n",
       "    </tr>\n",
       "    <tr>\n",
       "      <th>1.0</th>\n",
       "      <td>631.913147</td>\n",
       "      <td>5286.846136</td>\n",
       "      <td>0.00</td>\n",
       "      <td>51.010</td>\n",
       "    </tr>\n",
       "  </tbody>\n",
       "</table>\n",
       "</div>"
      ],
      "text/plain": [
       "                       PF 17% ALC                      PF 17\n",
       "                             mean          std   min  median\n",
       "COMERCIALIZAÇÃO 2019                                        \n",
       "0.0                   1067.612178  8871.519396  0.89  63.165\n",
       "1.0                    631.913147  5286.846136  0.00  51.010"
      ]
     },
     "execution_count": 32,
     "metadata": {},
     "output_type": "execute_result"
    }
   ],
   "source": [
    "df.groupby(\"COMERCIALIZAÇÃO 2019\")\\\n",
    "  .agg({\"PF 17% ALC\":[\"mean\",\"std\",\"min\"], \"PF 17\":[\"median\"]})"
   ]
  },
  {
   "cell_type": "markdown",
   "metadata": {},
   "source": [
    "**Parte 2**"
   ]
  },
  {
   "cell_type": "code",
   "execution_count": null,
   "metadata": {},
   "outputs": [],
   "source": []
  },
  {
   "cell_type": "markdown",
   "metadata": {},
   "source": [
    "**Parte 3**"
   ]
  },
  {
   "cell_type": "code",
   "execution_count": null,
   "metadata": {},
   "outputs": [],
   "source": []
  }
 ],
 "metadata": {
  "kernelspec": {
   "display_name": "venv_playground",
   "language": "python",
   "name": "venv_playground"
  },
  "language_info": {
   "codemirror_mode": {
    "name": "ipython",
    "version": 3
   },
   "file_extension": ".py",
   "mimetype": "text/x-python",
   "name": "python",
   "nbconvert_exporter": "python",
   "pygments_lexer": "ipython3",
   "version": "3.8.5"
  }
 },
 "nbformat": 4,
 "nbformat_minor": 4
}
