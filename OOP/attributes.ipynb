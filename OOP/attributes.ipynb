{
 "cells": [
  {
   "cell_type": "markdown",
   "metadata": {},
   "source": [
    "1 - Como se pode acessar o atributo da seguinte classe?\n",
    "\n",
    "```python\n",
    "class MyClass:\n",
    "    \n",
    "    def __init__(self):\n",
    "        self.my_attr = \"Acessado\"\n",
    "```\n",
    "\n",
    "- a. MyClass()[\"my_attr\"]\n",
    "- b. MyClass()[my_attr]\n",
    "- *c. MyClass().my_attr\n",
    "- d. MyClass()(my_attr)"
   ]
  },
  {
   "cell_type": "markdown",
   "metadata": {},
   "source": [
    "2 - O que o método '__getitem__' implementado na seguinte classe faz?\n",
    "\n",
    "```python\n",
    "class MyClass:\n",
    "    \n",
    "    def __init__(self):\n",
    "        self.my_attr = \"Acessado\"\n",
    "        \n",
    "    def __getitem__(self,name):\n",
    "        return getattr(self,name)\n",
    "```\n",
    "\n",
    "- *a. Permite acesso aos atributos por string com o operador [] (exemplo: class_istance[\"attr\"]).\n",
    "- b. Permite mudar os nomes dos atributos por string com o operador [] (exemplo: class_istance[\"old_attr\", \"new_attr\"]).\n",
    "- c. Permite acesso aos atributos por string com o operador {} (exemplo: class_istance{\"attr\"}).\n",
    "- d. Trata o caso de acesso de atributos inexistentes.\n"
   ]
  },
  {
   "cell_type": "markdown",
   "metadata": {},
   "source": [
    "3 - A respeito das diferenças entre atributos de classes e atributos de instâncias, quais alternativas estão corretas? \n",
    "\n",
    "\n",
    "- V. Um dos casos de uso de atributos de classe é o armazenamento de constantes.\n",
    "- V. Normalmente, não é aconselhado atributos de classes mutáveis.\n",
    "- F. Um atributo da instância pode ser acessado pela classe.\n",
    "- V. Uma instância pode acessar seus atributos e os atributos de classe."
   ]
  },
  {
   "cell_type": "markdown",
   "metadata": {},
   "source": [
    "4 - Preencha as lacunas para inicializar corretamente\n",
    "\n",
    "\n",
    "```python\n",
    "class Pessoa:\n",
    "    \n",
    "    def __init__(self, name, age):\n",
    "        self.name = name\n",
    "        self.age = age\n",
    "        \n",
    "class CientistaDados(Pessoa): \n",
    "    \n",
    "    def __init__(self, name, age, specialization):\n",
    "        {{GAP}}.__init__({{GAP}}, {{GAP}})\n",
    "        self.specialization = specialization\n",
    "        \n",
    "```\n",
    "\n",
    "\n",
    "alternativas: [name, super, age];\n",
    "aceitas:[\n",
    "    [super],\n",
    "    [name],\n",
    "    [age]\n",
    "]\n"
   ]
  },
  {
   "cell_type": "markdown",
   "metadata": {},
   "source": [
    "5 - Imagine que seu chefe pediu para você fazer a modelagem de dados de uma automobiliária. Você, como programador experiente decide começar a modelagem fazendo uma classe Veículos, que representa motos, carros e caminhões. Quais são os atributos que melhor representam essa classe?\n",
    "\n",
    "- a. quilometragem, tamaho_guidao, largura\n",
    "- b. capacidade_armazenamento, capacidade_pessoas, tem_arcondicionado\n",
    "- c. tamaho_guidao, quantidade_rodas, altura\n",
    "- *d. quantidade_rodas, potencia, capacidade_pessoas."
   ]
  },
  {
   "cell_type": "markdown",
   "metadata": {},
   "source": [
    "6 - Sobre atributos privados em python, quais alternativas estão corretas?\n",
    "\n",
    "- V. Não é possível fazer atributos privados em python.\n",
    "- F. Pode-se importar private da biblioteca padrão functools para tornar atributos privados.\n",
    "- F. Todos atributos são privados por padrão e é necessário criar getters e setters para manipula-los.\n",
    "- V. Indica-se que um atributo é privado com um ou dois underscore ('_') antes do nome da variável."
   ]
  },
  {
   "cell_type": "markdown",
   "metadata": {},
   "source": [
    "7 - Para que utilizamos a palavra reservada self no contexto de classes em python? \n",
    "\n",
    "- a. A palavra self é uma convenção entre programadores, não sendo necessária quando trabalha-se com classes.\n",
    "- *b. Essa palavra é utilizada para indicar uma instância da classe. \n",
    "- c. Essa palavra é utilizada para indicar a classe a qual a instância pertence. \n",
    "- d. A palavra self indica que a classe pode criar mais de uma instância."
   ]
  },
  {
   "cell_type": "markdown",
   "metadata": {},
   "source": [
    "8 - Você estava muito cansado do trablho e resolveu tirar férias em uma praia. Entretanto, você é apaixonado por programação e animais, e  rapidamente a seguinte pergunta passou pela sua cabeça. Será que eu consigo criar uma classe para modelar os Animais? Qual alternativa representa os atributos mais interessantes para sua classe?\n",
    "\n",
    "\n",
    "- a. andar, comer, voar.\n",
    "- b. altura, voar, sexo.\n",
    "- c. cor, nome, sexo.\n",
    "- *d. reino, familia, especie."
   ]
  },
  {
   "cell_type": "markdown",
   "metadata": {},
   "source": [
    "9 - Qual a diferença entre o atributo __name e o atributo _age no seguinte código?\n",
    "\n",
    "\n",
    "```python\n",
    "class Pessoa:\n",
    "    \n",
    "    def __init__(self, name, age):\n",
    "        self._age = age\n",
    "        self.__name = name\n",
    "```\n",
    "\n",
    "- *a. Um único underscore indica ao programador que a variável é privada. Entretanto quando utiliza-se dois underscore o nome do atributo muda, isto é, dessa forma não consiguimos acessar o atributo utilizando somente o nome, como exemplo Pessoa(name, age).__name), dessa forma aumentando o nível de segurança da variável.\n",
    "- b. O atributo _age é privado e __name não é privado, ou seja, pode ser acessado.\n",
    "- c. Não existe diferença para o interpretador do python, isto é somente uma convenção entre os programadores python, onde um underscore indica que a variável pode ser alterada em runtime, enquanto que dois underscore indicam que a variável pode ser alterada durante o runtime do programa.\n",
    "- d. O atributo __name é privado e _age não é privado, ou seja, pode ser acessado."
   ]
  },
  {
   "cell_type": "markdown",
   "metadata": {},
   "source": [
    "10 - Qual é o objetivo do atributo question no seguinte código?\n",
    "\n",
    "```python\n",
    "class Bus:\n",
    "    \n",
    "    question = set()\n",
    "\n",
    "    def __init__(self, passengers):\n",
    "        self.passengers = passengers\n",
    "        \n",
    "        for passenger in passengers:\n",
    "            Bus.question.add(passenger)\n",
    "```\n",
    "   \n",
    "- *a. O objetivo desse atributo é armazenar todos os passageiros que já andaram em pelo menos um ônibus.\n",
    "- b. O objetivo desse atributo é manter uma cópia dos passageiros de um ônibus especifico.\n",
    "- c. O objetivo desse atributo é gravar os passageiros em uma estrutura de dados diferente para rápido acesso.\n",
    "- d. Este código não roda, pois o atributo está errado, falta a palavra self precedendo o nome do atributo, assim como passengers."
   ]
  },
  {
   "cell_type": "markdown",
   "metadata": {},
   "source": [
    "### **Questão maligna** "
   ]
  },
  {
   "cell_type": "code",
   "execution_count": null,
   "metadata": {},
   "outputs": [],
   "source": [
    "class Bus:\n",
    "\n",
    "    def __init__(self, passengers = []):\n",
    "        self.passengers = passengers.copy()\n",
    "\n",
    "    def add_passenger(self, passenger):\n",
    "        self.passengers.extend(passenger)\n",
    "        \n",
    "    def __repr__(self):\n",
    "        return \", \".join(map(str,self.passengers))\n",
    "    \n",
    "    \n",
    "bus1_lst = [\"Joao\", \"Ferreira\", \"Amanda\"]\n",
    "bus2_lst = [\"Pedro\", \"Fernanda\", \"Lucas\"]\n",
    "bus3_lst = [\"Leticia\", \"Wagner\", \"Bruno\"]"
   ]
  },
  {
   "cell_type": "code",
   "execution_count": null,
   "metadata": {},
   "outputs": [],
   "source": [
    "bus1 = Bus(bus1_lst)"
   ]
  },
  {
   "cell_type": "code",
   "execution_count": null,
   "metadata": {},
   "outputs": [],
   "source": [
    "print(bus1)\n",
    "bus1.passengers.pop()\n",
    "print(bus1)"
   ]
  },
  {
   "cell_type": "code",
   "execution_count": null,
   "metadata": {},
   "outputs": [],
   "source": [
    "bus2 = Bus()"
   ]
  },
  {
   "cell_type": "code",
   "execution_count": null,
   "metadata": {},
   "outputs": [],
   "source": [
    "bus2.add_passenger(bus2_lst)\n",
    "bus2"
   ]
  },
  {
   "cell_type": "code",
   "execution_count": null,
   "metadata": {},
   "outputs": [],
   "source": [
    "print(bus2)\n",
    "bus2.passengers.pop()\n",
    "print(bus2)"
   ]
  },
  {
   "cell_type": "code",
   "execution_count": null,
   "metadata": {},
   "outputs": [],
   "source": [
    "bus3 = Bus()\n",
    "bus3"
   ]
  },
  {
   "cell_type": "code",
   "execution_count": null,
   "metadata": {},
   "outputs": [],
   "source": [
    "bus3.add_passenger(bus3_lst)\n",
    "bus3"
   ]
  },
  {
   "cell_type": "code",
   "execution_count": null,
   "metadata": {},
   "outputs": [],
   "source": [
    "bus2"
   ]
  },
  {
   "cell_type": "code",
   "execution_count": null,
   "metadata": {},
   "outputs": [],
   "source": []
  }
 ],
 "metadata": {
  "kernelspec": {
   "display_name": "venv_playground",
   "language": "python",
   "name": "venv_playground"
  },
  "language_info": {
   "codemirror_mode": {
    "name": "ipython",
    "version": 3
   },
   "file_extension": ".py",
   "mimetype": "text/x-python",
   "name": "python",
   "nbconvert_exporter": "python",
   "pygments_lexer": "ipython3",
   "version": "3.8.5"
  }
 },
 "nbformat": 4,
 "nbformat_minor": 4
}
