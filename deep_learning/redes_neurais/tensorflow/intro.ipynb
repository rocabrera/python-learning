{
 "cells": [
  {
   "cell_type": "code",
   "execution_count": 1,
   "metadata": {},
   "outputs": [],
   "source": [
    "import tensorflow as tf"
   ]
  },
  {
   "cell_type": "code",
   "execution_count": 2,
   "metadata": {},
   "outputs": [
    {
     "data": {
      "text/plain": [
       "[PhysicalDevice(name='/physical_device:GPU:0', device_type='GPU')]"
      ]
     },
     "execution_count": 2,
     "metadata": {},
     "output_type": "execute_result"
    }
   ],
   "source": [
    "tf.config.list_physical_devices('GPU')"
   ]
  },
  {
   "cell_type": "code",
   "execution_count": 3,
   "metadata": {},
   "outputs": [
    {
     "name": "stdout",
     "output_type": "stream",
     "text": [
      "<module 'tensorflow_core._api.v2.version' from '/home/rocabrera/.pyenv/versions/venv_tensorflow/lib/python3.7/site-packages/tensorflow_core/_api/v2/version/__init__.py'>\n"
     ]
    }
   ],
   "source": [
    "print(tf.version)"
   ]
  },
  {
   "cell_type": "markdown",
   "metadata": {},
   "source": [
    "- Um Tensor é uma generalização de vetor no $\\mathbb{R^n}$."
   ]
  },
  {
   "cell_type": "code",
   "execution_count": 4,
   "metadata": {},
   "outputs": [],
   "source": [
    "string   = tf.Variable(\"this is a string\", tf.string)\n",
    "number   = tf.Variable(324, tf.int16)\n",
    "floating = tf.Variable(3.567, tf.float64)"
   ]
  },
  {
   "cell_type": "markdown",
   "metadata": {},
   "source": [
    "## Intro "
   ]
  },
  {
   "cell_type": "markdown",
   "metadata": {
    "collapsed": "true"
   },
   "source": [
    "###  Ranks"
   ]
  },
  {
   "cell_type": "markdown",
   "metadata": {},
   "source": [
    "Algumas palavras para se referir a dimensões: rank, degree"
   ]
  },
  {
   "cell_type": "code",
   "execution_count": 5,
   "metadata": {},
   "outputs": [
    {
     "name": "stdout",
     "output_type": "stream",
     "text": [
      "tf.Tensor(0, shape=(), dtype=int32)\n",
      "tf.Tensor(1, shape=(), dtype=int32)\n",
      "tf.Tensor(2, shape=(), dtype=int32)\n"
     ]
    }
   ],
   "source": [
    "rank1_tensor = tf.Variable([\"Test\", \"Ok\", \"Opa\"], tf.string)\n",
    "rank2_tensor = tf.Variable([[\"Salve\", \"malandro\"], [\"Doidera\",\"Tim\"]], tf.string)\n",
    "\n",
    "print(tf.rank(number))\n",
    "print(tf.rank(rank1_tensor))\n",
    "print(tf.rank(rank2_tensor))"
   ]
  },
  {
   "cell_type": "markdown",
   "metadata": {
    "collapsed": "true"
   },
   "source": [
    "### Shapes "
   ]
  },
  {
   "cell_type": "code",
   "execution_count": 6,
   "metadata": {},
   "outputs": [
    {
     "name": "stdout",
     "output_type": "stream",
     "text": [
      "()\n",
      "(3,)\n",
      "(2, 2)\n"
     ]
    }
   ],
   "source": [
    "print(number.shape)\n",
    "print(rank1_tensor.shape)\n",
    "print(rank2_tensor.shape)"
   ]
  },
  {
   "cell_type": "markdown",
   "metadata": {
    "collapsed": "true"
   },
   "source": [
    "### Changing shape"
   ]
  },
  {
   "cell_type": "code",
   "execution_count": 14,
   "metadata": {},
   "outputs": [
    {
     "name": "stdout",
     "output_type": "stream",
     "text": [
      "Print Tensor 1: (1, 2, 3)\n",
      "Print Tensor 2: (2, 3, 1)\n",
      "Print Tensor 3: (3, 2)\n"
     ]
    }
   ],
   "source": [
    "tensor1 = tf.ones([1,2,3])\n",
    "print(f\"Print Tensor 1: {tensor1.shape}\")\n",
    "tensor2 = tf.reshape(tensor1,[2,3,1])\n",
    "print(f\"Print Tensor 2: {tensor2.shape}\")\n",
    "tensor3 = tf.reshape(tensor1,[3,-1])\n",
    "print(f\"Print Tensor 3: {tensor3.shape}\")"
   ]
  },
  {
   "cell_type": "markdown",
   "metadata": {
    "collapsed": "true"
   },
   "source": [
    "## Types of Tensors"
   ]
  },
  {
   "cell_type": "markdown",
   "metadata": {},
   "source": [
    "- Variable\n",
    "- Constant\n",
    "- PlaceHolder\n",
    "- SparseTensor\n",
    "\n",
    "\n",
    "With the execption of ```Variable``` all these tensors are immuttable, meaning their value may not change during execution."
   ]
  },
  {
   "cell_type": "markdown",
   "metadata": {},
   "source": [
    "Isso aqui é tensorflow 1 ... agora a gente não vai fazer isso.\n",
    "```python\n",
    "with tf.Session() as sess:\n",
    "    tensor1.eval()\n",
    "```"
   ]
  },
  {
   "cell_type": "markdown",
   "metadata": {},
   "source": [
    "Tensorflow tem umas funções que resolvem os problemas."
   ]
  },
  {
   "cell_type": "code",
   "execution_count": 16,
   "metadata": {},
   "outputs": [
    {
     "name": "stdout",
     "output_type": "stream",
     "text": [
      "324\n"
     ]
    }
   ],
   "source": [
    "tf.print(number)"
   ]
  },
  {
   "cell_type": "markdown",
   "metadata": {
    "collapsed": "true"
   },
   "source": [
    "## Exemplos "
   ]
  },
  {
   "cell_type": "code",
   "execution_count": 22,
   "metadata": {},
   "outputs": [
    {
     "name": "stdout",
     "output_type": "stream",
     "text": [
      "(5, 5, 5, 5)\n",
      "(625,)\n",
      "(125, 5)\n"
     ]
    }
   ],
   "source": [
    "aux = tf.zeros([5,5,5,5])\n",
    "aux2 = tf.reshape(aux,[625])\n",
    "aux3 = tf.reshape(aux,[125,-1])\n",
    "\n",
    "print(aux.shape)\n",
    "print(aux2.shape)\n",
    "print(aux3.shape)"
   ]
  },
  {
   "cell_type": "code",
   "execution_count": null,
   "metadata": {},
   "outputs": [],
   "source": []
  }
 ],
 "metadata": {
  "kernelspec": {
   "display_name": "venv_tensorflow",
   "language": "python",
   "name": "venv_tensorflow"
  },
  "language_info": {
   "codemirror_mode": {
    "name": "ipython",
    "version": 3
   },
   "file_extension": ".py",
   "mimetype": "text/x-python",
   "name": "python",
   "nbconvert_exporter": "python",
   "pygments_lexer": "ipython3",
   "version": "3.7.9"
  }
 },
 "nbformat": 4,
 "nbformat_minor": 4
}
