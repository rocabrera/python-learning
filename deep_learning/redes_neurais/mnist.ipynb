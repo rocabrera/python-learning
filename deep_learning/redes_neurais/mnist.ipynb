{
 "cells": [
  {
   "cell_type": "code",
   "execution_count": 1,
   "metadata": {},
   "outputs": [],
   "source": [
    "import pandas as pd\n",
    "import matplotlib.pyplot as plt\n",
    "import seaborn as sns\n",
    "\n",
    "from sklearn.preprocessing import StandardScaler, OneHotEncoder\n",
    "from sklearn.model_selection import train_test_split\n",
    "from sklearn.metrics import classification_report\n",
    "\n",
    "from tensorflow.keras import datasets, models, layers, optimizers, activations, Model"
   ]
  },
  {
   "cell_type": "markdown",
   "metadata": {},
   "source": [
    "Mostra versão do keras e do tensorflow que está sendo utilizado:\n",
    "\n",
    "```python\n",
    "import tensorflow as tf\n",
    "from tensorflow import keras\n",
    "print(tf.__version__)\n",
    "print(keras.__version__)\n",
    "```"
   ]
  },
  {
   "cell_type": "markdown",
   "metadata": {},
   "source": [
    "### **Splitting data (train, test and validation)**"
   ]
  },
  {
   "cell_type": "code",
   "execution_count": 2,
   "metadata": {},
   "outputs": [],
   "source": [
    "(x_aux_train, y_aux_train), (x_test, y_test) = datasets.mnist.load_data()\n",
    "\n",
    "x_train, x_val, y_train, y_val = train_test_split(x_aux_train, y_aux_train)"
   ]
  },
  {
   "cell_type": "markdown",
   "metadata": {},
   "source": [
    "### **Preprocessing** "
   ]
  },
  {
   "cell_type": "code",
   "execution_count": 3,
   "metadata": {},
   "outputs": [],
   "source": [
    "x_train = x_train.reshape(x_train.shape[0],-1)\n",
    "x_val   = x_val.reshape(x_val.shape[0],-1)\n",
    "x_test  = x_test.reshape(x_test.shape[0],-1)"
   ]
  },
  {
   "cell_type": "code",
   "execution_count": 4,
   "metadata": {},
   "outputs": [],
   "source": [
    "# instancia o encoder\n",
    "hot = OneHotEncoder()\n",
    "\n",
    "# aplica a transformação aos targets\n",
    "y_hot_train = hot.fit_transform(y_train.reshape(-1, 1)).toarray()\n",
    "y_hot_val   = hot.fit_transform(y_val.reshape(-1, 1)).toarray()\n",
    "y_hot_test  = hot.fit_transform(y_test.reshape(-1, 1)).toarray()\n",
    "\n",
    "\n",
    "x_norm_train = StandardScaler().fit_transform(x_train)\n",
    "x_norm_val   = StandardScaler().fit_transform(x_val)\n",
    "x_norm_test  = StandardScaler().fit_transform(x_test)"
   ]
  },
  {
   "cell_type": "markdown",
   "metadata": {},
   "source": [
    "### **Modeling** "
   ]
  },
  {
   "cell_type": "markdown",
   "metadata": {},
   "source": [
    "#### **Assembly** "
   ]
  },
  {
   "cell_type": "code",
   "execution_count": 5,
   "metadata": {},
   "outputs": [],
   "source": [
    "## Passando uma lista de layers\n",
    "#model = models.Sequential([layers.Dense(25,  activation=activations.relu,   name=\"hidden1\", input_dim = 784),\n",
    "#                           layers.Dense(25,  activation=activations.relu,   name=\"hidden2\"),\n",
    "#                           layers.Dense(10,  activation=activations.softmax,name=\"output\"),\n",
    "#                          ])\n",
    "model = models.Sequential()\n",
    "\n",
    "model.add(layers.Dense(25, activation=\"relu\", name=\"hidden1\",  input_dim = 784))\n",
    "model.add(layers.Dense(25, activation=\"relu\", name=\"hidden2\"))\n",
    "model.add(layers.Dense(10, activation=\"softmax\", name=\"output\"))"
   ]
  },
  {
   "cell_type": "markdown",
   "metadata": {},
   "source": [
    "Outras formas de utilizar a API do keras que te dão mais flexibilidade:\n",
    "\n",
    "- Adicionando layer com o método ```add```:\n",
    "\n",
    "```python\n",
    "model = models.Sequential()\n",
    "\n",
    "model.add(layers.Dense(25, activation=\"relu\", name=\"hidden1\"  input_dim = 784))\n",
    "model.add(layers.Dense(25, activation=\"relu\", name=\"hidden2\"))\n",
    "model.add(layers.Dense(10, activation=\"softmax\", name=\"output\"))\n",
    "```"
   ]
  },
  {
   "cell_type": "markdown",
   "metadata": {},
   "source": [
    "#### **Compiling**"
   ]
  },
  {
   "cell_type": "code",
   "execution_count": 6,
   "metadata": {},
   "outputs": [],
   "source": [
    "model.compile(loss = 'categorical_crossentropy', \n",
    "                     metrics=[\"accuracy\"],\n",
    "                     optimizer = optimizers.Adam())"
   ]
  },
  {
   "cell_type": "markdown",
   "metadata": {},
   "source": [
    "#### **Training** "
   ]
  },
  {
   "cell_type": "code",
   "execution_count": 7,
   "metadata": {
    "collapsed": true,
    "jupyter": {
     "outputs_hidden": true
    }
   },
   "outputs": [
    {
     "name": "stdout",
     "output_type": "stream",
     "text": [
      "Train on 45000 samples, validate on 10000 samples\n",
      "Epoch 1/10\n",
      "45000/45000 [==============================] - 3s 66us/sample - loss: 0.3889 - accuracy: 0.8847 - val_loss: 0.2036 - val_accuracy: 0.9405\n",
      "Epoch 2/10\n",
      "45000/45000 [==============================] - 3s 59us/sample - loss: 0.1776 - accuracy: 0.9495 - val_loss: 0.1758 - val_accuracy: 0.9484\n",
      "Epoch 3/10\n",
      "45000/45000 [==============================] - 3s 60us/sample - loss: 0.1352 - accuracy: 0.9593 - val_loss: 0.1612 - val_accuracy: 0.9559\n",
      "Epoch 4/10\n",
      "45000/45000 [==============================] - 3s 58us/sample - loss: 0.1143 - accuracy: 0.9653 - val_loss: 0.1581 - val_accuracy: 0.9556\n",
      "Epoch 5/10\n",
      "45000/45000 [==============================] - 3s 60us/sample - loss: 0.0964 - accuracy: 0.9699 - val_loss: 0.1591 - val_accuracy: 0.9570\n",
      "Epoch 6/10\n",
      "45000/45000 [==============================] - 3s 61us/sample - loss: 0.0853 - accuracy: 0.9731 - val_loss: 0.1778 - val_accuracy: 0.9538\n",
      "Epoch 7/10\n",
      "45000/45000 [==============================] - 3s 60us/sample - loss: 0.0773 - accuracy: 0.9758 - val_loss: 0.1665 - val_accuracy: 0.9581\n",
      "Epoch 8/10\n",
      "45000/45000 [==============================] - 3s 60us/sample - loss: 0.0686 - accuracy: 0.9782 - val_loss: 0.1741 - val_accuracy: 0.9580\n",
      "Epoch 9/10\n",
      "45000/45000 [==============================] - 3s 60us/sample - loss: 0.0615 - accuracy: 0.9805 - val_loss: 0.1774 - val_accuracy: 0.9594\n",
      "Epoch 10/10\n",
      "45000/45000 [==============================] - 3s 58us/sample - loss: 0.0569 - accuracy: 0.9820 - val_loss: 0.1918 - val_accuracy: 0.9564\n"
     ]
    }
   ],
   "source": [
    "history = model.fit(x_norm_train, \n",
    "                   y_hot_train, \n",
    "                   epochs = 10, \n",
    "                   verbose = 1,\n",
    "                   validation_data = (x_norm_test, y_hot_test),)"
   ]
  },
  {
   "cell_type": "markdown",
   "metadata": {},
   "source": [
    "### **Inspect model** "
   ]
  },
  {
   "cell_type": "code",
   "execution_count": 19,
   "metadata": {},
   "outputs": [
    {
     "data": {
      "text/plain": [
       "[<tensorflow.python.keras.layers.core.Dense at 0x7fdd2f166d10>,\n",
       " <tensorflow.python.keras.layers.core.Dense at 0x7fddb10b3f90>,\n",
       " <tensorflow.python.keras.layers.core.Dense at 0x7fdd17f3ad10>]"
      ]
     },
     "execution_count": 19,
     "metadata": {},
     "output_type": "execute_result"
    }
   ],
   "source": [
    "model.layers"
   ]
  },
  {
   "cell_type": "code",
   "execution_count": 25,
   "metadata": {},
   "outputs": [
    {
     "name": "stdout",
     "output_type": "stream",
     "text": [
      "Primeiro layer: hidden1\n",
      "\n",
      "<tensorflow.python.keras.layers.core.Dense object at 0x7fdd2f166d10>\n"
     ]
    }
   ],
   "source": [
    "fst_layer      = model.layers[0]\n",
    "fst_layer_name = fst_layer.name\n",
    "print(f\"Primeiro layer: {fst_layer_name}\\n\")\n",
    "\n",
    "print(model.get_layer(fst_layer_name))"
   ]
  },
  {
   "cell_type": "code",
   "execution_count": 28,
   "metadata": {},
   "outputs": [],
   "source": [
    "weights, biases = fst_layer.get_weights()"
   ]
  },
  {
   "cell_type": "code",
   "execution_count": 35,
   "metadata": {},
   "outputs": [
    {
     "name": "stdout",
     "output_type": "stream",
     "text": [
      "Weights shapes:(784, 25) Biases shapes: (25,)\n"
     ]
    }
   ],
   "source": [
    "print(f\"Weights shapes:{weights.shape} Biases shapes: {biases.shape}\")"
   ]
  },
  {
   "cell_type": "code",
   "execution_count": 36,
   "metadata": {},
   "outputs": [
    {
     "data": {
      "image/png": "[encoded data removed]",
      "text/plain": [
       "<Figure size 576x360 with 1 Axes>"
      ]
     },
     "metadata": {
      "needs_background": "light"
     },
     "output_type": "display_data"
    }
   ],
   "source": [
    "pd.DataFrame(history.history).plot(figsize=(8, 5))\n",
    "\n",
    "plt.show()"
   ]
  },
  {
   "cell_type": "markdown",
   "metadata": {
    "collapsed": "true"
   },
   "source": [
    "#### **Results**"
   ]
  },
  {
   "cell_type": "code",
   "execution_count": 10,
   "metadata": {},
   "outputs": [],
   "source": [
    "y_train_pred = model.predict_classes(x_norm_train)\n",
    "y_val_pred = model.predict_classes(x_norm_val)\n",
    "y_test_pred = model.predict_classes(x_norm_test)"
   ]
  },
  {
   "cell_type": "code",
   "execution_count": 12,
   "metadata": {},
   "outputs": [
    {
     "name": "stdout",
     "output_type": "stream",
     "text": [
      "TREINO:\n",
      "              precision    recall  f1-score   support\n",
      "\n",
      "           0       1.00      0.99      0.99      4542\n",
      "           1       1.00      0.99      0.99      5051\n",
      "           2       0.99      0.99      0.99      4505\n",
      "           3       0.98      0.98      0.98      4579\n",
      "           4       0.99      0.99      0.99      4364\n",
      "           5       0.99      0.98      0.98      4142\n",
      "           6       0.98      1.00      0.99      4362\n",
      "           7       0.99      0.99      0.99      4645\n",
      "           8       0.98      0.99      0.99      4364\n",
      "           9       0.98      0.98      0.98      4446\n",
      "\n",
      "    accuracy                           0.99     45000\n",
      "   macro avg       0.99      0.99      0.99     45000\n",
      "weighted avg       0.99      0.99      0.99     45000\n",
      "\n"
     ]
    }
   ],
   "source": [
    "print(\"TREINO:\")\n",
    "print(classification_report(y_train_pred, y_train))"
   ]
  },
  {
   "cell_type": "code",
   "execution_count": 14,
   "metadata": {},
   "outputs": [
    {
     "name": "stdout",
     "output_type": "stream",
     "text": [
      "VALIDATION:\n",
      "              precision    recall  f1-score   support\n",
      "\n",
      "           0       0.98      0.97      0.98      1431\n",
      "           1       0.98      0.97      0.98      1752\n",
      "           2       0.95      0.96      0.95      1451\n",
      "           3       0.95      0.95      0.95      1542\n",
      "           4       0.95      0.96      0.96      1482\n",
      "           5       0.96      0.93      0.94      1371\n",
      "           6       0.97      0.98      0.97      1485\n",
      "           7       0.95      0.97      0.96      1566\n",
      "           8       0.94      0.95      0.94      1458\n",
      "           9       0.94      0.94      0.94      1462\n",
      "\n",
      "    accuracy                           0.96     15000\n",
      "   macro avg       0.96      0.96      0.96     15000\n",
      "weighted avg       0.96      0.96      0.96     15000\n",
      "\n"
     ]
    }
   ],
   "source": [
    "print(\"VALIDATION:\")\n",
    "print(classification_report(y_val_pred, y_val))"
   ]
  },
  {
   "cell_type": "code",
   "execution_count": 15,
   "metadata": {},
   "outputs": [
    {
     "name": "stdout",
     "output_type": "stream",
     "text": [
      "TEST:\n",
      "              precision    recall  f1-score   support\n",
      "\n",
      "           0       0.98      0.96      0.97      1001\n",
      "           1       0.99      0.97      0.98      1159\n",
      "           2       0.95      0.96      0.95      1022\n",
      "           3       0.95      0.94      0.94      1031\n",
      "           4       0.96      0.95      0.96       986\n",
      "           5       0.95      0.94      0.94       908\n",
      "           6       0.96      0.97      0.97       949\n",
      "           7       0.94      0.96      0.95      1003\n",
      "           8       0.93      0.96      0.95       942\n",
      "           9       0.94      0.95      0.94       999\n",
      "\n",
      "    accuracy                           0.96     10000\n",
      "   macro avg       0.96      0.96      0.96     10000\n",
      "weighted avg       0.96      0.96      0.96     10000\n",
      "\n"
     ]
    }
   ],
   "source": [
    "print(\"TEST:\")\n",
    "print(classification_report(y_test_pred, y_test))"
   ]
  },
  {
   "cell_type": "code",
   "execution_count": 16,
   "metadata": {},
   "outputs": [
    {
     "name": "stdout",
     "output_type": "stream",
     "text": [
      "10000/10000 [==============================] - 0s 39us/sample - loss: 0.1918 - accuracy: 0.9564\n"
     ]
    }
   ],
   "source": [
    "(loss, metric) = model.evaluate(x_norm_test, y_hot_test)"
   ]
  }
 ],
 "metadata": {
  "kernelspec": {
   "display_name": "venv_tensorflow",
   "language": "python",
   "name": "venv_tensorflow"
  },
  "language_info": {
   "codemirror_mode": {
    "name": "ipython",
    "version": 3
   },
   "file_extension": ".py",
   "mimetype": "text/x-python",
   "name": "python",
   "nbconvert_exporter": "python",
   "pygments_lexer": "ipython3",
   "version": "3.7.9"
  }
 },
 "nbformat": 4,
 "nbformat_minor": 4
}
