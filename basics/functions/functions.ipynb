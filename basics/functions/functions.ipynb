{
 "cells": [
  {
   "cell_type": "markdown",
   "metadata": {
    "collapsed": "true"
   },
   "source": [
    "# **Introduction to Functions**"
   ]
  },
  {
   "cell_type": "code",
   "execution_count": 3,
   "metadata": {},
   "outputs": [
    {
     "name": "stdout",
     "output_type": "stream",
     "text": [
      "O que print fez?\n"
     ]
    },
    {
     "data": {
      "text/plain": [
       "4"
      ]
     },
     "execution_count": 3,
     "metadata": {},
     "output_type": "execute_result"
    }
   ],
   "source": [
    "print(\"O que print fez?\")\n",
    "max([1,2,3,4])"
   ]
  },
  {
   "cell_type": "markdown",
   "metadata": {},
   "source": [
    "<center><img src=\"imgs/functionExample.png\" alt=\"Drawing\" style=\"width: 300px;\"/></center>"
   ]
  },
  {
   "cell_type": "markdown",
   "metadata": {},
   "source": [
    "A python function is defined as:\n",
    "\n",
    "```python\n",
    "def nome_da_funcao(argumentos):\n",
    "    \n",
    "    instrucoes\n",
    "    \n",
    "    return saida\n",
    "```"
   ]
  },
  {
   "cell_type": "markdown",
   "metadata": {
    "collapsed": "true"
   },
   "source": [
    "## **Namespace priority**"
   ]
  },
  {
   "cell_type": "markdown",
   "metadata": {},
   "source": [
    "<center><img src=\"imgs/namespace.PNG\" alt=\"Drawing\" style=\"width: 400px;\"/></center>"
   ]
  },
  {
   "cell_type": "code",
   "execution_count": null,
   "metadata": {},
   "outputs": [],
   "source": []
  },
  {
   "cell_type": "markdown",
   "metadata": {
    "collapsed": "true"
   },
   "source": [
    "## **Introduction**"
   ]
  },
  {
   "cell_type": "markdown",
   "metadata": {},
   "source": [
    "**Dado uma lista ```l``` de números, e duas posições válidas ```p1,p2``` faça uma função que troca as posições dos elementos nas posições ```p1,p2```:**\n",
    "\n",
    "Exemplo:\n",
    "\n",
    "```python\n",
    "    def troca(l,p1,p2) -> List[float]:\n",
    "        \"\"\"\n",
    "        Seu código vem aqui :)\n",
    "        \"\"\"\n",
    "        \n",
    "    l=[1,2,3,4,5]\n",
    "    troca(l, 0, 4) -> [5,2,3,4,1]\n",
    "    #Retornam a mesma coisa, não importando a ordem de p1 e p2\n",
    "    troca(l, 1, 2) -> [1,3,2,4,5]\n",
    "    troca(l, 2, 1) -> [1,3,2,4,5]\n",
    "```"
   ]
  },
  {
   "cell_type": "code",
   "execution_count": null,
   "metadata": {},
   "outputs": [],
   "source": []
  },
  {
   "cell_type": "markdown",
   "metadata": {},
   "source": [
    "---"
   ]
  },
  {
   "cell_type": "markdown",
   "metadata": {},
   "source": [
    "**Dado uma lista ```l``` de números faça uma função que retorne o index do menor elemento da lista:**\n",
    "\n",
    "Exemplo:\n",
    "\n",
    "```python\n",
    "    def find_min_index(l) -> int:\n",
    "        \"\"\"\n",
    "        Seu código vem aqui :)\n",
    "        \"\"\"\n",
    "        \n",
    "    l1=[10,20,3,4,5]\n",
    "    find_min_index(l1) -> 2\n",
    "    l2=[2,0,3,-4,5]\n",
    "    find_min_index(l2) -> 3\n",
    "\n",
    "```\n",
    "\n"
   ]
  },
  {
   "cell_type": "code",
   "execution_count": null,
   "metadata": {},
   "outputs": [],
   "source": []
  },
  {
   "cell_type": "markdown",
   "metadata": {},
   "source": [
    "---"
   ]
  },
  {
   "cell_type": "markdown",
   "metadata": {},
   "source": [
    "**Faça uma função que ordena um vetor:**"
   ]
  },
  {
   "cell_type": "code",
   "execution_count": null,
   "metadata": {},
   "outputs": [],
   "source": []
  },
  {
   "cell_type": "markdown",
   "metadata": {},
   "source": [
    "---"
   ]
  },
  {
   "cell_type": "markdown",
   "metadata": {},
   "source": [
    "**Normally, complex functions are less reusable:**\n",
    "\n",
    "<center><img src=\"imgs/func_modularity.png\" alt=\"Drawing\" style=\"width: 530px;\" align=\"center\"/></center>"
   ]
  },
  {
   "cell_type": "markdown",
   "metadata": {
    "collapsed": "true"
   },
   "source": [
    "## **Lambda Functions** "
   ]
  },
  {
   "cell_type": "code",
   "execution_count": null,
   "metadata": {},
   "outputs": [],
   "source": []
  },
  {
   "cell_type": "markdown",
   "metadata": {
    "collapsed": "true"
   },
   "source": [
    "## **Modules and Packages** "
   ]
  },
  {
   "cell_type": "code",
   "execution_count": null,
   "metadata": {},
   "outputs": [],
   "source": []
  },
  {
   "cell_type": "markdown",
   "metadata": {
    "collapsed": "true"
   },
   "source": [
    "# **Refactoring Exercise** "
   ]
  },
  {
   "cell_type": "code",
   "execution_count": null,
   "metadata": {},
   "outputs": [],
   "source": [
    "import random\n",
    "options = ['rock', 'paper', 'scissors']\n",
    "print('(1) Rock\\n(2) Paper\\n(3) Scissors')\n",
    "human_choice = options[int(input('Enter the number of your choice: ')) - 1]\n",
    "print(f'You chose {human_choice}')\n",
    "computer_choice = random.choice(options)\n",
    "print(f'The computer chose {computer_choice}')\n",
    "\n",
    "if human_choice == 'rock':\n",
    "    if computer_choice == 'paper':\n",
    "        print('Sorry, paper beat rock')\n",
    "    elif computer_choice == 'scissors':\n",
    "        print('Yes, rock beat scissors!')\n",
    "    else:\n",
    "        print('Draw!')\n",
    "elif human_choice == 'paper':\n",
    "    if computer_choice == 'scissors':\n",
    "        print('Sorry, scissors beat paper')\n",
    "    elif computer_choice == 'rock':\n",
    "        print('Yes, paper beat rock!')\n",
    "    else:\n",
    "        print('Draw!')\n",
    "elif human_choice == 'scissors':\n",
    "    if computer_choice == 'rock':\n",
    "        print('Sorry, rock beat scissors')\n",
    "    elif computer_choice == 'paper':\n",
    "    \n",
    "        print('Yes, scissors beat paper!')\n",
    "    else:\n",
    "        print('Draw!')"
   ]
  },
  {
   "cell_type": "markdown",
   "metadata": {},
   "source": [
    "### **Resposta:**"
   ]
  },
  {
   "cell_type": "code",
   "execution_count": null,
   "metadata": {},
   "outputs": [],
   "source": [
    "import random\n",
    "\n",
    "OPTIONS = ['rock', 'paper', 'scissors']\n",
    "\n",
    "def get_computer_choice():\n",
    "    return random.choice(OPTIONS)\n",
    "\n",
    "def get_human_choice():\n",
    "    choice_number = int(input('Enter the number of your choice: '))\n",
    "    return OPTIONS[choice_number - 1]\n",
    "\n",
    "def print_options():\n",
    "    print('\\n'.join(f'({i}) {option.title()}' for i, option in enumerate(OPTIONS)))\n",
    "\n",
    "def print_choices(human_choice, computer_choice):\n",
    "    print(f'You chose {human_choice}')\n",
    "    print(f'The computer chose {computer_choice}')\n",
    "    \n",
    "def print_win_lose(human_choice, computer_choice, human_beats,human_loses_to):\n",
    "    if computer_choice == human_loses_to:\n",
    "        print(f'Sorry, {computer_choice} beats {human_choice}')\n",
    "    elif computer_choice == human_beats:\n",
    "        print(f'Yes, {human_choice} beats {computer_choice}!')\n",
    "        \n",
    "def print_result(human_choice, computer_choice):\n",
    "    if human_choice == computer_choice:\n",
    "        print('Draw!')\n",
    "    if human_choice == 'rock':\n",
    "        print_win_lose('rock', computer_choice, 'scissors', 'paper')\n",
    "    elif human_choice == 'paper':\n",
    "        print_win_lose('paper', computer_choice, 'rock', 'scissors')\n",
    "    elif human_choice == 'scissors':\n",
    "        print_win_lose('scissors', computer_choice, 'paper', 'rock')"
   ]
  },
  {
   "cell_type": "code",
   "execution_count": null,
   "metadata": {
    "scrolled": true
   },
   "outputs": [],
   "source": [
    "print_options()\n",
    "human_choice = get_human_choice()\n",
    "computer_choice = get_computer_choice()\n",
    "print_choices(human_choice, computer_choice)\n",
    "print_result(human_choice, computer_choice)"
   ]
  },
  {
   "cell_type": "markdown",
   "metadata": {
    "collapsed": "true"
   },
   "source": [
    "# **Practical Example**"
   ]
  },
  {
   "cell_type": "markdown",
   "metadata": {
    "collapsed": "true"
   },
   "source": [
    "## **E-commerce system** "
   ]
  },
  {
   "cell_type": "markdown",
   "metadata": {},
   "source": [
    "**Decomposition into granular components eases understanding:**\n",
    "\n",
    "<center><img src=\"imgs/example_construction.PNG\" alt=\"Drawing\" style=\"width: 500px;\"/></center>"
   ]
  },
  {
   "cell_type": "code",
   "execution_count": null,
   "metadata": {},
   "outputs": [],
   "source": []
  },
  {
   "cell_type": "markdown",
   "metadata": {},
   "source": [
    "##  **Part - Shopping Cart**"
   ]
  },
  {
   "cell_type": "markdown",
   "metadata": {},
   "source": [
    "**By decomposing a system into small parts, you can encapsulate behaviors and data into isolated pieces:**\n",
    "\n",
    "<center><img src=\"imgs/example.PNG\" alt=\"Drawing\" style=\"width: 270px;\"/></center>"
   ]
  },
  {
   "cell_type": "code",
   "execution_count": null,
   "metadata": {},
   "outputs": [],
   "source": []
  },
  {
   "cell_type": "markdown",
   "metadata": {},
   "source": [
    "---\n",
    "\n",
    "**Ref:** \n",
    "> Practices of the Python Pro; Author(s) Dane Hillard; Publisher:Manning Publications; 1st edition (January 14, 2020);"
   ]
  }
 ],
 "metadata": {
  "kernelspec": {
   "display_name": "Python 3",
   "language": "python",
   "name": "python3"
  },
  "language_info": {
   "codemirror_mode": {
    "name": "ipython",
    "version": 3
   },
   "file_extension": ".py",
   "mimetype": "text/x-python",
   "name": "python",
   "nbconvert_exporter": "python",
   "pygments_lexer": "ipython3",
   "version": "3.8.5"
  }
 },
 "nbformat": 4,
 "nbformat_minor": 4
}
