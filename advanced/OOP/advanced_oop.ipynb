{
 "cells": [
  {
   "cell_type": "markdown",
   "metadata": {},
   "source": [
    "# **Oriented Object Programming**"
   ]
  },
  {
   "cell_type": "markdown",
   "metadata": {
    "collapsed": "true"
   },
   "source": [
    "## **Introduction** "
   ]
  },
  {
   "cell_type": "markdown",
   "metadata": {},
   "source": [
    "<font color =\"orange\">**Everthing in Python is an object!**</font>"
   ]
  },
  {
   "cell_type": "markdown",
   "metadata": {},
   "source": [
    "It is a way to write the design of an application and determine how the application should evolve as new features are added or requirements change."
   ]
  },
  {
   "cell_type": "code",
   "execution_count": 1,
   "metadata": {},
   "outputs": [
    {
     "name": "stdout",
     "output_type": "stream",
     "text": [
      "True\n"
     ]
    }
   ],
   "source": [
    "class DummyClass:\n",
    "    pass\n",
    "\n",
    "myclass = DummyClass()\n",
    "myobject = object()\n",
    "myclass_methods = set(dir(myclass))\n",
    "myobject_methods = set(dir(myobject))\n",
    "\n",
    "print(myobject_methods.issubset(myclass_methods))"
   ]
  },
  {
   "cell_type": "markdown",
   "metadata": {},
   "source": [
    "This is because every class you create in Python implicitly derives from object. ```DummyClass``` **inherits** from ```object```.\n",
    "\n",
    "$$\n",
    "\\text{myobject_methods} \\subset \\text{myclass_methods}\n",
    "$$"
   ]
  },
  {
   "cell_type": "markdown",
   "metadata": {
    "collapsed": "true"
   },
   "source": [
    "## **Method Magics** "
   ]
  },
  {
   "cell_type": "markdown",
   "metadata": {
    "collapsed": "true"
   },
   "source": [
    "### **Basic Example** "
   ]
  },
  {
   "cell_type": "code",
   "execution_count": 2,
   "metadata": {},
   "outputs": [
    {
     "name": "stdout",
     "output_type": "stream",
     "text": [
      "Esse é o str!\n",
      "Esse é o repr!\n"
     ]
    }
   ],
   "source": [
    "class Magic1:\n",
    "    \n",
    "    def __str__(self):\n",
    "        return \"Esse é o str!\"\n",
    "\n",
    "class Magic2:\n",
    "    \n",
    "    def __repr__(self):\n",
    "        return \"Esse é o repr!\"\n",
    "    \n",
    "print(Magic1())\n",
    "print(Magic2())"
   ]
  },
  {
   "cell_type": "code",
   "execution_count": 3,
   "metadata": {
    "collapsed": true,
    "jupyter": {
     "outputs_hidden": true
    }
   },
   "outputs": [
    {
     "name": "stdout",
     "output_type": "stream",
     "text": [
      "4\n",
      "[2, 2]\n",
      "22\n"
     ]
    },
    {
     "ename": "TypeError",
     "evalue": "unsupported operand type(s) for *: 'set' and 'int'",
     "output_type": "error",
     "traceback": [
      "\u001b[0;31m---------------------------------------------------------------------------\u001b[0m",
      "\u001b[0;31mTypeError\u001b[0m                                 Traceback (most recent call last)",
      "\u001b[0;32m<ipython-input-3-c8a45cb9bbc6>\u001b[0m in \u001b[0;36m<module>\u001b[0;34m\u001b[0m\n\u001b[1;32m      5\u001b[0m \u001b[0mprint\u001b[0m\u001b[0;34m(\u001b[0m\u001b[0mmult2\u001b[0m\u001b[0;34m(\u001b[0m\u001b[0;34m[\u001b[0m\u001b[0;36m2\u001b[0m\u001b[0;34m]\u001b[0m\u001b[0;34m)\u001b[0m\u001b[0;34m)\u001b[0m\u001b[0;34m\u001b[0m\u001b[0;34m\u001b[0m\u001b[0m\n\u001b[1;32m      6\u001b[0m \u001b[0mprint\u001b[0m\u001b[0;34m(\u001b[0m\u001b[0mmult2\u001b[0m\u001b[0;34m(\u001b[0m\u001b[0;34m\"2\"\u001b[0m\u001b[0;34m)\u001b[0m\u001b[0;34m)\u001b[0m\u001b[0;34m\u001b[0m\u001b[0;34m\u001b[0m\u001b[0m\n\u001b[0;32m----> 7\u001b[0;31m \u001b[0mprint\u001b[0m\u001b[0;34m(\u001b[0m\u001b[0mmult2\u001b[0m\u001b[0;34m(\u001b[0m\u001b[0;34m{\u001b[0m\u001b[0;36m2\u001b[0m\u001b[0;34m}\u001b[0m\u001b[0;34m)\u001b[0m\u001b[0;34m)\u001b[0m\u001b[0;34m\u001b[0m\u001b[0;34m\u001b[0m\u001b[0m\n\u001b[0m",
      "\u001b[0;32m<ipython-input-3-c8a45cb9bbc6>\u001b[0m in \u001b[0;36mmult2\u001b[0;34m(x)\u001b[0m\n\u001b[1;32m      1\u001b[0m \u001b[0;32mdef\u001b[0m \u001b[0mmult2\u001b[0m\u001b[0;34m(\u001b[0m\u001b[0mx\u001b[0m\u001b[0;34m)\u001b[0m\u001b[0;34m:\u001b[0m\u001b[0;34m\u001b[0m\u001b[0;34m\u001b[0m\u001b[0m\n\u001b[0;32m----> 2\u001b[0;31m     \u001b[0;32mreturn\u001b[0m \u001b[0mx\u001b[0m\u001b[0;34m*\u001b[0m\u001b[0;36m2\u001b[0m\u001b[0;34m\u001b[0m\u001b[0;34m\u001b[0m\u001b[0m\n\u001b[0m\u001b[1;32m      3\u001b[0m \u001b[0;34m\u001b[0m\u001b[0m\n\u001b[1;32m      4\u001b[0m \u001b[0mprint\u001b[0m\u001b[0;34m(\u001b[0m\u001b[0mmult2\u001b[0m\u001b[0;34m(\u001b[0m\u001b[0;36m2\u001b[0m\u001b[0;34m)\u001b[0m\u001b[0;34m)\u001b[0m\u001b[0;34m\u001b[0m\u001b[0;34m\u001b[0m\u001b[0m\n\u001b[1;32m      5\u001b[0m \u001b[0mprint\u001b[0m\u001b[0;34m(\u001b[0m\u001b[0mmult2\u001b[0m\u001b[0;34m(\u001b[0m\u001b[0;34m[\u001b[0m\u001b[0;36m2\u001b[0m\u001b[0;34m]\u001b[0m\u001b[0;34m)\u001b[0m\u001b[0;34m)\u001b[0m\u001b[0;34m\u001b[0m\u001b[0;34m\u001b[0m\u001b[0m\n",
      "\u001b[0;31mTypeError\u001b[0m: unsupported operand type(s) for *: 'set' and 'int'"
     ]
    }
   ],
   "source": [
    "def mult2(x): \n",
    "    return x*2\n",
    "\n",
    "print(mult2(2))\n",
    "print(mult2([2]))\n",
    "print(mult2(\"2\"))\n",
    "print(mult2({2}))"
   ]
  },
  {
   "cell_type": "markdown",
   "metadata": {
    "collapsed": "true"
   },
   "source": [
    "### **Inheriting from MyDict** "
   ]
  },
  {
   "cell_type": "code",
   "execution_count": 8,
   "metadata": {},
   "outputs": [],
   "source": [
    "class MyDict(dict):\n",
    "    \n",
    "    def __mul__(self,x):\n",
    "        result = [x*i for i in self.values()]\n",
    "        #result = {k*x:v*x for k,v in self.items()}\n",
    "        print(type(result))\n",
    "        return result\n",
    "        \n",
    "    \n",
    "mydict = MyDict()"
   ]
  },
  {
   "cell_type": "code",
   "execution_count": 9,
   "metadata": {},
   "outputs": [
    {
     "name": "stdout",
     "output_type": "stream",
     "text": [
      "<class 'list'>\n"
     ]
    },
    {
     "data": {
      "text/plain": [
       "['WorldWorld', 8]"
      ]
     },
     "execution_count": 9,
     "metadata": {},
     "output_type": "execute_result"
    }
   ],
   "source": [
    "mydict[\"Hello\"] = \"World\"\n",
    "mydict[\"Number\"] = 4\n",
    "\n",
    "mydict*2"
   ]
  },
  {
   "cell_type": "markdown",
   "metadata": {},
   "source": [
    "<font color = \"yellow\">**Never inherit from list and dict!**</font>"
   ]
  },
  {
   "cell_type": "markdown",
   "metadata": {
    "collapsed": "true"
   },
   "source": [
    "### **The Right Way**\n",
    "https://treyhunner.com/2019/04/why-you-shouldnt-inherit-from-list-and-dict-in-python/\n",
    "\n"
   ]
  },
  {
   "cell_type": "code",
   "execution_count": 10,
   "metadata": {},
   "outputs": [
    {
     "name": "stdout",
     "output_type": "stream",
     "text": [
      "<class 'dict'>\n",
      "{'HelloHello': 'WorldWorld', 'String NumberString Number': '44'}\n"
     ]
    }
   ],
   "source": [
    "from collections import UserDict\n",
    "\n",
    "class MyDict(UserDict):\n",
    "    \n",
    "    def __mul__(self,x):\n",
    "        #result = [x*i for i in self.values()]\n",
    "        result = {k*x:v*x for k,v in self.items()}\n",
    "        print(type(result))\n",
    "        return result\n",
    "    \n",
    "mydict = MyDict()\n",
    "mydict[\"Hello\"] = \"World\"\n",
    "mydict[\"String Number\"] = \"4\"\n",
    "\n",
    "print(mydict*2)"
   ]
  },
  {
   "cell_type": "code",
   "execution_count": 15,
   "metadata": {},
   "outputs": [
    {
     "name": "stdout",
     "output_type": "stream",
     "text": [
      "Python Dict - before Sort: {'String Number': '4', 'Hello': 'World'}\n",
      "Python Dict - after Sort: ['Hello', 'String Number']\n"
     ]
    }
   ],
   "source": [
    "python_dict = {\"String Number\":\"4\", \"Hello\":\"World\"}\n",
    "\n",
    "print(f\"Python Dict - before Sort: {python_dict}\")\n",
    "print(f\"Python Dict - after Sort: {sorted(python_dict)}\")"
   ]
  },
  {
   "cell_type": "code",
   "execution_count": 14,
   "metadata": {},
   "outputs": [
    {
     "name": "stdout",
     "output_type": "stream",
     "text": [
      "Mydict - before Sort: {'Hello': 'World', 'String Number': '4'}\n",
      "Mydict - after Sort: ['Hello', 'String Number']\n"
     ]
    }
   ],
   "source": [
    "print(f\"Mydict - before Sort: {mydict}\")\n",
    "print(f\"Mydict - after Sort: {sorted(mydict)}\")"
   ]
  },
  {
   "cell_type": "code",
   "execution_count": 16,
   "metadata": {},
   "outputs": [
    {
     "name": "stdout",
     "output_type": "stream",
     "text": [
      "<class 'dict'>\n",
      "However, I can multiply mydict: ['HelloHello', 'String NumberString Number']\n"
     ]
    }
   ],
   "source": [
    "print(f\"However, I can multiply mydict: {sorted(mydict*2)}\")"
   ]
  },
  {
   "cell_type": "markdown",
   "metadata": {},
   "source": [
    "---"
   ]
  },
  {
   "cell_type": "markdown",
   "metadata": {},
   "source": [
    "## **ABC collection** "
   ]
  },
  {
   "cell_type": "markdown",
   "metadata": {},
   "source": [
    "https://docs.python.org/3/library/collections.abc.html"
   ]
  },
  {
   "cell_type": "markdown",
   "metadata": {},
   "source": [
    "### **Abstract methods** "
   ]
  },
  {
   "cell_type": "code",
   "execution_count": 17,
   "metadata": {},
   "outputs": [],
   "source": [
    "from collections.abc import Sized, Callable, Iterator"
   ]
  },
  {
   "cell_type": "code",
   "execution_count": 19,
   "metadata": {},
   "outputs": [
    {
     "name": "stdout",
     "output_type": "stream",
     "text": [
      "What happened?\n",
      "\n",
      "Can't instantiate abstract class Sized with abstract methods __len__\n"
     ]
    }
   ],
   "source": [
    "try:\n",
    "    sized_object = Sized()\n",
    "    print(\"Everthing is OK\")\n",
    "except Exception as e:\n",
    "    print(f\"What happened?\\n\\n{e}\")"
   ]
  },
  {
   "cell_type": "markdown",
   "metadata": {},
   "source": [
    "**Simple example** "
   ]
  },
  {
   "cell_type": "code",
   "execution_count": null,
   "metadata": {},
   "outputs": [],
   "source": [
    "class ShopCart(Sized):\n",
    "    \n",
    "    def __init__(self,carrinho:list):\n",
    "        self.carrinho = carrinho\n",
    "    \n",
    "    def __len__(self):\n",
    "        return len(self.carrinho)\n",
    "shop_cart = ShopCart([\"arroz\", \"feijao\"])\n",
    "print(f\"Size of your cart: {len(shop_cart)}\")\n",
    "\n",
    "# Every class inherits from object\n",
    "print(f\"This object has {len(dir(shop_cart))} different methods.\")"
   ]
  },
  {
   "cell_type": "markdown",
   "metadata": {},
   "source": [
    "**Different Example** "
   ]
  },
  {
   "cell_type": "code",
   "execution_count": null,
   "metadata": {},
   "outputs": [],
   "source": [
    "from collections import UserList\n",
    "\n",
    "class ShopCart(UserList):\n",
    "    \n",
    "    def __init__(self,carrinho:list):\n",
    "        #Why do I need to change the attribute name?\n",
    "        self.data = carrinho\n",
    "    \n",
    "shop_cart = ShopCart([\"arroz\", \"feijao\"])\n",
    "print(f\"Size of your cart: {len(shop_cart)}\")\n",
    "\n",
    "# Every class inherits from object\n",
    "print(f\"This object has {len(dir(shop_cart))} different methods.\")"
   ]
  },
  {
   "cell_type": "markdown",
   "metadata": {},
   "source": [
    "---"
   ]
  },
  {
   "cell_type": "code",
   "execution_count": null,
   "metadata": {},
   "outputs": [],
   "source": []
  },
  {
   "cell_type": "code",
   "execution_count": null,
   "metadata": {},
   "outputs": [],
   "source": []
  },
  {
   "cell_type": "markdown",
   "metadata": {},
   "source": [
    "### **Mixins**"
   ]
  },
  {
   "cell_type": "markdown",
   "metadata": {},
   "source": [
    "Python supports a simple type of multiple inheritance which allows the creation of Mixins."
   ]
  }
 ],
 "metadata": {
  "kernelspec": {
   "display_name": "venv_playground",
   "language": "python",
   "name": "venv_playground"
  },
  "language_info": {
   "codemirror_mode": {
    "name": "ipython",
    "version": 3
   },
   "file_extension": ".py",
   "mimetype": "text/x-python",
   "name": "python",
   "nbconvert_exporter": "python",
   "pygments_lexer": "ipython3",
   "version": "3.8.5"
  }
 },
 "nbformat": 4,
 "nbformat_minor": 4
}
