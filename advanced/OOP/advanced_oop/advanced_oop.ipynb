{
 "cells": [
  {
   "cell_type": "markdown",
   "metadata": {},
   "source": [
    "# **Oriented Object Programming**"
   ]
  },
  {
   "cell_type": "markdown",
   "metadata": {},
   "source": [
    "## **Introduction** "
   ]
  },
  {
   "cell_type": "markdown",
   "metadata": {},
   "source": [
    "<font color =\"orange\">**Everthing in Python is an object!**</font>"
   ]
  },
  {
   "cell_type": "markdown",
   "metadata": {},
   "source": [
    "It is a way to write the design of an application and determine how the application should evolve as new features are added or requirements change."
   ]
  },
  {
   "cell_type": "code",
   "execution_count": 1,
   "metadata": {},
   "outputs": [
    {
     "name": "stdout",
     "output_type": "stream",
     "text": [
      "True\n"
     ]
    }
   ],
   "source": [
    "class DummyClass:\n",
    "    pass\n",
    "\n",
    "myclass = DummyClass()\n",
    "myobject = object()\n",
    "myclass_methods = set(dir(myclass))\n",
    "myobject_methods = set(dir(myobject))\n",
    "\n",
    "print(myobject_methods.issubset(myclass_methods))"
   ]
  },
  {
   "cell_type": "markdown",
   "metadata": {},
   "source": [
    "This is because every class you create in Python implicitly derives from object. ```DummyClass``` **inherits** from ```object```.\n",
    "\n",
    "$$\n",
    "\\text{myobject_methods} \\subset \\text{myclass_methods}\n",
    "$$"
   ]
  },
  {
   "cell_type": "code",
   "execution_count": 2,
   "metadata": {},
   "outputs": [
    {
     "data": {
      "text/plain": [
       "['__class__', '__delattr__', '__dir__', '__doc__', '__eq__']"
      ]
     },
     "execution_count": 2,
     "metadata": {},
     "output_type": "execute_result"
    }
   ],
   "source": [
    "dir(myobject)[:5]"
   ]
  },
  {
   "cell_type": "markdown",
   "metadata": {},
   "source": [
    "## **Method Magics** "
   ]
  },
  {
   "cell_type": "markdown",
   "metadata": {},
   "source": [
    "### **Basic Example** "
   ]
  },
  {
   "cell_type": "code",
   "execution_count": 3,
   "metadata": {},
   "outputs": [
    {
     "name": "stdout",
     "output_type": "stream",
     "text": [
      "DummyClass: <__main__.DummyClass object at 0x7fca744e7ac0>\n",
      "Magic1: Esse é o str!\n",
      "Magic2: Esse é o repr!\n"
     ]
    }
   ],
   "source": [
    "class DummyClass:\n",
    "    pass\n",
    "\n",
    "class Magic1:\n",
    "    \n",
    "    def __str__(self):\n",
    "        return \"Esse é o str!\"\n",
    "\n",
    "class Magic2:\n",
    "    \n",
    "    def __repr__(self):\n",
    "        return \"Esse é o repr!\"\n",
    "    \n",
    "print(f\"DummyClass: {DummyClass()}\")\n",
    "print(f\"Magic1: {Magic1()}\")\n",
    "print(f\"Magic2: {Magic2()}\")"
   ]
  },
  {
   "cell_type": "code",
   "execution_count": 4,
   "metadata": {},
   "outputs": [
    {
     "name": "stdout",
     "output_type": "stream",
     "text": [
      "4\n",
      "[2, 2]\n",
      "22\n",
      "\n",
      "What happened?\n",
      "\n",
      "unsupported operand type(s) for *: 'set' and 'int'\n"
     ]
    }
   ],
   "source": [
    "def mult2(x): \n",
    "    return x*2\n",
    "\n",
    "print(mult2(2))\n",
    "print(mult2([2]))\n",
    "print(mult2(\"2\"))\n",
    "try:\n",
    "    print(mult2({2}))\n",
    "except Exception as e:\n",
    "    print(\"\\nWhat happened?\\n\")\n",
    "    print(e)"
   ]
  },
  {
   "cell_type": "code",
   "execution_count": 5,
   "metadata": {},
   "outputs": [
    {
     "name": "stdout",
     "output_type": "stream",
     "text": [
      "True\n",
      "True\n",
      "True\n",
      "False\n"
     ]
    }
   ],
   "source": [
    "hasMul = lambda x: '__mul__' in x\n",
    "\n",
    "print(hasMul(dir(2)))\n",
    "print(hasMul(dir([])))\n",
    "print(hasMul(dir(\"\")))\n",
    "print(hasMul(dir({})))"
   ]
  },
  {
   "cell_type": "code",
   "execution_count": 6,
   "metadata": {},
   "outputs": [
    {
     "data": {
      "text/plain": [
       "6"
      ]
     },
     "execution_count": 6,
     "metadata": {},
     "output_type": "execute_result"
    }
   ],
   "source": [
    "(2).__mul__(3)"
   ]
  },
  {
   "cell_type": "markdown",
   "metadata": {},
   "source": [
    "### **Inheriting from Dict** "
   ]
  },
  {
   "cell_type": "code",
   "execution_count": 7,
   "metadata": {},
   "outputs": [
    {
     "name": "stdout",
     "output_type": "stream",
     "text": [
      "{'Hello': 'World', 'Number': 4}\n"
     ]
    }
   ],
   "source": [
    "class MyDict(dict):\n",
    "    \n",
    "    def __mul__(self,x):\n",
    "        #result = [x*i for i in self.values()]\n",
    "        result = {k*x:v*x for k,v in self.items()}\n",
    "        print(type(result))\n",
    "        return result\n",
    "        \n",
    "    \n",
    "mydict = MyDict()\n",
    "mydict[\"Hello\"] = \"World\"\n",
    "mydict[\"Number\"] = 4\n",
    "print(mydict)"
   ]
  },
  {
   "cell_type": "code",
   "execution_count": 8,
   "metadata": {},
   "outputs": [
    {
     "name": "stdout",
     "output_type": "stream",
     "text": [
      "<class 'dict'>\n",
      "{'HelloHello': 'WorldWorld', 'NumberNumber': 8}\n"
     ]
    }
   ],
   "source": [
    "print(mydict*2)"
   ]
  },
  {
   "cell_type": "markdown",
   "metadata": {},
   "source": [
    "<font color = \"orange\">**Never inherit from list and dict!**</font>\n",
    "\n",
    "Why not?\n",
    "> https://treyhunner.com/2019/04/why-you-shouldnt-inherit-from-list-and-dict-in-python/"
   ]
  },
  {
   "cell_type": "code",
   "execution_count": 9,
   "metadata": {},
   "outputs": [
    {
     "name": "stdout",
     "output_type": "stream",
     "text": [
      "Antes:\n",
      "{'Hello': 'World', 'String Number': '4'}\n",
      "\n",
      "<class 'dict'>\n",
      "Depois:\n",
      "{'HelloHello': 'WorldWorld', 'String NumberString Number': '44'}\n",
      "\n"
     ]
    }
   ],
   "source": [
    "from collections import UserDict, UserList, UserString\n",
    "\n",
    "class MyDict(UserDict):\n",
    "    \n",
    "    def __mul__(self,x):\n",
    "        #result = [x*i for i in self.values()]\n",
    "        result = {k*x:v*x for k,v in self.items()}\n",
    "        print(type(result))\n",
    "        return result\n",
    "    \n",
    "mydict = MyDict()\n",
    "mydict[\"Hello\"] = \"World\"\n",
    "mydict[\"String Number\"] = \"4\"\n",
    "print(f\"Antes:\\n{mydict}\\n\")\n",
    "\n",
    "print(f\"Depois:\\n{mydict*2}\\n\")"
   ]
  },
  {
   "cell_type": "code",
   "execution_count": 10,
   "metadata": {},
   "outputs": [
    {
     "name": "stdout",
     "output_type": "stream",
     "text": [
      "Python Dict - before Sort: {'String Number': '4', 'Hello': 'World'}\n",
      "Python Dict - after Sort: ['Hello', 'String Number']\n",
      "\n"
     ]
    }
   ],
   "source": [
    "python_dict = {\"String Number\":\"4\", \"Hello\":\"World\"}\n",
    "\n",
    "print(f\"Python Dict - before Sort: {python_dict}\")\n",
    "print(f\"Python Dict - after Sort: {sorted(python_dict)}\\n\")"
   ]
  },
  {
   "cell_type": "code",
   "execution_count": 11,
   "metadata": {},
   "outputs": [
    {
     "name": "stdout",
     "output_type": "stream",
     "text": [
      "Mydict - before Sort: {'Hello': 'World', 'String Number': '4'}\n",
      "Mydict - after Sort: ['Hello', 'String Number']\n",
      "\n"
     ]
    }
   ],
   "source": [
    "print(f\"Mydict - before Sort: {mydict}\")\n",
    "print(f\"Mydict - after Sort: {sorted(mydict)}\\n\")"
   ]
  },
  {
   "cell_type": "code",
   "execution_count": 12,
   "metadata": {},
   "outputs": [
    {
     "name": "stdout",
     "output_type": "stream",
     "text": [
      "<class 'dict'>\n",
      "However, I can multiply mydict: ['HelloHello', 'String NumberString Number']\n",
      "\n"
     ]
    }
   ],
   "source": [
    "print(f\"However, I can multiply mydict: {sorted(mydict*2)}\\n\")"
   ]
  },
  {
   "cell_type": "markdown",
   "metadata": {},
   "source": [
    "**Function signature:**\n",
    "```python\n",
    "sorted(iterable, *, key=None, reverse=False)\n",
    "```"
   ]
  },
  {
   "cell_type": "code",
   "execution_count": 13,
   "metadata": {},
   "outputs": [
    {
     "name": "stdout",
     "output_type": "stream",
     "text": [
      "Does \u001b[1mUserDict\u001b[0m inherit from Iterable? - True\n",
      "Does \u001b[1mdict\u001b[0m inherit from Iterable? - True\n"
     ]
    }
   ],
   "source": [
    "from collections.abc import Iterable\n",
    "\n",
    "print(f\"Does \\033[1mUserDict\\033[0m inherit from Iterable? - {isinstance(mydict,Iterable)}\")\n",
    "print(f\"Does \\033[1mdict\\033[0m inherit from Iterable? - {isinstance(python_dict,Iterable)}\")"
   ]
  },
  {
   "cell_type": "markdown",
   "metadata": {},
   "source": [
    "Are you sure that ```UserDict``` and ```dict``` inherit from ```Iterable```?"
   ]
  },
  {
   "cell_type": "code",
   "execution_count": 14,
   "metadata": {},
   "outputs": [
    {
     "data": {
      "text/plain": [
       "(collections.UserDict,\n",
       " collections.abc.MutableMapping,\n",
       " collections.abc.Mapping,\n",
       " collections.abc.Collection,\n",
       " collections.abc.Sized,\n",
       " collections.abc.Iterable,\n",
       " collections.abc.Container,\n",
       " object)"
      ]
     },
     "execution_count": 14,
     "metadata": {},
     "output_type": "execute_result"
    }
   ],
   "source": [
    "UserDict.__mro__"
   ]
  },
  {
   "cell_type": "code",
   "execution_count": 15,
   "metadata": {},
   "outputs": [
    {
     "data": {
      "text/plain": [
       "(dict, object)"
      ]
     },
     "execution_count": 15,
     "metadata": {},
     "output_type": "execute_result"
    }
   ],
   "source": [
    "dict.__mro__"
   ]
  },
  {
   "cell_type": "code",
   "execution_count": 16,
   "metadata": {},
   "outputs": [
    {
     "name": "stdout",
     "output_type": "stream",
     "text": [
      "Is a \u001b[1mTest\u001b[0m Iterable? - True\n"
     ]
    }
   ],
   "source": [
    "class Test:\n",
    "    def __iter__(self):\n",
    "        pass\n",
    "    \n",
    "test=Test()\n",
    "print(f\"Is a \\033[1mTest\\033[0m Iterable? - {isinstance(test,Iterable)}\")"
   ]
  },
  {
   "cell_type": "markdown",
   "metadata": {},
   "source": [
    "So, do I just need to implement the necessary methods, <font color=\"blue\">**correctly**</font>? If I don't want to implement them, what should I do?"
   ]
  },
  {
   "cell_type": "markdown",
   "metadata": {},
   "source": [
    "---"
   ]
  },
  {
   "cell_type": "markdown",
   "metadata": {},
   "source": [
    "## **Abstract Base Classes** "
   ]
  },
  {
   "cell_type": "markdown",
   "metadata": {},
   "source": [
    "https://docs.python.org/3/library/collections.abc.html"
   ]
  },
  {
   "cell_type": "markdown",
   "metadata": {},
   "source": [
    "Abstract Base Classes (ABC) UML diagram:\n",
    "\n",
    "<center><img src=\"imgs/uml_abc_diagram.png\" alt=\"Drawing\" style=\"width: 400px;\"/></center>\n",
    "\n",
    "What is the meaning of the arrows?\n",
    "```python\n",
    "class MutableSequence(Sequence):\n",
    "    ...\n",
    "    \n",
    "class Sequence(Iterable,Container,Sized):\n",
    "    ...\n",
    "```\n",
    "\n",
    "---"
   ]
  },
  {
   "cell_type": "markdown",
   "metadata": {},
   "source": [
    "## **Abstract Methods**"
   ]
  },
  {
   "cell_type": "markdown",
   "metadata": {},
   "source": [
    "|**ABC**  |**Inherits from**|**Abstract Methods**   | **Mixin Methods**|\n",
    "|  ---    |      :---:      |        :---:            |      :---:            |\n",
    "|**Container**|        ---         |        \\_\\_contains\\_\\_ |        ---       |\n",
    "|**Iterable**|         ---        |        \\_\\_iter\\_\\_     |         ---      |\n",
    "|**Sized**|         ---        |        \\_\\_len\\_\\_     |         ---      |\n",
    "|**Collection**|Container<br>Iterable<br>Sized| \\_\\_contains\\_\\_<br>\\_\\_iter\\_\\_<br>\\_\\_len\\_\\_|         ---      |\n",
    "\n",
    "An abstract method is not implemented, for instance:\n",
    "```python\n",
    "class Iterable:\n",
    "    \n",
    "    def __iter__(self, ...):\n",
    "        pass\n",
    "```"
   ]
  },
  {
   "cell_type": "code",
   "execution_count": 17,
   "metadata": {},
   "outputs": [
    {
     "name": "stdout",
     "output_type": "stream",
     "text": [
      "What happened?\n",
      "\n",
      "Can't instantiate abstract class Iterable with abstract methods __iter__\n"
     ]
    }
   ],
   "source": [
    "from collections.abc import Iterable\n",
    "\n",
    "try:\n",
    "    iterable = Iterable()\n",
    "    print(\"Everthing is OK\")\n",
    "except Exception as e:\n",
    "    print(f\"What happened?\\n\\n{e}\")"
   ]
  },
  {
   "cell_type": "code",
   "execution_count": 18,
   "metadata": {},
   "outputs": [
    {
     "name": "stdout",
     "output_type": "stream",
     "text": [
      "What happened?\n",
      "\n",
      "Test() missing 1 required positional argument: 'Iterable'\n"
     ]
    }
   ],
   "source": [
    "def Test(Iterable):\n",
    "    pass\n",
    "\n",
    "try:\n",
    "    test = Test()\n",
    "    print(\"Everthing is OK\")\n",
    "except Exception as e:\n",
    "    print(f\"What happened?\\n\\n{e}\")"
   ]
  },
  {
   "cell_type": "code",
   "execution_count": 19,
   "metadata": {},
   "outputs": [],
   "source": [
    "class Test(Iterable):\n",
    "    \n",
    "    def __iter__(self):\n",
    "        pass\n",
    "\n",
    "test = Test()"
   ]
  },
  {
   "cell_type": "markdown",
   "metadata": {},
   "source": [
    "### **Simple Example** "
   ]
  },
  {
   "cell_type": "code",
   "execution_count": 20,
   "metadata": {},
   "outputs": [],
   "source": [
    "from collections.abc import Sized, Callable, Iterator"
   ]
  },
  {
   "cell_type": "code",
   "execution_count": 21,
   "metadata": {},
   "outputs": [
    {
     "name": "stdout",
     "output_type": "stream",
     "text": [
      "Size of your cart: 2\n",
      "This object has 31 different methods.\n"
     ]
    }
   ],
   "source": [
    "class ShopCart(Sized):\n",
    "    \n",
    "    def __init__(self,carrinho:list):\n",
    "        self.carrinho = carrinho\n",
    "    \n",
    "    def __len__(self):\n",
    "        return len(self.carrinho)\n",
    "    \n",
    "shop_cart = ShopCart([\"arroz\", \"feijao\"])\n",
    "print(f\"Size of your cart: {len(shop_cart)}\")\n",
    "\n",
    "# Every class inherits from object\n",
    "print(f\"This object has {len(dir(shop_cart))} different methods.\")"
   ]
  },
  {
   "cell_type": "markdown",
   "metadata": {},
   "source": [
    "**Different Example** "
   ]
  },
  {
   "cell_type": "code",
   "execution_count": 22,
   "metadata": {},
   "outputs": [
    {
     "name": "stdout",
     "output_type": "stream",
     "text": [
      "Size of your cart: 2\n",
      "This object has 56 different methods.\n"
     ]
    }
   ],
   "source": [
    "from collections import UserList\n",
    "\n",
    "class ShopCart(UserList):\n",
    "    \n",
    "    def __init__(self,carrinho:list):\n",
    "        #Why do I need to change the attribute name?\n",
    "        self.data = carrinho\n",
    "    \n",
    "shop_cart = ShopCart([\"arroz\", \"feijao\"])\n",
    "print(f\"Size of your cart: {len(shop_cart)}\")\n",
    "\n",
    "# Every class inherits from object\n",
    "print(f\"This object has {len(dir(shop_cart))} different methods.\")"
   ]
  },
  {
   "cell_type": "markdown",
   "metadata": {},
   "source": [
    "---"
   ]
  },
  {
   "cell_type": "markdown",
   "metadata": {},
   "source": [
    "## **Mixin Methods** "
   ]
  },
  {
   "cell_type": "markdown",
   "metadata": {},
   "source": [
    "|**ABC**  |**Inherits from**|**Abstract Methods**   | **Mixin Methods**|\n",
    "|  ---    |      :---:      |        :---:            |      :---:            |\n",
    "|**Iterator**|    Iterable     |        \\_\\_next\\_\\_     |   \\_\\_iter\\_\\_     |\n",
    "|**Generator**|    Iterator     |        send<br>throw     |     close<br>\\_\\_iter\\_\\_<br>\\_\\_next\\_\\_     |\n",
    "|Sequence|        Reversible<br>Collection      |        \\_\\_getitem\\_\\_<br>\\_\\_len\\_\\_       |      \\_\\_contains\\_\\_<br>\\_\\_iter\\_\\_ <br> \\_\\_reversed\\_\\_ <br>index<br>count   |\n",
    "|MutableSequence|     Sequence      |     \\_\\_getitem\\_\\_<br>\\_\\_setitem\\_\\_<br>\\_\\_delitem\\_\\_<br>\\_\\_len\\_\\_<br>insert     |         Inherited **Sequence** methods<br>append<br>reverse<br>extend<br>pop<br>remove<br>\\_\\_iadd\\_\\_|\n",
    "\n",
    "\n",
    "A mixin method is implemented."
   ]
  },
  {
   "cell_type": "code",
   "execution_count": 24,
   "metadata": {},
   "outputs": [],
   "source": [
    "from typing import List\n",
    "from collections.abc import Iterator\n",
    "\n",
    "class File:\n",
    "    \n",
    "    def __init__(self, _id:int, info:str=None):\n",
    "        self._id  = _id\n",
    "        self.info = info\n",
    "        \n",
    "    def __repr__(self):\n",
    "        return str(self._id)\n",
    "        \n",
    "class FileHandler(Iterator):\n",
    "    \n",
    "    def __init__(self,al:List[File]):\n",
    "        self.pos = 0\n",
    "        self.al  = al\n",
    "        self.total_files = len(al)\n",
    "    \n",
    "    def __next__(self):\n",
    "        \n",
    "        if self.pos < self.total_files:\n",
    "            current = self.al[self.pos]\n",
    "            self.pos += 1\n",
    "            return current\n",
    "        else:\n",
    "            self.pos = 0\n",
    "            \n",
    "        raise StopIteration"
   ]
  },
  {
   "cell_type": "code",
   "execution_count": 25,
   "metadata": {},
   "outputs": [
    {
     "name": "stdout",
     "output_type": "stream",
     "text": [
      "10\n",
      "2\n",
      "57\n",
      "3\n"
     ]
    }
   ],
   "source": [
    "handler = FileHandler([File(10), File(2), File(57), File(3)])\n",
    "for i in handler:\n",
    "    print(i)"
   ]
  },
  {
   "cell_type": "markdown",
   "metadata": {},
   "source": [
    "<font color=\"orange\">**It is possible to reuse python built-in functions!**</font>"
   ]
  },
  {
   "cell_type": "code",
   "execution_count": 26,
   "metadata": {},
   "outputs": [
    {
     "name": "stdout",
     "output_type": "stream",
     "text": [
      "2\n",
      "3\n",
      "10\n",
      "57\n"
     ]
    }
   ],
   "source": [
    "new_handler = sorted(handler, key=lambda x:x._id)\n",
    "for i in new_handler:\n",
    "    print(i)"
   ]
  },
  {
   "cell_type": "code",
   "execution_count": 29,
   "metadata": {},
   "outputs": [],
   "source": [
    "from collections.abc import Generator\n",
    "\n",
    "class FileHandler(Generator):\n",
    "    \n",
    "    def __init__(self,al:List[File]):\n",
    "        self.pos = 0\n",
    "        self.al  = al\n",
    "        self.total_files = len(al)\n",
    "        \n",
    "    def send(self, ignored_arg):\n",
    "        if self.pos < self.total_files:\n",
    "            current = self.al[self.pos]\n",
    "            self.pos += 1\n",
    "            return current\n",
    "        else:\n",
    "            self.pos = 0\n",
    "          \n",
    "        self.throw()\n",
    "        \n",
    "    def throw(self, type=None, value=None, traceback=None):\n",
    "        raise StopIteration"
   ]
  },
  {
   "cell_type": "code",
   "execution_count": 30,
   "metadata": {},
   "outputs": [
    {
     "name": "stdout",
     "output_type": "stream",
     "text": [
      "10\n",
      "2\n",
      "57\n",
      "3\n"
     ]
    }
   ],
   "source": [
    "handler = FileHandler([File(10), File(2), File(57), File(3)])\n",
    "for i in handler:\n",
    "    print(i)"
   ]
  },
  {
   "cell_type": "code",
   "execution_count": 31,
   "metadata": {},
   "outputs": [
    {
     "name": "stdout",
     "output_type": "stream",
     "text": [
      "10\n"
     ]
    }
   ],
   "source": [
    "print(next(handler))"
   ]
  },
  {
   "cell_type": "markdown",
   "metadata": {},
   "source": [
    "## **Infinite Generator example** "
   ]
  },
  {
   "cell_type": "markdown",
   "metadata": {},
   "source": [
    "https://stackoverflow.com/questions/42983569/how-to-write-a-generator-class"
   ]
  },
  {
   "cell_type": "code",
   "execution_count": 32,
   "metadata": {},
   "outputs": [],
   "source": [
    "class Fib(Generator):\n",
    "    def __init__(self):\n",
    "        self.a, self.b = 0, 1        \n",
    "    def send(self, ignored_arg):\n",
    "        return_value = self.a\n",
    "        self.a, self.b = self.b, self.a+self.b\n",
    "        return return_value\n",
    "    def throw(self, type=None, value=None, traceback=None):\n",
    "        raise StopIteration"
   ]
  }
 ],
 "metadata": {
  "kernelspec": {
   "display_name": "Python 3",
   "language": "python",
   "name": "python3"
  },
  "language_info": {
   "codemirror_mode": {
    "name": "ipython",
    "version": 3
   },
   "file_extension": ".py",
   "mimetype": "text/x-python",
   "name": "python",
   "nbconvert_exporter": "python",
   "pygments_lexer": "ipython3",
   "version": "3.8.5"
  }
 },
 "nbformat": 4,
 "nbformat_minor": 4
}
