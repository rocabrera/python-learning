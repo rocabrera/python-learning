{
 "cells": [
  {
   "cell_type": "code",
   "execution_count": 1,
   "id": "172fb2d5-52af-4a75-bf4e-5bd78667229b",
   "metadata": {},
   "outputs": [],
   "source": [
    "import time\n",
    "import threading "
   ]
  },
  {
   "cell_type": "code",
   "execution_count": 2,
   "id": "bf610978-9fc7-4ea5-8e24-51e952155325",
   "metadata": {},
   "outputs": [
    {
     "name": "stdout",
     "output_type": "stream",
     "text": [
      "Sleeping 1 second ...\n",
      "Done Sleeping\n",
      "Sleeping 1 second ...\n",
      "Done Sleeping\n",
      "Finished in 2.0 seconds(s)\n"
     ]
    }
   ],
   "source": [
    "start = time.perf_counter()\n",
    "\n",
    "def do_something(seconds):\n",
    "    print(f\"Sleeping {seconds} second ...\")\n",
    "    time.sleep(seconds)\n",
    "    print(\"Done Sleeping\")\n",
    "    \n",
    "do_something(1)\n",
    "do_something(1)\n",
    "\n",
    "finish = time.perf_counter()\n",
    "\n",
    "\n",
    "print(f\"Finished in {round(finish -start,2)} seconds(s)\")"
   ]
  },
  {
   "cell_type": "markdown",
   "id": "ab2f370a-1084-4241-a3aa-4b9aad3676ea",
   "metadata": {},
   "source": [
    "## **Threading** "
   ]
  },
  {
   "cell_type": "code",
   "execution_count": 3,
   "id": "1ab2131c-3346-4dd0-96bb-0aea9f34e8b3",
   "metadata": {},
   "outputs": [
    {
     "name": "stdout",
     "output_type": "stream",
     "text": [
      "Finished in 0.0 seconds(s)\n"
     ]
    }
   ],
   "source": [
    "start = time.perf_counter()\n",
    "\n",
    "t1 = threading.Thread(target=do_something,args=[1]) \n",
    "t2 = threading.Thread(target=do_something,args=[1]) \n",
    "\n",
    "finish = time.perf_counter()\n",
    "\n",
    "print(f\"Finished in {round(finish -start,2)} seconds(s)\")"
   ]
  },
  {
   "cell_type": "markdown",
   "id": "329fe0ad-737e-49d0-b6bc-13422db337be",
   "metadata": {},
   "source": [
    "## **Start** "
   ]
  },
  {
   "cell_type": "code",
   "execution_count": 6,
   "id": "e6a02be9-5f7e-4d7f-ba6e-bd643a11ac23",
   "metadata": {},
   "outputs": [
    {
     "name": "stdout",
     "output_type": "stream",
     "text": [
      "Sleeping 1 second ...\n",
      "Sleeping 1 second ...Finished in 0.0 seconds(s)\n",
      "\n",
      "Done Sleeping\n",
      "Done Sleeping\n"
     ]
    }
   ],
   "source": [
    "start = time.perf_counter()\n",
    "\n",
    "t1 = threading.Thread(target=do_something,args=[1]) \n",
    "t2 = threading.Thread(target=do_something,args=[1]) \n",
    "\n",
    "t1.start()\n",
    "t2.start()\n",
    "\n",
    "finish = time.perf_counter()\n",
    "\n",
    "print(f\"Finished in {round(finish -start,2)} seconds(s)\")"
   ]
  },
  {
   "cell_type": "markdown",
   "id": "4279a715-6bfe-496f-8604-b90b9923c4ae",
   "metadata": {},
   "source": [
    "## **Join** "
   ]
  },
  {
   "cell_type": "code",
   "execution_count": 7,
   "id": "910f95bf-d763-46d1-b1e5-21e144ba1e2f",
   "metadata": {},
   "outputs": [
    {
     "name": "stdout",
     "output_type": "stream",
     "text": [
      "Sleeping 1 second ...\n",
      "Sleeping 1 second ...\n",
      "Done Sleeping\n",
      "Done Sleeping\n",
      "Finished in 1.0 seconds(s)\n"
     ]
    }
   ],
   "source": [
    "start = time.perf_counter()\n",
    "\n",
    "t1 = threading.Thread(target=do_something,args=[1]) \n",
    "t2 = threading.Thread(target=do_something,args=[1]) \n",
    "\n",
    "t1.start()\n",
    "t2.start()\n",
    "\n",
    "t1.join()\n",
    "t2.join()\n",
    "\n",
    "finish = time.perf_counter()\n",
    "\n",
    "print(f\"Finished in {round(finish -start,2)} seconds(s)\")"
   ]
  },
  {
   "cell_type": "markdown",
   "id": "7b33b66e-b091-49a3-99d9-6f90874b5b46",
   "metadata": {},
   "source": [
    "## **Improving** "
   ]
  },
  {
   "cell_type": "code",
   "execution_count": 9,
   "id": "06280948-95d9-43f2-9665-dba707edb795",
   "metadata": {},
   "outputs": [
    {
     "name": "stdout",
     "output_type": "stream",
     "text": [
      "Sleeping 2 second ...Sleeping 2 second ...\n",
      "\n",
      "Sleeping 2 second ...\n",
      "Sleeping 2 second ...\n",
      "Sleeping 2 second ...\n",
      "Sleeping 2 second ...\n",
      "Sleeping 2 second ...\n",
      "Sleeping 2 second ...\n",
      "Sleeping 2 second ...\n",
      "Sleeping 2 second ...\n",
      "Done SleepingDone SleepingDone Sleeping\n",
      "\n",
      "Done Sleeping\n",
      "\n",
      "Done Sleeping\n",
      "Done Sleeping\n",
      "Done SleepingDone Sleeping\n",
      "\n",
      "Done Sleeping\n",
      "Done Sleeping\n",
      "Finished in 2.01 seconds(s)\n"
     ]
    }
   ],
   "source": [
    "start = time.perf_counter()\n",
    "\n",
    "ts = []\n",
    "for _ in range(10):\n",
    "    t=threading.Thread(target=do_something,args=[2])\n",
    "    t.start()\n",
    "    ts.append(t)\n",
    "    \n",
    "for t in ts:\n",
    "    t.join()\n",
    "    \n",
    "finish = time.perf_counter()\n",
    "\n",
    "print(f\"Finished in {round(finish -start,2)} seconds(s)\")"
   ]
  },
  {
   "cell_type": "code",
   "execution_count": 18,
   "id": "8d704d6a-91e8-4335-b051-b736d8a7ed6f",
   "metadata": {},
   "outputs": [],
   "source": [
    "from concurrent.futures import ThreadPoolExecutor, as_completed"
   ]
  },
  {
   "cell_type": "code",
   "execution_count": 14,
   "id": "5b13b991-7b59-469b-ac68-b65985e0fc0e",
   "metadata": {},
   "outputs": [
    {
     "name": "stdout",
     "output_type": "stream",
     "text": [
      "Sleeping 1 second ...\n",
      "Sleeping 1 second ...\n",
      "Done SleepingDone Sleeping\n",
      "\n",
      "Finished in 1.0 seconds(s)\n"
     ]
    }
   ],
   "source": [
    "start = time.perf_counter()\n",
    "\n",
    "with ThreadPoolExecutor() as executor:\n",
    "    f1 = executor.submit(do_something, 1)\n",
    "    f2 = executor.submit(do_something, 1)\n",
    "    \n",
    "    \n",
    "finish = time.perf_counter()\n",
    "\n",
    "print(f\"Finished in {round(finish -start,2)} seconds(s)\")"
   ]
  },
  {
   "cell_type": "code",
   "execution_count": 16,
   "id": "75cd7e63-9a7f-4fb5-b504-bd8f27813fa9",
   "metadata": {},
   "outputs": [
    {
     "name": "stdout",
     "output_type": "stream",
     "text": [
      "Finished in 1.0 seconds(s)\n"
     ]
    }
   ],
   "source": [
    "def do_something2(seconds):\n",
    "    print(f\"Sleeping for {seconds}\")\n",
    "    time.sleep(seconds)\n",
    "    return f\"Done Sleeping ... {seconds}\"\n",
    "\n",
    "\n",
    "start = time.perf_counter()\n",
    "\n",
    "with ThreadPoolExecutor() as executor:\n",
    "    f1 = executor.submit(do_something2, 1)\n",
    "    f2 = executor.submit(do_something2, 1)\n",
    "    \n",
    "finish = time.perf_counter()\n",
    "\n",
    "print(f\"Finished in {round(finish -start,2)} seconds(s)\")"
   ]
  },
  {
   "cell_type": "code",
   "execution_count": 17,
   "id": "8c37028d-8622-41b6-a5fc-7cee8d4b1d38",
   "metadata": {},
   "outputs": [
    {
     "name": "stdout",
     "output_type": "stream",
     "text": [
      "Done Sleeping\n",
      "Done Sleeping\n",
      "Finished in 1.0 seconds(s)\n"
     ]
    }
   ],
   "source": [
    "def do_something2(seconds):\n",
    "    print(f\"Sleeping for {seconds}\")\n",
    "    time.sleep(seconds)\n",
    "    return f\"Done Sleeping ... {seconds}\"\n",
    "\n",
    "\n",
    "\n",
    "start = time.perf_counter()\n",
    "\n",
    "with ThreadPoolExecutor() as executor:\n",
    "    f1 = executor.submit(do_something2, 1)\n",
    "    f2 = executor.submit(do_something2, 1)\n",
    "    print(f1.result())\n",
    "    print(f2.result())\n",
    "    \n",
    "finish = time.perf_counter()\n",
    "\n",
    "print(f\"Finished in {round(finish -start,2)} seconds(s)\")"
   ]
  },
  {
   "cell_type": "code",
   "execution_count": 19,
   "id": "a996e5cc-3a02-457e-ac2a-87568bf274e4",
   "metadata": {},
   "outputs": [
    {
     "name": "stdout",
     "output_type": "stream",
     "text": [
      "Done Sleeping\n",
      "Done Sleeping\n",
      "Done Sleeping\n",
      "Done Sleeping\n",
      "Done Sleeping\n",
      "Done Sleeping\n",
      "Done Sleeping\n",
      "Done Sleeping\n",
      "Done Sleeping\n",
      "Done Sleeping\n",
      "Finished in 1.0 seconds(s)\n"
     ]
    }
   ],
   "source": [
    "def do_something2(seconds):\n",
    "    print(f\"Sleeping for {seconds}\")\n",
    "    time.sleep(seconds)\n",
    "    return f\"Done Sleeping ... {seconds}\"\n",
    "\n",
    "\n",
    "\n",
    "start = time.perf_counter()\n",
    "\n",
    "with ThreadPoolExecutor() as executor:\n",
    "    results = [executor.submit(do_something2, 1) for _ in range(10)]\n",
    "    \n",
    "    for f in as_completed(results):\n",
    "        print(f.result())\n",
    "    \n",
    "finish = time.perf_counter()\n",
    "\n",
    "print(f\"Finished in {round(finish -start,2)} seconds(s)\")"
   ]
  },
  {
   "cell_type": "code",
   "execution_count": 22,
   "id": "28dd7be9-d07a-4765-a0c4-d6fd28d5fa43",
   "metadata": {},
   "outputs": [
    {
     "name": "stdout",
     "output_type": "stream",
     "text": [
      "Sleeping for 0\n",
      "Sleeping for 1\n",
      "Sleeping for 2\n",
      "Sleeping for 3\n",
      "Sleeping for 4\n",
      "Sleeping for 5\n",
      "Sleeping for 6\n",
      "Sleeping for 7\n",
      "Sleeping for 8\n",
      "Sleeping for 9\n",
      "Done Sleeping ... 0\n",
      "Done Sleeping ... 1\n",
      "Done Sleeping ... 2\n",
      "Done Sleeping ... 3\n",
      "Done Sleeping ... 4\n",
      "Done Sleeping ... 5\n",
      "Done Sleeping ... 6\n",
      "Done Sleeping ... 7\n",
      "Done Sleeping ... 8\n",
      "Done Sleeping ... 9\n",
      "Finished in 9.01 seconds(s)\n"
     ]
    }
   ],
   "source": [
    "def do_something2(seconds):\n",
    "    print(f\"Sleeping for {seconds}\")\n",
    "    time.sleep(seconds)\n",
    "    return f\"Done Sleeping ... {seconds}\"\n",
    "\n",
    "\n",
    "start = time.perf_counter()\n",
    "\n",
    "with ThreadPoolExecutor() as executor:\n",
    "    results = [executor.submit(do_something2, i) for i in range(10)]\n",
    "    \n",
    "    for f in as_completed(results):\n",
    "        print(f.result())\n",
    "    \n",
    "finish = time.perf_counter()\n",
    "\n",
    "print(f\"Finished in {round(finish -start,2)} seconds(s)\")"
   ]
  },
  {
   "cell_type": "code",
   "execution_count": 29,
   "id": "cac6863d-dbab-4953-96bd-4bf70db9f29b",
   "metadata": {},
   "outputs": [
    {
     "name": "stdout",
     "output_type": "stream",
     "text": [
      "Sleeping for 9Sleeping for 8\n",
      "\n",
      "Sleeping for 7\n",
      "Sleeping for 6\n",
      "Sleeping for 5\n",
      "Sleeping for 4\n",
      "Sleeping for 3\n",
      "Sleeping for 2\n",
      "Sleeping for 1\n",
      "Sleeping for 0\n",
      "Finished in 9.01 seconds(s)\n"
     ]
    }
   ],
   "source": [
    "def do_something2(seconds):\n",
    "    print(f\"Sleeping for {seconds}\")\n",
    "    time.sleep(seconds)\n",
    "    return f\"Done Sleeping ... {seconds}\"\n",
    "\n",
    "\n",
    "start = time.perf_counter()\n",
    "\n",
    "with ThreadPoolExecutor() as executor:\n",
    "    seconds = list(range(10))[::-1]\n",
    "    results = executor.map(do_something2, seconds)\n",
    "\n",
    "finish = time.perf_counter()\n",
    "\n",
    "print(f\"Finished in {round(finish -start,2)} seconds(s)\")"
   ]
  }
 ],
 "metadata": {
  "kernelspec": {
   "display_name": "venv_playground",
   "language": "python",
   "name": "venv_playground"
  },
  "language_info": {
   "codemirror_mode": {
    "name": "ipython",
    "version": 3
   },
   "file_extension": ".py",
   "mimetype": "text/x-python",
   "name": "python",
   "nbconvert_exporter": "python",
   "pygments_lexer": "ipython3",
   "version": "3.9.4"
  }
 },
 "nbformat": 4,
 "nbformat_minor": 5
}
