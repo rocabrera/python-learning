{
 "cells": [
  {
   "cell_type": "markdown",
   "id": "ccc67d27-e41a-4bc8-8093-4f004164bfff",
   "metadata": {},
   "source": [
    "# **Agenda**\n",
    "\n",
    "- **Introdução**\n",
    "- **Algumas diferenças de python para outras linguagens**\n",
    "- **Uma jornada recorrente em projetos baseados em dados**\n",
    "- **Exemplo de aplicação prática**\n",
    "    - Pandas\n",
    "    - Manipulação de dados\n",
    "    - Exploração de dados"
   ]
  },
  {
   "cell_type": "markdown",
   "id": "123c0095-c597-4e2a-8609-9d9c05eea0ac",
   "metadata": {},
   "source": [
    "---"
   ]
  },
  {
   "cell_type": "markdown",
   "id": "5868c51c-0a6e-489c-b7fd-3e6b923350aa",
   "metadata": {},
   "source": [
    "# **Introdução**"
   ]
  },
  {
   "cell_type": "markdown",
   "id": "8d68b10b-17f9-4f7e-9879-7faea27d1c1f",
   "metadata": {},
   "source": [
    "### O que é python? \n",
    "\n",
    "É uma linguagem de programação:\n",
    "\n",
    "- Alto nível.\n",
    "- Interpretada.\n",
    "- Multi paradigma.\n",
    "- Tipada dinâmicamente."
   ]
  },
  {
   "cell_type": "code",
   "execution_count": 1,
   "id": "7bcad35d-4be9-4cbb-b9f0-056f7e110a80",
   "metadata": {},
   "outputs": [
    {
     "name": "stdout",
     "output_type": "stream",
     "text": [
      "The Zen of Python, by Tim Peters\n",
      "\n",
      "Beautiful is better than ugly.\n",
      "Explicit is better than implicit.\n",
      "Simple is better than complex.\n",
      "Complex is better than complicated.\n",
      "Flat is better than nested.\n",
      "Sparse is better than dense.\n",
      "Readability counts.\n",
      "Special cases aren't special enough to break the rules.\n",
      "Although practicality beats purity.\n",
      "Errors should never pass silently.\n",
      "Unless explicitly silenced.\n",
      "In the face of ambiguity, refuse the temptation to guess.\n",
      "There should be one-- and preferably only one --obvious way to do it.\n",
      "Although that way may not be obvious at first unless you're Dutch.\n",
      "Now is better than never.\n",
      "Although never is often better than *right* now.\n",
      "If the implementation is hard to explain, it's a bad idea.\n",
      "If the implementation is easy to explain, it may be a good idea.\n",
      "Namespaces are one honking great idea -- let's do more of those!\n"
     ]
    }
   ],
   "source": [
    "import this"
   ]
  },
  {
   "cell_type": "markdown",
   "id": "8c1d62b6-0dfb-4e6c-a04f-0281900fbf7b",
   "metadata": {},
   "source": [
    "**PYPL: Popularity of Programming Language**: Quão frequentemente tutoriais sobre uma linguagem são buscados?\n",
    "Ref: https://pypl.github.io/PYPL.html\n",
    "<center><img src=\"imgs/python2021_index.png\"/></center>\n",
    "\n"
   ]
  },
  {
   "cell_type": "markdown",
   "id": "2e16f360-a1ad-4d57-81d1-d2cb8c15fe7f",
   "metadata": {},
   "source": [
    "- **Pypi**\n",
    "  - 8.1 TB de código escrito.\n",
    "  - 312,781 projetos.\n",
    "  - <font color=\"orange\">**518,479 usuários.**</font> "
   ]
  },
  {
   "cell_type": "markdown",
   "id": "33ac7110-fe92-41c2-bcf0-5b6f575b96ad",
   "metadata": {},
   "source": [
    "---"
   ]
  },
  {
   "cell_type": "markdown",
   "id": "a3be9cc1-d2d7-478f-bb73-6554450b83d2",
   "metadata": {},
   "source": [
    "# **Algumas diferenças entre python e outras linguagens**\n",
    "\n",
    "Ref: https://www.python.org/doc/essays/comparisons/"
   ]
  },
  {
   "cell_type": "markdown",
   "id": "2bf39268-f38f-4db8-8edf-4da1895bb26e",
   "metadata": {},
   "source": [
    "Vamos printar na tela de 0 a 5?\n",
    "\n",
    "**Java:**\n",
    "```java\n",
    "for (int i = 0; i < 5; i++) {\n",
    "    System.out.println(i);\n",
    "}\n",
    "```\n",
    "\n",
    "**Python:**\n",
    "\n",
    "```python\n",
    "for i in range(0,6):\n",
    "    print(i)\n",
    "```"
   ]
  },
  {
   "cell_type": "code",
   "execution_count": 2,
   "id": "fac9b683-0d44-4422-9054-efdce68799d5",
   "metadata": {
    "tags": []
   },
   "outputs": [],
   "source": [
    "# Qual posição dos números pares na lista? \n",
    "lista = [4, 5, 1, 2, 10, 7]"
   ]
  },
  {
   "cell_type": "code",
   "execution_count": 3,
   "id": "1a53d53b-dedc-43a3-8e3a-b74e2019345b",
   "metadata": {},
   "outputs": [
    {
     "data": {
      "text/plain": [
       "[0, 3, 4]"
      ]
     },
     "execution_count": 3,
     "metadata": {},
     "output_type": "execute_result"
    }
   ],
   "source": [
    "# Qual posição dos números pares na lista? \n",
    "\n",
    "lista = [4, 5, 1, 2, 10, 7]\n",
    "contador = 0\n",
    "pares = []\n",
    "for valor in lista:\n",
    "    \n",
    "    if valor%2 == 0:\n",
    "        pares.append(contador)\n",
    "    contador += 1\n",
    "    \n",
    "pares"
   ]
  },
  {
   "cell_type": "code",
   "execution_count": 4,
   "id": "f6f03783-7a89-481b-89d8-65c8ca9454c4",
   "metadata": {},
   "outputs": [
    {
     "data": {
      "text/plain": [
       "[0, 3, 4]"
      ]
     },
     "execution_count": 4,
     "metadata": {},
     "output_type": "execute_result"
    }
   ],
   "source": [
    "# Precisamos mesmo de um contador?\n",
    "\n",
    "lista = [4, 5, 1, 2, 10, 7]\n",
    "pares = []\n",
    "for idx, valor in enumerate(lista):\n",
    "    \n",
    "    if valor%2 == 0:\n",
    "        pares.append(idx)\n",
    "\n",
    "pares"
   ]
  },
  {
   "cell_type": "code",
   "execution_count": 5,
   "id": "a179c644-fe9b-49c1-b8af-ab2ffb525256",
   "metadata": {},
   "outputs": [
    {
     "data": {
      "text/plain": [
       "[0, 3, 4]"
      ]
     },
     "execution_count": 5,
     "metadata": {},
     "output_type": "execute_result"
    }
   ],
   "source": [
    "# Precisamos inicializar a lista de pares?\n",
    "\n",
    "lista = [4, 5, 1, 2, 10, 7]\n",
    "pares = [idx for idx, valor in enumerate(lista) if valor%2==0]\n",
    "\n",
    "pares"
   ]
  },
  {
   "cell_type": "markdown",
   "id": "5b130c89-190f-41db-bd34-b09a667045e8",
   "metadata": {},
   "source": [
    "---"
   ]
  },
  {
   "cell_type": "markdown",
   "id": "547485c7-1432-4d29-a275-3382b45b9686",
   "metadata": {},
   "source": [
    "# **Uma jornada recorrente em projetos baseados em dados**\n",
    "\n",
    "Cada projeto de ciência de dados é único, contendo suas particularidades e especificidades.\n",
    "\n",
    "Mas, de maneira genérica, um projeto de ciência de dados costuma ser dividido nas seguintes etapas:\n",
    "\n",
    "- 0) Formulação do problema;\n",
    "- 1) Ingestão dos dados;\n",
    "- 2) <font color = \"orange\"> Preparação dos dados; </font>\n",
    "- 3) <font color = \"orange\"> Exploração dos dados; </font>\n",
    "- 4) Modelagem;\n",
    "- 5) Apresentação ou deploy;\n",
    "\n",
    "Depois da etapa 0, as mais <font color=\"orange\">trabalhosas</font> (e que comumente mais tomam tempo) são as etapas <font color=\"orange\">2 e 3</font>.\n",
    "\n",
    "E há quem diga que estas são as etapas mais importantes! <font color =\"red\"> **(Garbage in, garabage out!)** </font> "
   ]
  },
  {
   "cell_type": "markdown",
   "id": "4e431058-fdbb-4cb9-8c53-d4f2fe74f8ad",
   "metadata": {},
   "source": [
    "<center><img src=\"https://www.xtivia.com/media/Data_Science_Pipeline.png\" width=700></center>"
   ]
  },
  {
   "cell_type": "markdown",
   "id": "bcd58eff-935f-4d81-9dbb-27c02628fcbb",
   "metadata": {},
   "source": [
    "# **Exemplo de aplicação prática**"
   ]
  },
  {
   "cell_type": "markdown",
   "id": "5e988da4-d664-4736-b439-76c1ea8ad8ca",
   "metadata": {},
   "source": [
    "Vamos explorar a relação entre consumo de energia e custo por submercado.\n",
    "\n",
    "**Datasets** - https://www.ccee.org.br/portal/:\n",
    " - consumo.xlsx\n",
    " - infopld.xlsx (3 sheets)\n",
    " \n",
    "**Informação auxiliar**:\n",
    " - estado2submercado.json (Mapeia estado - submercado)"
   ]
  },
  {
   "cell_type": "markdown",
   "id": "9cd4ba66-c644-40fe-9792-00d739fe698e",
   "metadata": {},
   "source": [
    "DESENVOLVER INTELIGENCIA DE MERCADO E FERRAMENTAS COMPUTACIONAIS PARA SE DESCOBRI O VALOR DO PLD, POIS A PLD AJUDA A DEFINIR QUAL VAI SER A VERIAÇÃO NO BOLSA DE ENERGIA.\n"
   ]
  },
  {
   "cell_type": "code",
   "execution_count": 6,
   "id": "45cea37f-367d-4e2f-b561-fee30e5552dd",
   "metadata": {},
   "outputs": [
    {
     "data": {
      "text/html": [
       "<div>\n",
       "<style scoped>\n",
       "    .dataframe tbody tr th:only-of-type {\n",
       "        vertical-align: middle;\n",
       "    }\n",
       "\n",
       "    .dataframe tbody tr th {\n",
       "        vertical-align: top;\n",
       "    }\n",
       "\n",
       "    .dataframe thead th {\n",
       "        text-align: right;\n",
       "    }\n",
       "</style>\n",
       "<table border=\"1\" class=\"dataframe\">\n",
       "  <thead>\n",
       "    <tr style=\"text-align: right;\">\n",
       "      <th></th>\n",
       "      <th>Data</th>\n",
       "      <th>Estado</th>\n",
       "      <th>Consumo (MWm)</th>\n",
       "    </tr>\n",
       "  </thead>\n",
       "  <tbody>\n",
       "    <tr>\n",
       "      <th>11452</th>\n",
       "      <td>NaN</td>\n",
       "      <td>Minas Gerais</td>\n",
       "      <td>7469.698507</td>\n",
       "    </tr>\n",
       "    <tr>\n",
       "      <th>288</th>\n",
       "      <td>NaN</td>\n",
       "      <td>Amapá</td>\n",
       "      <td>208.919016</td>\n",
       "    </tr>\n",
       "    <tr>\n",
       "      <th>7824</th>\n",
       "      <td>NaN</td>\n",
       "      <td>Sergipe</td>\n",
       "      <td>469.360636</td>\n",
       "    </tr>\n",
       "    <tr>\n",
       "      <th>13862</th>\n",
       "      <td>NaN</td>\n",
       "      <td>Bahia</td>\n",
       "      <td>3573.159772</td>\n",
       "    </tr>\n",
       "    <tr>\n",
       "      <th>8671</th>\n",
       "      <td>NaN</td>\n",
       "      <td>Pará</td>\n",
       "      <td>2428.333732</td>\n",
       "    </tr>\n",
       "    <tr>\n",
       "      <th>5960</th>\n",
       "      <td>NaN</td>\n",
       "      <td>Distrito Federal</td>\n",
       "      <td>896.114256</td>\n",
       "    </tr>\n",
       "    <tr>\n",
       "      <th>3987</th>\n",
       "      <td>NaN</td>\n",
       "      <td>Maranhão</td>\n",
       "      <td>952.066186</td>\n",
       "    </tr>\n",
       "    <tr>\n",
       "      <th>9337</th>\n",
       "      <td>NaN</td>\n",
       "      <td>Amazonas</td>\n",
       "      <td>1089.070814</td>\n",
       "    </tr>\n",
       "    <tr>\n",
       "      <th>18112</th>\n",
       "      <td>NaN</td>\n",
       "      <td>Pernambuco</td>\n",
       "      <td>1945.242644</td>\n",
       "    </tr>\n",
       "    <tr>\n",
       "      <th>3249</th>\n",
       "      <td>NaN</td>\n",
       "      <td>Tocantins</td>\n",
       "      <td>277.525651</td>\n",
       "    </tr>\n",
       "  </tbody>\n",
       "</table>\n",
       "</div>"
      ],
      "text/plain": [
       "      Data             Estado  Consumo (MWm)\n",
       "11452  NaN       Minas Gerais    7469.698507\n",
       "288    NaN              Amapá     208.919016\n",
       "7824   NaN            Sergipe     469.360636\n",
       "13862  NaN             Bahia     3573.159772\n",
       "8671   NaN               Pará    2428.333732\n",
       "5960   NaN  Distrito Federal      896.114256\n",
       "3987   NaN           Maranhão     952.066186\n",
       "9337   NaN           Amazonas    1089.070814\n",
       "18112  NaN        Pernambuco     1945.242644\n",
       "3249   NaN          Tocantins     277.525651"
      ]
     },
     "execution_count": 6,
     "metadata": {},
     "output_type": "execute_result"
    }
   ],
   "source": [
    "import numpy as np\n",
    "import pandas as pd\n",
    "\n",
    "# Vamos dar uma olhada em uma tabela\n",
    "df = pd.read_excel(\"data/consumo.xlsx\")\n",
    "df.sample(10)"
   ]
  },
  {
   "cell_type": "code",
   "execution_count": 7,
   "id": "b2b6b984-e021-42e8-9c2e-a1307c306cb8",
   "metadata": {},
   "outputs": [],
   "source": [
    "# Vamos resolver o problema das datas?\n",
    "df[\"Data\"] = df[\"Data\"].fillna(method=\"ffill\")"
   ]
  },
  {
   "cell_type": "code",
   "execution_count": 8,
   "id": "a40d85d0-65df-46bd-99e2-06e9849af1bc",
   "metadata": {},
   "outputs": [
    {
     "name": "stdout",
     "output_type": "stream",
     "text": [
      "2018-01-07 00:00:00\n",
      "2018-07-01 00:00:00\n"
     ]
    }
   ],
   "source": [
    "# O que vemos nem sempre é a verdade\n",
    "print(pd.to_datetime(df.iloc[0,0]))\n",
    "print(pd.to_datetime(df.iloc[0,0],dayfirst=True))"
   ]
  },
  {
   "cell_type": "code",
   "execution_count": 9,
   "id": "1b9a1a7c-b00a-4f71-83de-3aae1665a5e8",
   "metadata": {},
   "outputs": [
    {
     "data": {
      "text/plain": [
       "<AxesSubplot:>"
      ]
     },
     "execution_count": 9,
     "metadata": {},
     "output_type": "execute_result"
    },
    {
     "data": {
      "image/png": "[encoded data removed]",
      "text/plain": [
       "<Figure size 432x288 with 1 Axes>"
      ]
     },
     "metadata": {
      "needs_background": "light"
     },
     "output_type": "display_data"
    }
   ],
   "source": [
    "# Sera que a variável consumo está correta? \n",
    "df[\"Consumo (MWm)\"].iloc[0]\n",
    "\n",
    "# Vamos visualizar esse consumo?\n",
    "df[\"Consumo (MWm)\"].hist()"
   ]
  },
  {
   "cell_type": "code",
   "execution_count": 10,
   "id": "ddc3c839-ddbc-4329-84aa-fd5294d98a76",
   "metadata": {},
   "outputs": [],
   "source": [
    "# Para ganhar tempo eu ja limpei uma tabela\n",
    "consumo_df = pd.read_csv(\"data/consumo_clean.csv\")\n",
    "consumo_df[\"Data\"] = pd.to_datetime(consumo_df[\"Data\"],dayfirst=True)"
   ]
  },
  {
   "cell_type": "markdown",
   "id": "fdae7740-5ee7-4453-94b4-acfbadca27f7",
   "metadata": {},
   "source": [
    "### **Vamos fazer um mini processamento?** "
   ]
  },
  {
   "cell_type": "code",
   "execution_count": 11,
   "id": "f12468c7-42c7-4740-a6c9-139305abb52e",
   "metadata": {},
   "outputs": [],
   "source": [
    "# Como podemos ler um arquivo excel com várias sheets? \n",
    "infopld = pd.ExcelFile(\"data/infopld_pre_clean.xlsx\")\n",
    "infopld_2018_df = infopld.parse(\"sheet0\")\n",
    "infopld_2019_df = infopld.parse(\"sheet1\") \n",
    "infopld_2020_df = infopld.parse(\"sheet2\") "
   ]
  },
  {
   "cell_type": "code",
   "execution_count": 12,
   "id": "d25ad0da-d0f1-414d-b7e0-5448b63cf7ab",
   "metadata": {
    "tags": []
   },
   "outputs": [
    {
     "data": {
      "text/html": [
       "<div>\n",
       "<style scoped>\n",
       "    .dataframe tbody tr th:only-of-type {\n",
       "        vertical-align: middle;\n",
       "    }\n",
       "\n",
       "    .dataframe tbody tr th {\n",
       "        vertical-align: top;\n",
       "    }\n",
       "\n",
       "    .dataframe thead th {\n",
       "        text-align: right;\n",
       "    }\n",
       "</style>\n",
       "<table border=\"1\" class=\"dataframe\">\n",
       "  <thead>\n",
       "    <tr style=\"text-align: right;\">\n",
       "      <th></th>\n",
       "      <th>Unnamed: 0</th>\n",
       "      <th>submercado</th>\n",
       "      <th>semana</th>\n",
       "      <th>2018-01-01 00:00:00</th>\n",
       "      <th>2018-02-01 00:00:00</th>\n",
       "      <th>2018-03-01 00:00:00</th>\n",
       "      <th>2018-04-01 00:00:00</th>\n",
       "      <th>2018-05-01 00:00:00</th>\n",
       "      <th>2018-06-01 00:00:00</th>\n",
       "      <th>2018-07-01 00:00:00</th>\n",
       "      <th>2018-08-01 00:00:00</th>\n",
       "      <th>2018-09-01 00:00:00</th>\n",
       "      <th>2018-10-01 00:00:00</th>\n",
       "      <th>2018-11-01 00:00:00</th>\n",
       "      <th>2018-12-01 00:00:00</th>\n",
       "    </tr>\n",
       "  </thead>\n",
       "  <tbody>\n",
       "    <tr>\n",
       "      <th>7</th>\n",
       "      <td>7</td>\n",
       "      <td>norte</td>\n",
       "      <td>2</td>\n",
       "      <td>165.653333</td>\n",
       "      <td>40.160000</td>\n",
       "      <td>40.160000</td>\n",
       "      <td>77.946667</td>\n",
       "      <td>40.160000</td>\n",
       "      <td>321.060000</td>\n",
       "      <td>505.18</td>\n",
       "      <td>505.18</td>\n",
       "      <td>496.926667</td>\n",
       "      <td>326.100000</td>\n",
       "      <td>150.066667</td>\n",
       "      <td>66.156667</td>\n",
       "    </tr>\n",
       "    <tr>\n",
       "      <th>11</th>\n",
       "      <td>11</td>\n",
       "      <td>norte</td>\n",
       "      <td>6</td>\n",
       "      <td>0.000000</td>\n",
       "      <td>0.000000</td>\n",
       "      <td>40.160000</td>\n",
       "      <td>0.000000</td>\n",
       "      <td>0.000000</td>\n",
       "      <td>505.180000</td>\n",
       "      <td>0.00</td>\n",
       "      <td>0.00</td>\n",
       "      <td>0.000000</td>\n",
       "      <td>0.000000</td>\n",
       "      <td>0.000000</td>\n",
       "      <td>0.000000</td>\n",
       "    </tr>\n",
       "    <tr>\n",
       "      <th>13</th>\n",
       "      <td>13</td>\n",
       "      <td>sudeste</td>\n",
       "      <td>2</td>\n",
       "      <td>176.790000</td>\n",
       "      <td>179.750000</td>\n",
       "      <td>223.400000</td>\n",
       "      <td>85.060000</td>\n",
       "      <td>306.520000</td>\n",
       "      <td>442.340000</td>\n",
       "      <td>505.18</td>\n",
       "      <td>505.18</td>\n",
       "      <td>496.926667</td>\n",
       "      <td>326.100000</td>\n",
       "      <td>150.066667</td>\n",
       "      <td>66.156667</td>\n",
       "    </tr>\n",
       "    <tr>\n",
       "      <th>19</th>\n",
       "      <td>19</td>\n",
       "      <td>sul</td>\n",
       "      <td>2</td>\n",
       "      <td>178.770000</td>\n",
       "      <td>178.646667</td>\n",
       "      <td>223.400000</td>\n",
       "      <td>85.060000</td>\n",
       "      <td>306.520000</td>\n",
       "      <td>442.340000</td>\n",
       "      <td>505.18</td>\n",
       "      <td>505.18</td>\n",
       "      <td>496.926667</td>\n",
       "      <td>326.100000</td>\n",
       "      <td>150.066667</td>\n",
       "      <td>66.156667</td>\n",
       "    </tr>\n",
       "    <tr>\n",
       "      <th>15</th>\n",
       "      <td>15</td>\n",
       "      <td>sudeste</td>\n",
       "      <td>4</td>\n",
       "      <td>193.273333</td>\n",
       "      <td>211.023333</td>\n",
       "      <td>219.693333</td>\n",
       "      <td>136.160000</td>\n",
       "      <td>341.423333</td>\n",
       "      <td>478.433333</td>\n",
       "      <td>505.18</td>\n",
       "      <td>505.18</td>\n",
       "      <td>442.283333</td>\n",
       "      <td>229.960000</td>\n",
       "      <td>119.333333</td>\n",
       "      <td>87.423333</td>\n",
       "    </tr>\n",
       "    <tr>\n",
       "      <th>10</th>\n",
       "      <td>10</td>\n",
       "      <td>norte</td>\n",
       "      <td>5</td>\n",
       "      <td>78.723333</td>\n",
       "      <td>40.160000</td>\n",
       "      <td>40.160000</td>\n",
       "      <td>40.160000</td>\n",
       "      <td>380.750000</td>\n",
       "      <td>505.180000</td>\n",
       "      <td>505.18</td>\n",
       "      <td>505.18</td>\n",
       "      <td>386.736667</td>\n",
       "      <td>142.693333</td>\n",
       "      <td>100.796667</td>\n",
       "      <td>53.860000</td>\n",
       "    </tr>\n",
       "    <tr>\n",
       "      <th>1</th>\n",
       "      <td>1</td>\n",
       "      <td>nordeste</td>\n",
       "      <td>2</td>\n",
       "      <td>179.980000</td>\n",
       "      <td>176.750000</td>\n",
       "      <td>223.400000</td>\n",
       "      <td>106.830000</td>\n",
       "      <td>154.510000</td>\n",
       "      <td>321.060000</td>\n",
       "      <td>505.18</td>\n",
       "      <td>505.18</td>\n",
       "      <td>496.926667</td>\n",
       "      <td>326.100000</td>\n",
       "      <td>150.066667</td>\n",
       "      <td>66.410000</td>\n",
       "    </tr>\n",
       "    <tr>\n",
       "      <th>6</th>\n",
       "      <td>6</td>\n",
       "      <td>norte</td>\n",
       "      <td>1</td>\n",
       "      <td>168.486667</td>\n",
       "      <td>78.723333</td>\n",
       "      <td>40.160000</td>\n",
       "      <td>40.160000</td>\n",
       "      <td>40.160000</td>\n",
       "      <td>380.750000</td>\n",
       "      <td>505.18</td>\n",
       "      <td>505.18</td>\n",
       "      <td>490.513333</td>\n",
       "      <td>386.736667</td>\n",
       "      <td>142.693333</td>\n",
       "      <td>59.073333</td>\n",
       "    </tr>\n",
       "    <tr>\n",
       "      <th>12</th>\n",
       "      <td>12</td>\n",
       "      <td>sudeste</td>\n",
       "      <td>1</td>\n",
       "      <td>196.546667</td>\n",
       "      <td>175.433333</td>\n",
       "      <td>202.220000</td>\n",
       "      <td>40.160000</td>\n",
       "      <td>218.216667</td>\n",
       "      <td>406.170000</td>\n",
       "      <td>505.18</td>\n",
       "      <td>505.18</td>\n",
       "      <td>487.806667</td>\n",
       "      <td>386.736667</td>\n",
       "      <td>142.690000</td>\n",
       "      <td>59.073333</td>\n",
       "    </tr>\n",
       "    <tr>\n",
       "      <th>18</th>\n",
       "      <td>18</td>\n",
       "      <td>sul</td>\n",
       "      <td>1</td>\n",
       "      <td>200.010000</td>\n",
       "      <td>151.490000</td>\n",
       "      <td>202.220000</td>\n",
       "      <td>40.160000</td>\n",
       "      <td>218.216667</td>\n",
       "      <td>406.170000</td>\n",
       "      <td>505.18</td>\n",
       "      <td>505.18</td>\n",
       "      <td>487.806667</td>\n",
       "      <td>386.736667</td>\n",
       "      <td>142.690000</td>\n",
       "      <td>59.073333</td>\n",
       "    </tr>\n",
       "  </tbody>\n",
       "</table>\n",
       "</div>"
      ],
      "text/plain": [
       "    Unnamed: 0 submercado  semana  2018-01-01 00:00:00  2018-02-01 00:00:00  \\\n",
       "7            7      norte       2           165.653333            40.160000   \n",
       "11          11      norte       6             0.000000             0.000000   \n",
       "13          13    sudeste       2           176.790000           179.750000   \n",
       "19          19        sul       2           178.770000           178.646667   \n",
       "15          15    sudeste       4           193.273333           211.023333   \n",
       "10          10      norte       5            78.723333            40.160000   \n",
       "1            1   nordeste       2           179.980000           176.750000   \n",
       "6            6      norte       1           168.486667            78.723333   \n",
       "12          12    sudeste       1           196.546667           175.433333   \n",
       "18          18        sul       1           200.010000           151.490000   \n",
       "\n",
       "    2018-03-01 00:00:00  2018-04-01 00:00:00  2018-05-01 00:00:00  \\\n",
       "7             40.160000            77.946667            40.160000   \n",
       "11            40.160000             0.000000             0.000000   \n",
       "13           223.400000            85.060000           306.520000   \n",
       "19           223.400000            85.060000           306.520000   \n",
       "15           219.693333           136.160000           341.423333   \n",
       "10            40.160000            40.160000           380.750000   \n",
       "1            223.400000           106.830000           154.510000   \n",
       "6             40.160000            40.160000            40.160000   \n",
       "12           202.220000            40.160000           218.216667   \n",
       "18           202.220000            40.160000           218.216667   \n",
       "\n",
       "    2018-06-01 00:00:00  2018-07-01 00:00:00  2018-08-01 00:00:00  \\\n",
       "7            321.060000               505.18               505.18   \n",
       "11           505.180000                 0.00                 0.00   \n",
       "13           442.340000               505.18               505.18   \n",
       "19           442.340000               505.18               505.18   \n",
       "15           478.433333               505.18               505.18   \n",
       "10           505.180000               505.18               505.18   \n",
       "1            321.060000               505.18               505.18   \n",
       "6            380.750000               505.18               505.18   \n",
       "12           406.170000               505.18               505.18   \n",
       "18           406.170000               505.18               505.18   \n",
       "\n",
       "    2018-09-01 00:00:00  2018-10-01 00:00:00  2018-11-01 00:00:00  \\\n",
       "7            496.926667           326.100000           150.066667   \n",
       "11             0.000000             0.000000             0.000000   \n",
       "13           496.926667           326.100000           150.066667   \n",
       "19           496.926667           326.100000           150.066667   \n",
       "15           442.283333           229.960000           119.333333   \n",
       "10           386.736667           142.693333           100.796667   \n",
       "1            496.926667           326.100000           150.066667   \n",
       "6            490.513333           386.736667           142.693333   \n",
       "12           487.806667           386.736667           142.690000   \n",
       "18           487.806667           386.736667           142.690000   \n",
       "\n",
       "    2018-12-01 00:00:00  \n",
       "7             66.156667  \n",
       "11             0.000000  \n",
       "13            66.156667  \n",
       "19            66.156667  \n",
       "15            87.423333  \n",
       "10            53.860000  \n",
       "1             66.410000  \n",
       "6             59.073333  \n",
       "12            59.073333  \n",
       "18            59.073333  "
      ]
     },
     "execution_count": 12,
     "metadata": {},
     "output_type": "execute_result"
    }
   ],
   "source": [
    "# Eu gostaria de ter média do pld por submercado em um certo mês, essa é uma visão semanal ...\n",
    "infopld_2018_df.sample(10)"
   ]
  },
  {
   "cell_type": "code",
   "execution_count": 13,
   "id": "d0bca9f0-b86a-433b-b903-bf92173f3d50",
   "metadata": {},
   "outputs": [
    {
     "data": {
      "text/html": [
       "<div>\n",
       "<style scoped>\n",
       "    .dataframe tbody tr th:only-of-type {\n",
       "        vertical-align: middle;\n",
       "    }\n",
       "\n",
       "    .dataframe tbody tr th {\n",
       "        vertical-align: top;\n",
       "    }\n",
       "\n",
       "    .dataframe thead th {\n",
       "        text-align: right;\n",
       "    }\n",
       "</style>\n",
       "<table border=\"1\" class=\"dataframe\">\n",
       "  <thead>\n",
       "    <tr style=\"text-align: right;\">\n",
       "      <th>submercado</th>\n",
       "      <th>nordeste</th>\n",
       "      <th>norte</th>\n",
       "      <th>sudeste</th>\n",
       "      <th>sul</th>\n",
       "    </tr>\n",
       "  </thead>\n",
       "  <tbody>\n",
       "    <tr>\n",
       "      <th>2018-01-01 00:00:00</th>\n",
       "      <td>148.732222</td>\n",
       "      <td>116.841667</td>\n",
       "      <td>150.866111</td>\n",
       "      <td>148.062222</td>\n",
       "    </tr>\n",
       "    <tr>\n",
       "      <th>2018-02-01 00:00:00</th>\n",
       "      <td>149.291667</td>\n",
       "      <td>39.893889</td>\n",
       "      <td>156.578333</td>\n",
       "      <td>153.501111</td>\n",
       "    </tr>\n",
       "    <tr>\n",
       "      <th>2018-03-01 00:00:00</th>\n",
       "      <td>189.567222</td>\n",
       "      <td>40.160000</td>\n",
       "      <td>191.878333</td>\n",
       "      <td>191.878333</td>\n",
       "    </tr>\n",
       "    <tr>\n",
       "      <th>2018-04-01 00:00:00</th>\n",
       "      <td>93.433889</td>\n",
       "      <td>44.496111</td>\n",
       "      <td>100.423333</td>\n",
       "      <td>100.423333</td>\n",
       "    </tr>\n",
       "    <tr>\n",
       "      <th>2018-05-01 00:00:00</th>\n",
       "      <td>176.266667</td>\n",
       "      <td>129.660000</td>\n",
       "      <td>266.565000</td>\n",
       "      <td>266.565000</td>\n",
       "    </tr>\n",
       "    <tr>\n",
       "      <th>2018-06-01 00:00:00</th>\n",
       "      <td>442.397778</td>\n",
       "      <td>442.397778</td>\n",
       "      <td>468.448333</td>\n",
       "      <td>468.448333</td>\n",
       "    </tr>\n",
       "    <tr>\n",
       "      <th>2018-07-01 00:00:00</th>\n",
       "      <td>420.983333</td>\n",
       "      <td>420.983333</td>\n",
       "      <td>420.983333</td>\n",
       "      <td>420.983333</td>\n",
       "    </tr>\n",
       "    <tr>\n",
       "      <th>2018-08-01 00:00:00</th>\n",
       "      <td>420.983333</td>\n",
       "      <td>420.983333</td>\n",
       "      <td>420.983333</td>\n",
       "      <td>420.983333</td>\n",
       "    </tr>\n",
       "    <tr>\n",
       "      <th>2018-09-01 00:00:00</th>\n",
       "      <td>384.363889</td>\n",
       "      <td>384.815000</td>\n",
       "      <td>384.363889</td>\n",
       "      <td>384.363889</td>\n",
       "    </tr>\n",
       "    <tr>\n",
       "      <th>2018-10-01 00:00:00</th>\n",
       "      <td>226.025556</td>\n",
       "      <td>226.025556</td>\n",
       "      <td>226.025000</td>\n",
       "      <td>226.025000</td>\n",
       "    </tr>\n",
       "    <tr>\n",
       "      <th>2018-11-01 00:00:00</th>\n",
       "      <td>105.654444</td>\n",
       "      <td>105.654444</td>\n",
       "      <td>105.653889</td>\n",
       "      <td>105.653889</td>\n",
       "    </tr>\n",
       "    <tr>\n",
       "      <th>2018-12-01 00:00:00</th>\n",
       "      <td>57.686667</td>\n",
       "      <td>43.235000</td>\n",
       "      <td>71.608333</td>\n",
       "      <td>71.608333</td>\n",
       "    </tr>\n",
       "  </tbody>\n",
       "</table>\n",
       "</div>"
      ],
      "text/plain": [
       "submercado             nordeste       norte     sudeste         sul\n",
       "2018-01-01 00:00:00  148.732222  116.841667  150.866111  148.062222\n",
       "2018-02-01 00:00:00  149.291667   39.893889  156.578333  153.501111\n",
       "2018-03-01 00:00:00  189.567222   40.160000  191.878333  191.878333\n",
       "2018-04-01 00:00:00   93.433889   44.496111  100.423333  100.423333\n",
       "2018-05-01 00:00:00  176.266667  129.660000  266.565000  266.565000\n",
       "2018-06-01 00:00:00  442.397778  442.397778  468.448333  468.448333\n",
       "2018-07-01 00:00:00  420.983333  420.983333  420.983333  420.983333\n",
       "2018-08-01 00:00:00  420.983333  420.983333  420.983333  420.983333\n",
       "2018-09-01 00:00:00  384.363889  384.815000  384.363889  384.363889\n",
       "2018-10-01 00:00:00  226.025556  226.025556  226.025000  226.025000\n",
       "2018-11-01 00:00:00  105.654444  105.654444  105.653889  105.653889\n",
       "2018-12-01 00:00:00   57.686667   43.235000   71.608333   71.608333"
      ]
     },
     "execution_count": 13,
     "metadata": {},
     "output_type": "execute_result"
    }
   ],
   "source": [
    "# https://pandas.pydata.org/pandas-docs/stable/reference/api/pandas.pivot_table.html\n",
    "data_columns = infopld_2018_df.iloc[:,3:].columns\n",
    "pivot_df = pd.pivot_table(infopld_2018_df, values = data_columns, index='submercado', aggfunc=np.mean, fill_value=0)\n",
    "pivot_df.T"
   ]
  },
  {
   "cell_type": "code",
   "execution_count": 14,
   "id": "f6441a5b-4448-4f31-b02a-1f2dc240f68d",
   "metadata": {},
   "outputs": [],
   "source": [
    "# Vamos fazer uma função?\n",
    "def pivot_data_columns(df):\n",
    "\n",
    "    data_columns = df.iloc[:,3:].columns\n",
    "    return pd.pivot_table(df, values = data_columns, index='submercado', aggfunc=np.mean, fill_value=0).T\n",
    "\n",
    "infopld_2018_df = pivot_data_columns(infopld_2018_df)\n",
    "infopld_2019_df = pivot_data_columns(infopld_2019_df)\n",
    "infopld_2020_df = pivot_data_columns(infopld_2020_df)"
   ]
  },
  {
   "cell_type": "code",
   "execution_count": 15,
   "id": "a112438d-981f-4a29-b9a8-32ab86780bea",
   "metadata": {},
   "outputs": [],
   "source": [
    "# Como podemos juntar esses dataframes?\n",
    "# https://pandas.pydata.org/pandas-docs/stable/reference/api/pandas.concat.html\n",
    "analysis_df = pd.concat([infopld_2018_df, infopld_2019_df, infopld_2020_df])\n",
    "\n",
    "# Algumas manipulações\n",
    "analysis_df = analysis_df.reset_index()\\\n",
    "                         .rename(columns={\"index\":\"Data\"})"
   ]
  },
  {
   "cell_type": "code",
   "execution_count": 24,
   "id": "a1de8986-fa31-4084-ab42-e2a79a98a37b",
   "metadata": {
    "tags": []
   },
   "outputs": [
    {
     "data": {
      "text/html": [
       "<div>\n",
       "<style scoped>\n",
       "    .dataframe tbody tr th:only-of-type {\n",
       "        vertical-align: middle;\n",
       "    }\n",
       "\n",
       "    .dataframe tbody tr th {\n",
       "        vertical-align: top;\n",
       "    }\n",
       "\n",
       "    .dataframe thead th {\n",
       "        text-align: right;\n",
       "    }\n",
       "</style>\n",
       "<table border=\"1\" class=\"dataframe\">\n",
       "  <thead>\n",
       "    <tr style=\"text-align: right;\">\n",
       "      <th></th>\n",
       "      <th>Data</th>\n",
       "      <th>submercado</th>\n",
       "      <th>pld</th>\n",
       "    </tr>\n",
       "  </thead>\n",
       "  <tbody>\n",
       "    <tr>\n",
       "      <th>0</th>\n",
       "      <td>2018-01-01</td>\n",
       "      <td>nordeste</td>\n",
       "      <td>148.732222</td>\n",
       "    </tr>\n",
       "    <tr>\n",
       "      <th>1</th>\n",
       "      <td>2018-02-01</td>\n",
       "      <td>nordeste</td>\n",
       "      <td>149.291667</td>\n",
       "    </tr>\n",
       "    <tr>\n",
       "      <th>2</th>\n",
       "      <td>2018-03-01</td>\n",
       "      <td>nordeste</td>\n",
       "      <td>189.567222</td>\n",
       "    </tr>\n",
       "    <tr>\n",
       "      <th>3</th>\n",
       "      <td>2018-04-01</td>\n",
       "      <td>nordeste</td>\n",
       "      <td>93.433889</td>\n",
       "    </tr>\n",
       "    <tr>\n",
       "      <th>4</th>\n",
       "      <td>2018-05-01</td>\n",
       "      <td>nordeste</td>\n",
       "      <td>176.266667</td>\n",
       "    </tr>\n",
       "  </tbody>\n",
       "</table>\n",
       "</div>"
      ],
      "text/plain": [
       "        Data submercado         pld\n",
       "0 2018-01-01   nordeste  148.732222\n",
       "1 2018-02-01   nordeste  149.291667\n",
       "2 2018-03-01   nordeste  189.567222\n",
       "3 2018-04-01   nordeste   93.433889\n",
       "4 2018-05-01   nordeste  176.266667"
      ]
     },
     "execution_count": 24,
     "metadata": {},
     "output_type": "execute_result"
    }
   ],
   "source": [
    "# Como criar uma coluna submercado sem perder informação\n",
    "# https://pandas.pydata.org/docs/reference/api/pandas.melt.html\n",
    "analysis_melt_df = analysis_df.melt(id_vars=\"Data\",value_name=\"pld\")\n",
    "analysis_melt_df.head()"
   ]
  },
  {
   "cell_type": "code",
   "execution_count": 25,
   "id": "321ede1d-63aa-4c2c-85d0-327feff56952",
   "metadata": {
    "tags": []
   },
   "outputs": [
    {
     "data": {
      "text/html": [
       "<div>\n",
       "<style scoped>\n",
       "    .dataframe tbody tr th:only-of-type {\n",
       "        vertical-align: middle;\n",
       "    }\n",
       "\n",
       "    .dataframe tbody tr th {\n",
       "        vertical-align: top;\n",
       "    }\n",
       "\n",
       "    .dataframe thead th {\n",
       "        text-align: right;\n",
       "    }\n",
       "</style>\n",
       "<table border=\"1\" class=\"dataframe\">\n",
       "  <thead>\n",
       "    <tr style=\"text-align: right;\">\n",
       "      <th></th>\n",
       "      <th>Data</th>\n",
       "      <th>submercado</th>\n",
       "      <th>Consumo (MWm)</th>\n",
       "    </tr>\n",
       "  </thead>\n",
       "  <tbody>\n",
       "    <tr>\n",
       "      <th>0</th>\n",
       "      <td>2018-07-01</td>\n",
       "      <td>nordeste</td>\n",
       "      <td>1186.785329</td>\n",
       "    </tr>\n",
       "    <tr>\n",
       "      <th>1</th>\n",
       "      <td>2018-07-01</td>\n",
       "      <td>norte</td>\n",
       "      <td>958.888612</td>\n",
       "    </tr>\n",
       "    <tr>\n",
       "      <th>2</th>\n",
       "      <td>2018-07-01</td>\n",
       "      <td>sudeste</td>\n",
       "      <td>3477.788493</td>\n",
       "    </tr>\n",
       "    <tr>\n",
       "      <th>3</th>\n",
       "      <td>2018-07-01</td>\n",
       "      <td>sul</td>\n",
       "      <td>3488.759033</td>\n",
       "    </tr>\n",
       "    <tr>\n",
       "      <th>4</th>\n",
       "      <td>2018-08-01</td>\n",
       "      <td>nordeste</td>\n",
       "      <td>1228.734591</td>\n",
       "    </tr>\n",
       "  </tbody>\n",
       "</table>\n",
       "</div>"
      ],
      "text/plain": [
       "        Data submercado  Consumo (MWm)\n",
       "0 2018-07-01   nordeste    1186.785329\n",
       "1 2018-07-01      norte     958.888612\n",
       "2 2018-07-01    sudeste    3477.788493\n",
       "3 2018-07-01        sul    3488.759033\n",
       "4 2018-08-01   nordeste    1228.734591"
      ]
     },
     "execution_count": 25,
     "metadata": {},
     "output_type": "execute_result"
    }
   ],
   "source": [
    "# Essa tabela tem datas tbm\n",
    "consumo_df.head()"
   ]
  },
  {
   "cell_type": "markdown",
   "id": "1a7c9daf-409f-4cb5-838f-25394ad56225",
   "metadata": {},
   "source": [
    "**Como podemos juntar essas tabelas?**\n",
    "\n",
    "<center><img src=\"imgs/inner_join.gif\"/></center>"
   ]
  },
  {
   "cell_type": "code",
   "execution_count": 26,
   "id": "5ff4b50a-d209-47d7-96df-a31f3f85201f",
   "metadata": {},
   "outputs": [
    {
     "data": {
      "text/html": [
       "<div>\n",
       "<style scoped>\n",
       "    .dataframe tbody tr th:only-of-type {\n",
       "        vertical-align: middle;\n",
       "    }\n",
       "\n",
       "    .dataframe tbody tr th {\n",
       "        vertical-align: top;\n",
       "    }\n",
       "\n",
       "    .dataframe thead th {\n",
       "        text-align: right;\n",
       "    }\n",
       "</style>\n",
       "<table border=\"1\" class=\"dataframe\">\n",
       "  <thead>\n",
       "    <tr style=\"text-align: right;\">\n",
       "      <th></th>\n",
       "      <th>Data</th>\n",
       "      <th>submercado</th>\n",
       "      <th>pld</th>\n",
       "      <th>Consumo (MWm)</th>\n",
       "    </tr>\n",
       "  </thead>\n",
       "  <tbody>\n",
       "    <tr>\n",
       "      <th>0</th>\n",
       "      <td>2018-07-01</td>\n",
       "      <td>nordeste</td>\n",
       "      <td>420.983333</td>\n",
       "      <td>1186.785329</td>\n",
       "    </tr>\n",
       "    <tr>\n",
       "      <th>1</th>\n",
       "      <td>2018-08-01</td>\n",
       "      <td>nordeste</td>\n",
       "      <td>420.983333</td>\n",
       "      <td>1228.734591</td>\n",
       "    </tr>\n",
       "    <tr>\n",
       "      <th>2</th>\n",
       "      <td>2018-09-01</td>\n",
       "      <td>nordeste</td>\n",
       "      <td>384.363889</td>\n",
       "      <td>1249.071013</td>\n",
       "    </tr>\n",
       "    <tr>\n",
       "      <th>3</th>\n",
       "      <td>2018-10-01</td>\n",
       "      <td>nordeste</td>\n",
       "      <td>226.025556</td>\n",
       "      <td>1318.491708</td>\n",
       "    </tr>\n",
       "    <tr>\n",
       "      <th>4</th>\n",
       "      <td>2018-11-01</td>\n",
       "      <td>nordeste</td>\n",
       "      <td>105.654444</td>\n",
       "      <td>1325.104644</td>\n",
       "    </tr>\n",
       "  </tbody>\n",
       "</table>\n",
       "</div>"
      ],
      "text/plain": [
       "        Data submercado         pld  Consumo (MWm)\n",
       "0 2018-07-01   nordeste  420.983333    1186.785329\n",
       "1 2018-08-01   nordeste  420.983333    1228.734591\n",
       "2 2018-09-01   nordeste  384.363889    1249.071013\n",
       "3 2018-10-01   nordeste  226.025556    1318.491708\n",
       "4 2018-11-01   nordeste  105.654444    1325.104644"
      ]
     },
     "execution_count": 26,
     "metadata": {},
     "output_type": "execute_result"
    }
   ],
   "source": [
    "# https://pandas.pydata.org/docs/reference/api/pandas.DataFrame.merge.html\n",
    "analysis_merge_df = pd.merge(analysis_melt_df, consumo_df, on=[\"Data\",\"submercado\"])\n",
    "analysis_merge_df.head(5)"
   ]
  },
  {
   "cell_type": "code",
   "execution_count": 27,
   "id": "496a2588-ff78-4517-8bb4-d8175f23125f",
   "metadata": {},
   "outputs": [
    {
     "data": {
      "text/html": [
       "<div>\n",
       "<style scoped>\n",
       "    .dataframe tbody tr th:only-of-type {\n",
       "        vertical-align: middle;\n",
       "    }\n",
       "\n",
       "    .dataframe tbody tr th {\n",
       "        vertical-align: top;\n",
       "    }\n",
       "\n",
       "    .dataframe thead th {\n",
       "        text-align: right;\n",
       "    }\n",
       "</style>\n",
       "<table border=\"1\" class=\"dataframe\">\n",
       "  <thead>\n",
       "    <tr style=\"text-align: right;\">\n",
       "      <th></th>\n",
       "      <th>Data</th>\n",
       "      <th>submercado</th>\n",
       "      <th>pld</th>\n",
       "      <th>Consumo (MWm)</th>\n",
       "    </tr>\n",
       "  </thead>\n",
       "  <tbody>\n",
       "    <tr>\n",
       "      <th>0</th>\n",
       "      <td>2018-07-01</td>\n",
       "      <td>nordeste</td>\n",
       "      <td>420.983333</td>\n",
       "      <td>1186.785329</td>\n",
       "    </tr>\n",
       "    <tr>\n",
       "      <th>1</th>\n",
       "      <td>2018-08-01</td>\n",
       "      <td>nordeste</td>\n",
       "      <td>420.983333</td>\n",
       "      <td>1228.734591</td>\n",
       "    </tr>\n",
       "    <tr>\n",
       "      <th>2</th>\n",
       "      <td>2018-09-01</td>\n",
       "      <td>nordeste</td>\n",
       "      <td>384.363889</td>\n",
       "      <td>1249.071013</td>\n",
       "    </tr>\n",
       "    <tr>\n",
       "      <th>3</th>\n",
       "      <td>2018-10-01</td>\n",
       "      <td>nordeste</td>\n",
       "      <td>226.025556</td>\n",
       "      <td>1318.491708</td>\n",
       "    </tr>\n",
       "    <tr>\n",
       "      <th>4</th>\n",
       "      <td>2018-11-01</td>\n",
       "      <td>nordeste</td>\n",
       "      <td>105.654444</td>\n",
       "      <td>1325.104644</td>\n",
       "    </tr>\n",
       "  </tbody>\n",
       "</table>\n",
       "</div>"
      ],
      "text/plain": [
       "        Data submercado         pld  Consumo (MWm)\n",
       "0 2018-07-01   nordeste  420.983333    1186.785329\n",
       "1 2018-08-01   nordeste  420.983333    1228.734591\n",
       "2 2018-09-01   nordeste  384.363889    1249.071013\n",
       "3 2018-10-01   nordeste  226.025556    1318.491708\n",
       "4 2018-11-01   nordeste  105.654444    1325.104644"
      ]
     },
     "execution_count": 27,
     "metadata": {},
     "output_type": "execute_result"
    }
   ],
   "source": [
    "analysis_merge_df.head(5)"
   ]
  },
  {
   "cell_type": "markdown",
   "id": "c1b7faa5-db97-4bf9-a813-db83d5f79dce",
   "metadata": {},
   "source": [
    "**Por último vamos realizar uma pequena análise exploratória**"
   ]
  },
  {
   "cell_type": "code",
   "execution_count": 20,
   "id": "cf76447c-52cc-4bbb-beb9-7d7f473d5648",
   "metadata": {},
   "outputs": [
    {
     "data": {
      "image/png": "[encoded data removed]",
      "text/plain": [
       "<Figure size 1080x720 with 2 Axes>"
      ]
     },
     "metadata": {},
     "output_type": "display_data"
    }
   ],
   "source": [
    "import matplotlib.pyplot as plt\n",
    "import seaborn as sns\n",
    "sns.set_theme(style=\"darkgrid\")\n",
    "color1 = \"ch:rot=-.25,hue=1,light=.75\"\n",
    "color2 = \"colorblind\"\n",
    "\n",
    "fig, axs = plt.subplots(2,1,figsize=(15,10))\n",
    "\n",
    "sns.lineplot(\n",
    "    x=\"Data\", y=\"Consumo (MWm)\",hue=\"submercado\",\n",
    "    data=analysis_merge_df, ax = axs[0],\n",
    "    palette=color2, marker='o', markersize=3, mec='k', lw=1.5)\n",
    "\n",
    "axs[0].axvline(x=pd.to_datetime(\"2018-12-1\"), lw=2, ls='--', c='black')\n",
    "axs[0].axvline(x=pd.to_datetime(\"2019-04-1\"), lw=2, ls='--', c='black')\n",
    "\n",
    "axs[0].axvline(x=pd.to_datetime(\"2020-02-1\"), lw=2, ls='--', c='black')\n",
    "axs[0].axvline(x=pd.to_datetime(\"2020-05-1\"), lw=2, ls='--', c='black')\n",
    "\n",
    "\n",
    "sns.lineplot(\n",
    "    x=\"Data\", y=\"pld\", hue =\"submercado\", \n",
    "    data=analysis_merge_df, ax = axs[1],\n",
    "    palette=color2, marker='o', markersize=3, mec='k', lw=1.5)\n",
    "\n",
    "axs[1].axvline(x=pd.to_datetime(\"2018-12-1\"), lw=2, ls='--', c='black')\n",
    "axs[1].axvline(x=pd.to_datetime(\"2019-04-1\"), lw=2, ls='--', c='black')\n",
    "\n",
    "axs[1].axvline(x=pd.to_datetime(\"2020-02-1\"), lw=2, ls='--', c='black')\n",
    "axs[1].axvline(x=pd.to_datetime(\"2020-05-1\"), lw=2, ls='--', c='black')\n",
    "\n",
    "plt.show()"
   ]
  },
  {
   "cell_type": "markdown",
   "id": "4a8dd81f-639d-4463-9ad5-a84c7248c91c",
   "metadata": {},
   "source": [
    "**Então o que fazemos ?**\n",
    "\n",
    "<center><img src=\"https://www.abgconsultoria.com.br/blog/wp-content/uploads/img33-768x242.png\" width=700></center>"
   ]
  }
 ],
 "metadata": {
  "kernelspec": {
   "display_name": "venv_playground",
   "language": "python",
   "name": "venv_playground"
  },
  "language_info": {
   "codemirror_mode": {
    "name": "ipython",
    "version": 3
   },
   "file_extension": ".py",
   "mimetype": "text/x-python",
   "name": "python",
   "nbconvert_exporter": "python",
   "pygments_lexer": "ipython3",
   "version": "3.9.4"
  }
 },
 "nbformat": 4,
 "nbformat_minor": 5
}
