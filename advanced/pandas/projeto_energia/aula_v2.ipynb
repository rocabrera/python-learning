{
 "cells": [
  {
   "cell_type": "markdown",
   "id": "ccc67d27-e41a-4bc8-8093-4f004164bfff",
   "metadata": {},
   "source": [
    "# **Agenda**\n",
    "\n",
    "- **Introdução**\n",
    "- **Algumas diferenças de python para outras linguagens**\n",
    "- **Uma jornada recorrente em projetos baseados em dados**\n",
    "- **Exemplo de aplicação prática**\n",
    "    - Pandas\n",
    "    - Manipulação de dados\n",
    "    - Exploração de dados"
   ]
  },
  {
   "cell_type": "markdown",
   "id": "123c0095-c597-4e2a-8609-9d9c05eea0ac",
   "metadata": {},
   "source": [
    "---"
   ]
  },
  {
   "cell_type": "markdown",
   "id": "5868c51c-0a6e-489c-b7fd-3e6b923350aa",
   "metadata": {},
   "source": [
    "# **Introdução**"
   ]
  },
  {
   "cell_type": "markdown",
   "id": "8d68b10b-17f9-4f7e-9879-7faea27d1c1f",
   "metadata": {},
   "source": [
    "### O que é python? \n",
    "\n",
    "É uma linguagem de programação:\n",
    "\n",
    "- Alto nível.\n",
    "- Interpretada.\n",
    "- Multi paradigma.\n",
    "- Tipada dinâmicamente."
   ]
  },
  {
   "cell_type": "code",
   "execution_count": null,
   "id": "7bcad35d-4be9-4cbb-b9f0-056f7e110a80",
   "metadata": {},
   "outputs": [],
   "source": [
    "# O que é python? \n"
   ]
  },
  {
   "cell_type": "markdown",
   "id": "8c1d62b6-0dfb-4e6c-a04f-0281900fbf7b",
   "metadata": {},
   "source": [
    "**PYPL: Popularity of Programming Language**: Quão frequentemente tutoriais sobre uma linguagem são buscados?\n",
    "Ref: https://pypl.github.io/PYPL.html\n",
    "<center><img src=\"imgs/python2021_index.png\"/></center>\n",
    "\n"
   ]
  },
  {
   "cell_type": "markdown",
   "id": "2e16f360-a1ad-4d57-81d1-d2cb8c15fe7f",
   "metadata": {},
   "source": [
    "- **Pypi**\n",
    "  - 8.1 TB de código escrito.\n",
    "  - 312,781 projetos.\n",
    "  - <font color=\"orange\">**518,479 usuários.**</font> "
   ]
  },
  {
   "cell_type": "markdown",
   "id": "33ac7110-fe92-41c2-bcf0-5b6f575b96ad",
   "metadata": {},
   "source": [
    "---"
   ]
  },
  {
   "cell_type": "markdown",
   "id": "a3be9cc1-d2d7-478f-bb73-6554450b83d2",
   "metadata": {},
   "source": [
    "# **Algumas diferenças entre python e outras linguagens**\n",
    "\n",
    "Ref: https://www.python.org/doc/essays/comparisons/"
   ]
  },
  {
   "cell_type": "markdown",
   "id": "2bf39268-f38f-4db8-8edf-4da1895bb26e",
   "metadata": {},
   "source": [
    "Vamos printar na tela de 0 a 5?\n",
    "\n",
    "**Java:**\n",
    "```java\n",
    "for (int i = 0; i < 5; i++) {\n",
    "    System.out.println(i);\n",
    "}\n",
    "```\n",
    "\n",
    "**Python:**\n",
    "\n",
    "```python\n",
    "for i in range(0,6):\n",
    "    print(i)\n",
    "```"
   ]
  },
  {
   "cell_type": "code",
   "execution_count": null,
   "id": "fac9b683-0d44-4422-9054-efdce68799d5",
   "metadata": {
    "tags": []
   },
   "outputs": [],
   "source": [
    "# Qual posição dos números pares na lista? \n",
    "lista = [4, 5, 1, 2, 10, 7]"
   ]
  },
  {
   "cell_type": "code",
   "execution_count": null,
   "id": "1a53d53b-dedc-43a3-8e3a-b74e2019345b",
   "metadata": {},
   "outputs": [],
   "source": [
    "# Qual posição dos números pares na lista? \n"
   ]
  },
  {
   "cell_type": "code",
   "execution_count": null,
   "id": "f6f03783-7a89-481b-89d8-65c8ca9454c4",
   "metadata": {},
   "outputs": [],
   "source": [
    "# Precisamos mesmo de um contador?\n"
   ]
  },
  {
   "cell_type": "code",
   "execution_count": null,
   "id": "a179c644-fe9b-49c1-b8af-ab2ffb525256",
   "metadata": {},
   "outputs": [],
   "source": [
    "# Precisamos inicializar a lista de pares?\n"
   ]
  },
  {
   "cell_type": "markdown",
   "id": "5b130c89-190f-41db-bd34-b09a667045e8",
   "metadata": {},
   "source": [
    "---"
   ]
  },
  {
   "cell_type": "markdown",
   "id": "547485c7-1432-4d29-a275-3382b45b9686",
   "metadata": {},
   "source": [
    "# **Uma jornada recorrente em projetos baseados em dados**\n",
    "\n",
    "Cada projeto de ciência de dados é único, contendo suas particularidades e especificidades.\n",
    "\n",
    "Mas, de maneira genérica, um projeto de ciência de dados costuma ser dividido nas seguintes etapas:\n",
    "\n",
    "- 0) Formulação do problema;\n",
    "- 1) Ingestão dos dados;\n",
    "- 2) <font color = \"orange\"> Preparação dos dados; </font>\n",
    "- 3) <font color = \"orange\"> Exploração dos dados; </font>\n",
    "- 4) Modelagem;\n",
    "- 5) Apresentação ou deploy;\n",
    "\n",
    "Depois da etapa 0, as mais <font color=\"orange\">trabalhosas</font> (e que comumente mais tomam tempo) são as etapas <font color=\"orange\">2 e 3</font>.\n",
    "\n",
    "E há quem diga que estas são as etapas mais importantes! <font color =\"red\"> **(Garbage in, garabage out!)** </font> "
   ]
  },
  {
   "cell_type": "markdown",
   "id": "4e431058-fdbb-4cb9-8c53-d4f2fe74f8ad",
   "metadata": {},
   "source": [
    "<center><img src=\"https://www.xtivia.com/media/Data_Science_Pipeline.png\" width=700></center>"
   ]
  },
  {
   "cell_type": "markdown",
   "id": "bcd58eff-935f-4d81-9dbb-27c02628fcbb",
   "metadata": {},
   "source": [
    "# **Exemplo de aplicação prática**"
   ]
  },
  {
   "cell_type": "markdown",
   "id": "5e988da4-d664-4736-b439-76c1ea8ad8ca",
   "metadata": {},
   "source": [
    "Vamos explorar a relação entre consumo de energia e custo por submercado.\n",
    "\n",
    "**Datasets** - https://www.ccee.org.br/portal/:\n",
    " - consumo.xlsx\n",
    " - infopld.xlsx (3 sheets)\n",
    " \n",
    "**Informação auxiliar**:\n",
    " - estado2submercado.json (Mapeia estado - submercado)"
   ]
  },
  {
   "cell_type": "markdown",
   "id": "9cd4ba66-c644-40fe-9792-00d739fe698e",
   "metadata": {},
   "source": [
    "DESENVOLVER INTELIGENCIA DE MERCADO E FERRAMENTAS COMPUTACIONAIS PARA SE DESCOBRI O VALOR DO PLD, POIS A PLD AJUDA A DEFINIR QUAL VAI SER A VERIAÇÃO NO BOLSA DE ENERGIA.\n"
   ]
  },
  {
   "cell_type": "code",
   "execution_count": null,
   "id": "45cea37f-367d-4e2f-b561-fee30e5552dd",
   "metadata": {},
   "outputs": [],
   "source": [
    "import numpy as np\n",
    "import pandas as pd\n",
    "\n",
    "# Vamos dar uma olhada em uma tabela\n",
    "df = pd.read_excel(\"data/consumo.xlsx\")\n"
   ]
  },
  {
   "cell_type": "code",
   "execution_count": null,
   "id": "b2b6b984-e021-42e8-9c2e-a1307c306cb8",
   "metadata": {},
   "outputs": [],
   "source": [
    "# Vamos resolver o problema das datas?\n"
   ]
  },
  {
   "cell_type": "code",
   "execution_count": null,
   "id": "a40d85d0-65df-46bd-99e2-06e9849af1bc",
   "metadata": {},
   "outputs": [],
   "source": [
    "# O que vemos nem sempre é a verdade\n"
   ]
  },
  {
   "cell_type": "code",
   "execution_count": null,
   "id": "e70d0e21-e990-48ac-bccd-399fe5bc317f",
   "metadata": {},
   "outputs": [],
   "source": [
    "# Sera que a variável consumo está correta? \n"
   ]
  },
  {
   "cell_type": "code",
   "execution_count": null,
   "id": "c8bd4a42-5c8a-4781-9199-7ed57960ad2c",
   "metadata": {},
   "outputs": [],
   "source": [
    "# Vamos visualizar esse consumo?\n"
   ]
  },
  {
   "cell_type": "code",
   "execution_count": null,
   "id": "ddc3c839-ddbc-4329-84aa-fd5294d98a76",
   "metadata": {},
   "outputs": [],
   "source": [
    "# Para ganhar tempo eu ja limpei uma tabela\n"
   ]
  },
  {
   "cell_type": "markdown",
   "id": "fdae7740-5ee7-4453-94b4-acfbadca27f7",
   "metadata": {},
   "source": [
    "### **Vamos fazer um mini processamento?** "
   ]
  },
  {
   "cell_type": "code",
   "execution_count": null,
   "id": "f12468c7-42c7-4740-a6c9-139305abb52e",
   "metadata": {},
   "outputs": [],
   "source": [
    "# Como podemos ler um arquivo excel com várias sheets? \n"
   ]
  },
  {
   "cell_type": "code",
   "execution_count": null,
   "id": "d25ad0da-d0f1-414d-b7e0-5448b63cf7ab",
   "metadata": {
    "tags": []
   },
   "outputs": [],
   "source": [
    "# Eu gostaria de ter média do pld por submercado em um certo mês, essa é uma visão semanal ...\n"
   ]
  },
  {
   "cell_type": "code",
   "execution_count": null,
   "id": "d0bca9f0-b86a-433b-b903-bf92173f3d50",
   "metadata": {},
   "outputs": [],
   "source": [
    "# https://pandas.pydata.org/pandas-docs/stable/reference/api/pandas.pivot_table.html\n"
   ]
  },
  {
   "cell_type": "code",
   "execution_count": null,
   "id": "f6441a5b-4448-4f31-b02a-1f2dc240f68d",
   "metadata": {},
   "outputs": [],
   "source": [
    "# Vamos fazer uma função?\n"
   ]
  },
  {
   "cell_type": "code",
   "execution_count": null,
   "id": "a112438d-981f-4a29-b9a8-32ab86780bea",
   "metadata": {},
   "outputs": [],
   "source": [
    "# Como podemos juntar esses dataframes?\n",
    "# https://pandas.pydata.org/pandas-docs/stable/reference/api/pandas.concat.html\n",
    "\n",
    "# Algumas manipulações\n"
   ]
  },
  {
   "cell_type": "code",
   "execution_count": null,
   "id": "a1de8986-fa31-4084-ab42-e2a79a98a37b",
   "metadata": {
    "tags": []
   },
   "outputs": [],
   "source": [
    "# Como criar uma coluna submercado sem perder informação\n",
    "# https://pandas.pydata.org/docs/reference/api/pandas.melt.html\n"
   ]
  },
  {
   "cell_type": "code",
   "execution_count": null,
   "id": "321ede1d-63aa-4c2c-85d0-327feff56952",
   "metadata": {
    "tags": []
   },
   "outputs": [],
   "source": [
    "# Essa tabela tem datas tbm\n"
   ]
  },
  {
   "cell_type": "markdown",
   "id": "1a7c9daf-409f-4cb5-838f-25394ad56225",
   "metadata": {},
   "source": [
    "**Como podemos juntar essas tabelas?**\n",
    "\n",
    "<center><img src=\"imgs/inner_join.gif\"/></center>"
   ]
  },
  {
   "cell_type": "code",
   "execution_count": null,
   "id": "5ff4b50a-d209-47d7-96df-a31f3f85201f",
   "metadata": {},
   "outputs": [],
   "source": [
    "# https://pandas.pydata.org/docs/reference/api/pandas.DataFrame.merge.html\n"
   ]
  },
  {
   "cell_type": "code",
   "execution_count": null,
   "id": "496a2588-ff78-4517-8bb4-d8175f23125f",
   "metadata": {},
   "outputs": [],
   "source": []
  },
  {
   "cell_type": "markdown",
   "id": "c1b7faa5-db97-4bf9-a813-db83d5f79dce",
   "metadata": {},
   "source": [
    "**Por último vamos realizar uma pequena análise exploratória**"
   ]
  },
  {
   "cell_type": "code",
   "execution_count": null,
   "id": "cf76447c-52cc-4bbb-beb9-7d7f473d5648",
   "metadata": {},
   "outputs": [],
   "source": [
    "import matplotlib.pyplot as plt\n",
    "import seaborn as sns\n",
    "sns.set_theme(style=\"darkgrid\")\n",
    "color1 = \"ch:rot=-.25,hue=1,light=.75\"\n",
    "color2 = \"colorblind\"\n",
    "\n",
    "# https://seaborn.pydata.org/generated/seaborn.lineplot.html\n",
    "\n",
    "fig, axs = plt.subplots(2,1,figsize=(15,10))\n",
    "\n",
    "sns.lineplot(\n",
    "    x=\"Data\", y=\"Consumo (MWm)\",hue=\"submercado\",\n",
    "    data=analysis_merge_df, ax = axs[0],\n",
    "    palette=color2, marker='o', markersize=3, mec='k', lw=1.5)\n",
    "\n",
    "axs[0].axvline(x=pd.to_datetime(\"2018-12-1\"), lw=2, ls='--', c='black')\n",
    "axs[0].axvline(x=pd.to_datetime(\"2019-04-1\"), lw=2, ls='--', c='black')\n",
    "\n",
    "axs[0].axvline(x=pd.to_datetime(\"2020-02-1\"), lw=2, ls='--', c='black')\n",
    "axs[0].axvline(x=pd.to_datetime(\"2020-05-1\"), lw=2, ls='--', c='black')\n",
    "\n",
    "\n",
    "plt.show()"
   ]
  },
  {
   "cell_type": "markdown",
   "id": "4a8dd81f-639d-4463-9ad5-a84c7248c91c",
   "metadata": {},
   "source": [
    "**Então o que fazemos ?**\n",
    "\n",
    "<center><img src=\"https://www.abgconsultoria.com.br/blog/wp-content/uploads/img33-768x242.png\" width=700></center>"
   ]
  }
 ],
 "metadata": {
  "kernelspec": {
   "display_name": "venv_playground",
   "language": "python",
   "name": "venv_playground"
  },
  "language_info": {
   "codemirror_mode": {
    "name": "ipython",
    "version": 3
   },
   "file_extension": ".py",
   "mimetype": "text/x-python",
   "name": "python",
   "nbconvert_exporter": "python",
   "pygments_lexer": "ipython3",
   "version": "3.9.4"
  }
 },
 "nbformat": 4,
 "nbformat_minor": 5
}
