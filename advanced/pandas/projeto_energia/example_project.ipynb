{
 "cells": [
  {
   "cell_type": "code",
   "execution_count": 1,
   "metadata": {},
   "outputs": [],
   "source": [
    "import json\n",
    "import pandas as pd\n",
    "import numpy as np\n",
    "\n",
    "import seaborn as sns\n",
    "sns.set_theme(style=\"darkgrid\")\n",
    "color1 = \"ch:rot=-.25,hue=1,light=.75\"\n",
    "color2 = \"colorblind\"\n",
    "\n",
    "import matplotlib.pyplot as plt\n",
    "\n",
    "from functions import infopld_normalize, word_normalize, preprocessing_submercado"
   ]
  },
  {
   "cell_type": "markdown",
   "metadata": {},
   "source": [
    "Neste projeto vamos explorar a relação entre consumo de energia e custo por submercado.\n",
    "\n",
    "**Datasets** - https://www.ccee.org.br/portal/:\n",
    " - consumo.xlsx\n",
    " - infopld.xlsx (3 sheets)\n",
    " \n",
    "**Informação auxiliar**:\n",
    " - estado2submercado.json (Mapeia estado - submercado)"
   ]
  },
  {
   "cell_type": "markdown",
   "metadata": {},
   "source": [
    "DESENVOLVER INTELIGENCIA DE MERCADO E FERRAMENTAS COMPUTACION AIS PARA SE DESCOBRI O vALOR DO PLD, POIS A PLD QUE VAI DEFINIR QUAL VAI SER A VERIAÇÃO NO BOLSA DE ENERGIA.\n",
    "\n",
    "\n",
    "- PLD: preço da liquidação das diferenças (Valoração monetária)\n",
    "\n",
    "- PLD PARA CIMA\n",
    "  - OU geração das fontes baratas foi baixa (hidrelétricas)\n",
    "  - OU CONSUMO ALTO OBRIGANDO TERMOELETRICAS A FICAREM EM OPERAÇÃO\n",
    "- PLD - PARA BAIXO\n",
    "  - OU a geração das fontes baratas foi alta \n",
    "  - OU o consumo foi BAIXO\n"
   ]
  },
  {
   "cell_type": "markdown",
   "metadata": {},
   "source": [
    "## Loading data "
   ]
  },
  {
   "cell_type": "code",
   "execution_count": 2,
   "metadata": {},
   "outputs": [],
   "source": [
    "# Carregando os dados\n",
    "consumo_df = pd.read_excel(\"data/consumo.xlsx\")\n",
    "infopld = pd.ExcelFile(\"data/infopld.xlsx\")\n",
    "infopld_2018_df = infopld.parse(\"PLD2018\",encoding='ISO-8859-1') \n",
    "infopld_2019_df = infopld.parse(\"PLD2019\") \n",
    "infopld_2020_df = infopld.parse(\"PLD2020\") \n",
    "\n",
    "\n",
    "\"\"\"\n",
    "Submercados é um conjunto de estados melhor conectados por linha de transmissão ... ou seja ... o fluxo de energia entre eles é muito maior. \n",
    "\"\"\"\n",
    "with open(\"data/estado2submercado.json\", \"r\") as f:\n",
    "    submercados = json.load(f)"
   ]
  },
  {
   "cell_type": "markdown",
   "metadata": {},
   "source": [
    "## Cleaning "
   ]
  },
  {
   "cell_type": "code",
   "execution_count": 3,
   "metadata": {},
   "outputs": [],
   "source": [
    "# auxiliar info cleaning\n",
    "estado2submercado = preprocessing_submercado(submercados)\n",
    "\n",
    "#Consumo cleaning\n",
    "estados_clean = consumo_df[\"Estado\"].str.normalize('NFKD')\\\n",
    "                                    .str.encode('ascii', errors='ignore')\\\n",
    "                                    .str.decode('utf-8')\\\n",
    "                                    .str.strip()\\\n",
    "                                    .str.lower()\n",
    "\n",
    "clean_data = pd.to_datetime(consumo_df['Data'], format='%d/%m/%Y', errors='raise')\n",
    "\n",
    "consumo_df = consumo_df.assign(Estado = estados_clean)\\\n",
    "                       .assign(Data=clean_data)\\\n",
    "                       .fillna(method=\"ffill\")\\\n",
    "                       .replace({\"Estado\":estado2submercado})\\\n",
    "                       .rename(columns={\"Estado\":\"submercado\"})\\\n",
    "                       .groupby([\"Data\",\"submercado\"], as_index=False).agg(np.mean)\n",
    "\n",
    "# Vamos trabalhar com uma informação mensal\n",
    "consumo_df[\"Data\"] = consumo_df[\"Data\"].apply(lambda x: pd.to_datetime(f\"{x.year}-{x.month}-1\"))\n",
    "consumo_df = consumo_df.groupby([\"Data\", \"submercado\"], as_index=False).agg(np.mean)\n",
    "\n",
    "#pld cleaning\n",
    "infopld18_clean = infopld_normalize(infopld_2018_df)\n",
    "infopld19_clean = infopld_normalize(infopld_2019_df)\n",
    "infopld20_clean = infopld_normalize(infopld_2020_df)"
   ]
  },
  {
   "cell_type": "markdown",
   "metadata": {},
   "source": [
    "## Analysis "
   ]
  },
  {
   "cell_type": "code",
   "execution_count": null,
   "metadata": {},
   "outputs": [],
   "source": [
    "aux1 = infopld18_clean.melt(id_vars = ['submercado','semana'] ,var_name='data', value_name='pld')\n",
    "aux2 = infopld19_clean.melt(id_vars = ['submercado','semana'] ,var_name='data', value_name='pld')\n",
    "aux3 = infopld20_clean.melt(id_vars = ['submercado','semana'] ,var_name='data', value_name='pld')"
   ]
  },
  {
   "cell_type": "code",
   "execution_count": null,
   "metadata": {},
   "outputs": [],
   "source": [
    "weekly_df = pd.concat([aux1, aux2, aux3],ignore_index=True)\n",
    "weekly_df[[\"Year\", \"Month\"]] = weekly_df.apply(lambda x: (x['data'].year, x['data'].month), axis = 1, result_type='expand')\n",
    "weekly_df[\"Month\"] = weekly_df[\"Month\"].astype(str)\n",
    "weekly_df[\"Year\"] = weekly_df[\"Year\"].astype(str)"
   ]
  },
  {
   "cell_type": "markdown",
   "metadata": {},
   "source": [
    "### Consumo vs Meses "
   ]
  },
  {
   "cell_type": "code",
   "execution_count": null,
   "metadata": {},
   "outputs": [],
   "source": [
    "fig = plt.figure(figsize=(15,4))\n",
    "sns.lineplot(x=\"Month\", y=\"pld\", data=weekly_df, palette=color2, marker='o', markersize=3, mec='k', lw=1.5)\n",
    "plt.show()"
   ]
  },
  {
   "cell_type": "markdown",
   "metadata": {},
   "source": [
    "MOTIVO OU HIPÓTESE:\n",
    "\n",
    "PLD é muito baixo em abril pq a geração de energia pelas fontes hidrelétricas são muito altas nesse período."
   ]
  },
  {
   "cell_type": "code",
   "execution_count": null,
   "metadata": {},
   "outputs": [],
   "source": [
    "fig = plt.figure(figsize=(15,4))\n",
    "sns.lineplot(x=\"Month\", y=\"pld\", hue=\"Year\", data=weekly_df, palette=color2, marker='o', markersize=3, mec='k', lw=1.5)\n",
    "plt.axhline(y=100, lw=1.5, ls='--', c='red')\n",
    "plt.show()"
   ]
  },
  {
   "cell_type": "markdown",
   "metadata": {},
   "source": [
    "2018:\n",
    "\n",
    "\n",
    "2020:\n",
    "- O preço da energia entre Março e Setembro de 2020 foi muito barato.\n",
    "- Uma abertura das restrições da pandemia -> Houve um aumento do consumo da energia? \n"
   ]
  },
  {
   "cell_type": "code",
   "execution_count": null,
   "metadata": {},
   "outputs": [],
   "source": [
    "g = sns.FacetGrid(weekly_df, row=\"Year\", height=2, aspect=5)\n",
    "g.map_dataframe(sns.lineplot, x=\"Month\", y=\"pld\", hue='submercado', \n",
    "                palette=color2, marker='o', markersize=3, mec='k', lw=1.5)\n",
    "\n",
    "g.map(plt.axhline, y=100, lw=1, ls='--', c='black')\n",
    "g.map(plt.axhline, y=50,  lw=1, ls='--', c='red')\n",
    "\n",
    "g.set_axis_labels(\"Meses\", \"PLD\")\n",
    "g.add_legend()\n",
    "g.tight_layout()\n",
    "plt.show()"
   ]
  },
  {
   "cell_type": "markdown",
   "metadata": {},
   "source": [
    "Os efeitos aconteceram em um nível nacional"
   ]
  },
  {
   "cell_type": "markdown",
   "metadata": {},
   "source": [
    "### Outras visualizações"
   ]
  },
  {
   "cell_type": "markdown",
   "metadata": {},
   "source": [
    "Uma variação muito alta de um mês para outro -> E isso leva a motivação, descobrir o preço da energia nos meses futuros."
   ]
  },
  {
   "cell_type": "code",
   "execution_count": null,
   "metadata": {},
   "outputs": [],
   "source": [
    "fig = plt.figure(figsize=(15,4))\n",
    "sns.barplot(x=\"Month\", y=\"pld\", data=weekly_df,\n",
    "            hue='Year',color=\"b\", palette='pastel')\n",
    "plt.show()"
   ]
  },
  {
   "cell_type": "markdown",
   "metadata": {},
   "source": [
    "Podemos trabalhar em cima de diferenças mais especificas."
   ]
  },
  {
   "cell_type": "code",
   "execution_count": null,
   "metadata": {},
   "outputs": [],
   "source": [
    "g = sns.FacetGrid(weekly_df, col=\"submercado\", col_wrap=2, height=4, aspect=3)\n",
    "g.map_dataframe(sns.barplot, x=\"Month\", y=\"pld\", hue='Year', palette='pastel')\n",
    "\n",
    "g.set_axis_labels(\"Meses\", \"PLD\")\n",
    "g.add_legend()\n",
    "g.tight_layout()\n",
    "plt.show()"
   ]
  },
  {
   "cell_type": "markdown",
   "metadata": {},
   "source": [
    "**Vamos ver a série histórica completa da pld:**"
   ]
  },
  {
   "cell_type": "code",
   "execution_count": null,
   "metadata": {},
   "outputs": [],
   "source": [
    "fig = plt.figure(figsize=(15,4))\n",
    "sns.lineplot(x=\"data\", y=\"pld\", hue =\"submercado\", data=weekly_df, palette=color2, marker='o', markersize=3, mec='k', lw=1.5)\n",
    "plt.axhline(y=100, lw=1.5, ls='--', c='red')\n",
    "plt.show()"
   ]
  },
  {
   "cell_type": "markdown",
   "metadata": {},
   "source": [
    "### Consumo vs preço "
   ]
  },
  {
   "cell_type": "code",
   "execution_count": null,
   "metadata": {},
   "outputs": [],
   "source": [
    "columns18_agg = infopld18_clean.filter(regex=r\"\\d{4}-\\d{2}-\\d{2}\").columns\n",
    "columns19_agg = infopld19_clean.filter(regex=r\"\\d{4}-\\d{2}-\\d{2}\").columns\n",
    "columns20_agg = infopld20_clean.filter(regex=r\"\\d{4}-\\d{2}-\\d{2}\").columns\n",
    "aux1=pd.pivot_table(infopld18_clean, values = columns18_agg, index='submercado', aggfunc=np.mean, fill_value=0).T\n",
    "aux2=pd.pivot_table(infopld19_clean, values = columns19_agg, index='submercado', aggfunc=np.mean, fill_value=0).T\n",
    "aux3=pd.pivot_table(infopld20_clean, values = columns20_agg, index='submercado', aggfunc=np.mean, fill_value=0).T\n",
    "\n",
    "analysis_df = pd.concat([aux1, aux2, aux3])\n",
    "\n",
    "analysis_df = analysis_df.reset_index()\\\n",
    "                         .rename(columns={\"index\":\"Data\"})\n",
    "\n",
    "analysis_df = pd.merge(analysis_df.melt(id_vars=\"Data\",value_name=\"pld\"), consumo_df, on=[\"Data\",\"submercado\"])\n",
    "analysis_df[[\"Year\", \"Month\"]] = analysis_df.apply(lambda x: (x['Data'].year, x['Data'].month), axis = 1, result_type='expand')\n",
    "analysis_df[\"Month\"] = analysis_df[\"Month\"].astype(str)\n",
    "analysis_df[\"Year\"] = analysis_df[\"Year\"].astype(str)"
   ]
  },
  {
   "cell_type": "code",
   "execution_count": null,
   "metadata": {},
   "outputs": [],
   "source": [
    "fig, axs = plt.subplots(2,1,figsize=(15,10))\n",
    "\n",
    "sns.lineplot(\n",
    "    x=\"Data\", y=\"Consumo (MWm)\",hue=\"submercado\",\n",
    "    data=analysis_df, ax = axs[0],\n",
    "    palette=color2, marker='o', markersize=3, mec='k', lw=1.5)\n",
    "axs[0].axvline(x=pd.to_datetime(\"2018-12-1\"), lw=2, ls='--', c='black')\n",
    "axs[0].axvline(x=pd.to_datetime(\"2019-04-1\"), lw=2, ls='--', c='black')\n",
    "\n",
    "axs[0].axvline(x=pd.to_datetime(\"2020-02-1\"), lw=2, ls='--', c='black')\n",
    "axs[0].axvline(x=pd.to_datetime(\"2020-05-1\"), lw=2, ls='--', c='black')\n",
    "\n",
    "\n",
    "sns.lineplot(\n",
    "    x=\"Data\", y=\"pld\", hue =\"submercado\", \n",
    "    data=analysis_df, ax = axs[1],\n",
    "    palette=color2, marker='o', markersize=3, mec='k', lw=1.5)\n",
    "\n",
    "axs[1].axvline(x=pd.to_datetime(\"2018-12-1\"), lw=2, ls='--', c='black')\n",
    "axs[1].axvline(x=pd.to_datetime(\"2019-04-1\"), lw=2, ls='--', c='black')\n",
    "\n",
    "axs[1].axvline(x=pd.to_datetime(\"2020-02-1\"), lw=2, ls='--', c='black')\n",
    "axs[1].axvline(x=pd.to_datetime(\"2020-05-1\"), lw=2, ls='--', c='black')\n",
    "\n",
    "plt.show()"
   ]
  },
  {
   "cell_type": "markdown",
   "metadata": {},
   "source": [
    "Apesar de o consumo ser muito baixo nos submercados do norte e nordeste o preço da energia é similar. \n",
    "\n",
    "Isso acontece porque existe uma exportação e importação entre submercados, mas para checar isso precisariamos de outras variáveis."
   ]
  },
  {
   "cell_type": "code",
   "execution_count": null,
   "metadata": {},
   "outputs": [],
   "source": []
  }
 ],
 "metadata": {
  "kernelspec": {
   "display_name": "venv_playground",
   "language": "python",
   "name": "venv_playground"
  },
  "language_info": {
   "codemirror_mode": {
    "name": "ipython",
    "version": 3
   },
   "file_extension": ".py",
   "mimetype": "text/x-python",
   "name": "python",
   "nbconvert_exporter": "python",
   "pygments_lexer": "ipython3",
   "version": "3.9.4"
  }
 },
 "nbformat": 4,
 "nbformat_minor": 4
}
