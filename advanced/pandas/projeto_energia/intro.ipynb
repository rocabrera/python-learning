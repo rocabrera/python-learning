{
 "cells": [
  {
   "cell_type": "markdown",
   "id": "ccc67d27-e41a-4bc8-8093-4f004164bfff",
   "metadata": {},
   "source": [
    "# **Agenda**\n",
    "\n",
    "- **Introdução**\n",
    "- **Algumas diferenças de python para outras linguagens**\n",
    "- **Principal caracteristicas do Python** \n",
    "- **Exemplo de aplicação prática**"
   ]
  },
  {
   "cell_type": "markdown",
   "id": "123c0095-c597-4e2a-8609-9d9c05eea0ac",
   "metadata": {},
   "source": [
    "---"
   ]
  },
  {
   "cell_type": "markdown",
   "id": "5868c51c-0a6e-489c-b7fd-3e6b923350aa",
   "metadata": {},
   "source": [
    "# **Introdução**"
   ]
  },
  {
   "cell_type": "markdown",
   "id": "8d68b10b-17f9-4f7e-9879-7faea27d1c1f",
   "metadata": {},
   "source": [
    "### O que é python? \n",
    "\n",
    "É uma linguagem de programação:\n",
    "\n",
    "- Alto nível.\n",
    "- Interpretada.\n",
    "- Multi paradigma.\n",
    "- Tipada dinâmicamente."
   ]
  },
  {
   "cell_type": "code",
   "execution_count": 1,
   "id": "7bcad35d-4be9-4cbb-b9f0-056f7e110a80",
   "metadata": {},
   "outputs": [
    {
     "name": "stdout",
     "output_type": "stream",
     "text": [
      "The Zen of Python, by Tim Peters\n",
      "\n",
      "Beautiful is better than ugly.\n",
      "Explicit is better than implicit.\n",
      "Simple is better than complex.\n",
      "Complex is better than complicated.\n",
      "Flat is better than nested.\n",
      "Sparse is better than dense.\n",
      "Readability counts.\n",
      "Special cases aren't special enough to break the rules.\n",
      "Although practicality beats purity.\n",
      "Errors should never pass silently.\n",
      "Unless explicitly silenced.\n",
      "In the face of ambiguity, refuse the temptation to guess.\n",
      "There should be one-- and preferably only one --obvious way to do it.\n",
      "Although that way may not be obvious at first unless you're Dutch.\n",
      "Now is better than never.\n",
      "Although never is often better than *right* now.\n",
      "If the implementation is hard to explain, it's a bad idea.\n",
      "If the implementation is easy to explain, it may be a good idea.\n",
      "Namespaces are one honking great idea -- let's do more of those!\n"
     ]
    }
   ],
   "source": [
    "import this"
   ]
  },
  {
   "cell_type": "markdown",
   "id": "8c1d62b6-0dfb-4e6c-a04f-0281900fbf7b",
   "metadata": {},
   "source": [
    "**PYPL: Popularity of Programming Language**: Quão frequentemente tutoriais sobre uma linguagem são buscados?\n",
    "Ref: https://pypl.github.io/PYPL.html\n",
    "<center><img src=\"imgs/python2021_index.png\"/></center>\n",
    "\n"
   ]
  },
  {
   "cell_type": "markdown",
   "id": "2e16f360-a1ad-4d57-81d1-d2cb8c15fe7f",
   "metadata": {},
   "source": [
    "- **Pypi**\n",
    "  - 8.1 TB de código escrito.\n",
    "  - 312,781 projetos.\n",
    "  - 518,479 usuários. "
   ]
  },
  {
   "cell_type": "markdown",
   "id": "33ac7110-fe92-41c2-bcf0-5b6f575b96ad",
   "metadata": {},
   "source": [
    "---"
   ]
  },
  {
   "cell_type": "markdown",
   "id": "a3be9cc1-d2d7-478f-bb73-6554450b83d2",
   "metadata": {},
   "source": [
    "### **Algumas diferenças entre python e outras linguagens**\n",
    "\n",
    "Ref: https://www.python.org/doc/essays/comparisons/"
   ]
  },
  {
   "cell_type": "markdown",
   "id": "2bf39268-f38f-4db8-8edf-4da1895bb26e",
   "metadata": {},
   "source": [
    "Vamos printar na tela de 0 a 5?\n",
    "\n",
    "**Java:**\n",
    "```java\n",
    "for (int i = 0; i < 5; i++) {\n",
    "    System.out.println(i);\n",
    "}\n",
    "```\n",
    "\n",
    "**Python:**\n",
    "\n",
    "```python\n",
    "for i in range(0,6):\n",
    "    print(i)\n",
    "```"
   ]
  },
  {
   "cell_type": "code",
   "execution_count": 2,
   "id": "fac9b683-0d44-4422-9054-efdce68799d5",
   "metadata": {
    "tags": []
   },
   "outputs": [
    {
     "name": "stdout",
     "output_type": "stream",
     "text": [
      "4\n",
      "5\n",
      "1\n",
      "2\n",
      "10\n",
      "7\n"
     ]
    }
   ],
   "source": [
    "# Qual posição dos números pares na lista? \n",
    "\n",
    "lista = [4, 5, 1, 2, 10, 7]\n",
    "\n",
    "for valor in lista:\n",
    "    print(valor)"
   ]
  },
  {
   "cell_type": "code",
   "execution_count": 3,
   "id": "1a53d53b-dedc-43a3-8e3a-b74e2019345b",
   "metadata": {},
   "outputs": [
    {
     "data": {
      "text/plain": [
       "[0, 3, 4]"
      ]
     },
     "execution_count": 3,
     "metadata": {},
     "output_type": "execute_result"
    }
   ],
   "source": [
    "# Qual posição dos números pares na lista? \n",
    "\n",
    "lista = [4, 5, 1, 2, 10, 7]\n",
    "contador = 0\n",
    "pares = []\n",
    "for valor in lista:\n",
    "    \n",
    "    if valor%2 == 0:\n",
    "        pares.append(contador)\n",
    "    contador += 1\n",
    "    \n",
    "pares"
   ]
  },
  {
   "cell_type": "code",
   "execution_count": 4,
   "id": "f6f03783-7a89-481b-89d8-65c8ca9454c4",
   "metadata": {},
   "outputs": [
    {
     "data": {
      "text/plain": [
       "[0, 3, 4]"
      ]
     },
     "execution_count": 4,
     "metadata": {},
     "output_type": "execute_result"
    }
   ],
   "source": [
    "# Precisamos mesmo de um contador?\n",
    "\n",
    "lista = [4, 5, 1, 2, 10, 7]\n",
    "pares = []\n",
    "for idx, valor in enumerate(lista):\n",
    "    \n",
    "    if valor%2 == 0:\n",
    "        pares.append(idx)\n",
    "\n",
    "pares"
   ]
  },
  {
   "cell_type": "code",
   "execution_count": 5,
   "id": "a179c644-fe9b-49c1-b8af-ab2ffb525256",
   "metadata": {},
   "outputs": [
    {
     "data": {
      "text/plain": [
       "[0, 3, 4]"
      ]
     },
     "execution_count": 5,
     "metadata": {},
     "output_type": "execute_result"
    }
   ],
   "source": [
    "# Precisamos inicializar a lista de pares?\n",
    "\n",
    "lista = [4, 5, 1, 2, 10, 7]\n",
    "pares = [idx for idx, valor in enumerate(lista) if valor%2==0]\n",
    "\n",
    "pares"
   ]
  },
  {
   "cell_type": "markdown",
   "id": "5b130c89-190f-41db-bd34-b09a667045e8",
   "metadata": {},
   "source": [
    "---"
   ]
  },
  {
   "cell_type": "markdown",
   "id": "b87c2e3c-3d8b-4171-bc7e-bb55d6f8f0e1",
   "metadata": {},
   "source": [
    "### **Principal Característica do Python**"
   ]
  },
  {
   "cell_type": "code",
   "execution_count": 6,
   "id": "eb7068ed-dd94-4f54-b087-c730774c44c6",
   "metadata": {},
   "outputs": [],
   "source": [
    "# Torne a primeira letra de cada palavra maiusculo\n",
    "meu_texto = \"meu super titulo\""
   ]
  },
  {
   "cell_type": "code",
   "execution_count": 7,
   "id": "717b7fcf-8802-4b8b-bc32-b8b664db1c10",
   "metadata": {},
   "outputs": [
    {
     "data": {
      "text/plain": [
       "'Meu Super Titulo'"
      ]
     },
     "execution_count": 7,
     "metadata": {},
     "output_type": "execute_result"
    }
   ],
   "source": [
    "novo_texto = \"\"\n",
    "\n",
    "for word in meu_texto.split():\n",
    "    new_word = word[0].upper() + word[1:]\n",
    "    novo_texto = novo_texto + new_word + ' '\n",
    "    \n",
    "novo_texto.strip()"
   ]
  },
  {
   "cell_type": "code",
   "execution_count": 8,
   "id": "1a51e363-ff81-4a52-966d-3e6cb383dd9d",
   "metadata": {},
   "outputs": [
    {
     "data": {
      "text/plain": [
       "'Meu Super Titulo'"
      ]
     },
     "execution_count": 8,
     "metadata": {},
     "output_type": "execute_result"
    }
   ],
   "source": [
    "meu_texto.title()"
   ]
  },
  {
   "cell_type": "markdown",
   "id": "2cedf328-ad6e-46ac-b70a-ffdb599475b1",
   "metadata": {},
   "source": [
    "---"
   ]
  },
  {
   "cell_type": "markdown",
   "id": "6995b50d-b20d-4aa3-904e-1ebd62a13aa6",
   "metadata": {},
   "source": [
    "### **Exemplo de aplicação prática sem biblioteca**"
   ]
  },
  {
   "cell_type": "markdown",
   "id": "b1ac7c4a-21a9-4f18-8e66-ea2434a4e0bc",
   "metadata": {},
   "source": [
    "Vamos explorar a relação entre consumo de energia e custo por submercado.\n",
    "\n",
    "**Datasets** - https://www.ccee.org.br/portal/:\n",
    " - consumo.xlsx\n",
    " - infopld.xlsx (3 sheets)\n",
    " \n",
    "**Informação auxiliar**:\n",
    " - estado2submercado.json (Mapeia estado - submercado)"
   ]
  },
  {
   "cell_type": "code",
   "execution_count": 9,
   "id": "0cf6a1ab-9a8d-4ec2-aa68-08607d64a51d",
   "metadata": {},
   "outputs": [
    {
     "data": {
      "text/plain": [
       "2377.543545301602"
      ]
     },
     "execution_count": 9,
     "metadata": {},
     "output_type": "execute_result"
    }
   ],
   "source": [
    "with open(\"data/consumo_clean.csv\") as f:\n",
    "    data = f.read().splitlines()\n",
    "    \n",
    "acc = 0\n",
    "for row in data[1:]:\n",
    "    acc += float(row.split(',')[2])\n",
    "    \n",
    "acc/(len(data)-1)"
   ]
  },
  {
   "cell_type": "code",
   "execution_count": 10,
   "id": "a4d861a4-90d4-4919-bfe7-e8c627219ef5",
   "metadata": {},
   "outputs": [],
   "source": [
    "import pandas as pd"
   ]
  },
  {
   "cell_type": "code",
   "execution_count": 11,
   "id": "78725baa-d1f9-49c2-b618-7afb9990f05b",
   "metadata": {},
   "outputs": [
    {
     "data": {
      "text/plain": [
       "2377.543545301602"
      ]
     },
     "execution_count": 11,
     "metadata": {},
     "output_type": "execute_result"
    }
   ],
   "source": [
    "df = pd.read_csv(\"data/consumo_clean.csv\")\n",
    "df[\"Consumo (MWm)\"].mean()"
   ]
  },
  {
   "cell_type": "markdown",
   "id": "24fbdc9a-2303-408d-84e0-835ba926a8b9",
   "metadata": {},
   "source": [
    "### **Exemplo de aplicação prática com biblioteca**"
   ]
  },
  {
   "cell_type": "markdown",
   "id": "9cd4ba66-c644-40fe-9792-00d739fe698e",
   "metadata": {},
   "source": [
    "DESENVOLVER INTELIGENCIA DE MERCADO E FERRAMENTAS COMPUTACIONAIS PARA SE DESCOBRI O VALOR DO PLD, POIS A PLD AJUDA A DEFINIR QUAL VAI SER A VERIAÇÃO NO BOLSA DE ENERGIA.\n"
   ]
  },
  {
   "cell_type": "markdown",
   "id": "e20769fc-c3dc-4978-9466-c796ed45c887",
   "metadata": {},
   "source": [
    "Vamos para outro arquivo ..."
   ]
  }
 ],
 "metadata": {
  "kernelspec": {
   "display_name": "venv_playground",
   "language": "python",
   "name": "venv_playground"
  },
  "language_info": {
   "codemirror_mode": {
    "name": "ipython",
    "version": 3
   },
   "file_extension": ".py",
   "mimetype": "text/x-python",
   "name": "python",
   "nbconvert_exporter": "python",
   "pygments_lexer": "ipython3",
   "version": "3.9.4"
  }
 },
 "nbformat": 4,
 "nbformat_minor": 5
}
