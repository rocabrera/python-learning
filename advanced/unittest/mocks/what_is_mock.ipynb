{
 "cells": [
  {
   "cell_type": "markdown",
   "id": "55cee290-99fe-4a58-a51d-1b15053fc7a1",
   "metadata": {},
   "source": [
    "# **Entendo Mocks**"
   ]
  },
  {
   "cell_type": "markdown",
   "id": "e8ca32fb-87c2-4b9a-a3d8-81ddb665ea5e",
   "metadata": {},
   "source": [
    "## Object model: \\_\\_getattr\\_\\_"
   ]
  },
  {
   "cell_type": "markdown",
   "id": "d7aeba8a-5568-44bf-9584-fcd94a31be14",
   "metadata": {},
   "source": [
    "O método ```__getattr__``` implementa uma forma de acesso a atributos que não existem via ```.```"
   ]
  },
  {
   "cell_type": "code",
   "execution_count": 60,
   "id": "0ac53e6d-4087-49e1-948b-80b56c80ec78",
   "metadata": {},
   "outputs": [
    {
     "name": "stdout",
     "output_type": "stream",
     "text": [
      "Rodrigo\n",
      "O Atributo 'test' não existe.\n"
     ]
    }
   ],
   "source": [
    "class Pessoa:\n",
    "    \n",
    "    def __init__(self, nome, idade):\n",
    "        \n",
    "        self.nome = nome\n",
    "        self.idade = idade\n",
    "        \n",
    "    def __getattr__(self, attr):\n",
    "        return f\"O Atributo '{attr}' não existe.\"\n",
    "        \n",
    "p1 = Pessoa(\"Rodrigo\", 30)\n",
    "print(p1.nome)\n",
    "print(p1.test)"
   ]
  },
  {
   "cell_type": "markdown",
   "id": "d0df1071-f1e3-4842-a00d-e50c3d704b07",
   "metadata": {},
   "source": [
    "---"
   ]
  },
  {
   "cell_type": "markdown",
   "id": "aa904470-f985-4be0-9806-6e6ffaaea2fc",
   "metadata": {},
   "source": [
    "Suponha uma classe ```A``` que retorna 42 para **qualquer** atributo selecionado."
   ]
  },
  {
   "cell_type": "code",
   "execution_count": 61,
   "id": "7697ec9e-2a42-4e73-8651-e975e7ed159f",
   "metadata": {},
   "outputs": [
    {
     "name": "stdout",
     "output_type": "stream",
     "text": [
      "42\n",
      "42\n",
      "42\n"
     ]
    }
   ],
   "source": [
    "class A:\n",
    "    def __getattr__(self, name):\n",
    "        return 42\n",
    "    \n",
    "a = A()\n",
    "print(a.test1)\n",
    "print(a.test2)\n",
    "print(a.test3)"
   ]
  },
  {
   "cell_type": "markdown",
   "id": "98526557-69be-4561-9b5e-c480429ca72b",
   "metadata": {},
   "source": [
    "Isso é util pois podemos explicar para o usario da classe que tal atributo não existe."
   ]
  },
  {
   "cell_type": "markdown",
   "id": "b088dfc0-da35-4d34-b5a5-e6483fee542a",
   "metadata": {},
   "source": [
    "Entretanto caso o usuário tente acessar um método que não existe essa abordagem não funciona:"
   ]
  },
  {
   "cell_type": "code",
   "execution_count": 62,
   "id": "1ab9dcf3-be06-4b08-82e0-a62db14189b0",
   "metadata": {},
   "outputs": [
    {
     "ename": "TypeError",
     "evalue": "'int' object is not callable",
     "output_type": "error",
     "traceback": [
      "\u001b[0;31m---------------------------------------------------------------------------\u001b[0m",
      "\u001b[0;31mTypeError\u001b[0m                                 Traceback (most recent call last)",
      "\u001b[0;32m<ipython-input-62-811ce6465d79>\u001b[0m in \u001b[0;36m<module>\u001b[0;34m\u001b[0m\n\u001b[0;32m----> 1\u001b[0;31m \u001b[0ma\u001b[0m\u001b[0;34m.\u001b[0m\u001b[0mtest1\u001b[0m\u001b[0;34m(\u001b[0m\u001b[0;34m)\u001b[0m\u001b[0;34m\u001b[0m\u001b[0;34m\u001b[0m\u001b[0m\n\u001b[0m",
      "\u001b[0;31mTypeError\u001b[0m: 'int' object is not callable"
     ]
    }
   ],
   "source": [
    "a.test1()"
   ]
  },
  {
   "cell_type": "markdown",
   "id": "bc1eb7ea-609f-4d76-8da9-1597aa8f25de",
   "metadata": {},
   "source": [
    "Para resolver isso podemos retornar algo ```callable```, como exemplo uma função:"
   ]
  },
  {
   "cell_type": "code",
   "execution_count": 64,
   "id": "968270f6-bb15-48c3-932b-c10855ff91d4",
   "metadata": {},
   "outputs": [
    {
     "name": "stdout",
     "output_type": "stream",
     "text": [
      "<function B.__getattr__.<locals>.dummy_func at 0x7f9177b3c670>\n",
      "None\n"
     ]
    }
   ],
   "source": [
    "class B:\n",
    "    def __getattr__(self, name):\n",
    "        def dummy_func():\n",
    "            pass\n",
    "        return dummy_func\n",
    "    \n",
    "b = B()\n",
    "print(b.test1)\n",
    "print(b.test1())"
   ]
  },
  {
   "cell_type": "markdown",
   "id": "a92b8445-8796-4dac-98be-c572795aad96",
   "metadata": {},
   "source": [
    "Agora o código não quebra em nenhum desses casos. \n",
    "\n",
    "<font color =\"orange\">Essa ideia nada mais é do que chamamos de mock. Um objeto que não quebra mesmo quando realizamos operações não implementadas. </font>"
   ]
  },
  {
   "cell_type": "markdown",
   "id": "c083a63a-d2cc-41d9-9853-faaad89bff2a",
   "metadata": {},
   "source": [
    "---"
   ]
  },
  {
   "cell_type": "markdown",
   "id": "2a86b12f-0c97-4341-825b-fb1ccbc3ac7e",
   "metadata": {},
   "source": [
    "### Mock"
   ]
  },
  {
   "cell_type": "code",
   "execution_count": 28,
   "id": "7c96e58e-0dfc-410a-bf2c-99d3870a0035",
   "metadata": {},
   "outputs": [],
   "source": [
    "from unittest.mock import Mock"
   ]
  },
  {
   "cell_type": "code",
   "execution_count": 29,
   "id": "b2f981cf-91ee-4a62-99cc-cd569102f082",
   "metadata": {},
   "outputs": [],
   "source": [
    "m = Mock()"
   ]
  },
  {
   "cell_type": "code",
   "execution_count": 30,
   "id": "9196f278-c747-48a0-a51f-bc8c66bedd95",
   "metadata": {},
   "outputs": [
    {
     "name": "stdout",
     "output_type": "stream",
     "text": [
      "<Mock name='mock.test1' id='140262733856528'>\n",
      "<Mock name='mock.test1()' id='140262733853408'>\n"
     ]
    }
   ],
   "source": [
    "print(m.test1)\n",
    "print(m.test1())"
   ]
  },
  {
   "cell_type": "markdown",
   "id": "e88e2a31-ac8b-4f26-b0ad-da40cc1449eb",
   "metadata": {},
   "source": [
    "Entretanto existe um problema! O Mock só permite um certo conjunto de operações. Por exemplo somar um mock a um inteiro não funciona."
   ]
  },
  {
   "cell_type": "code",
   "execution_count": 33,
   "id": "b9307703-8fb0-49c0-9f95-49139e5f89b1",
   "metadata": {},
   "outputs": [
    {
     "ename": "TypeError",
     "evalue": "unsupported operand type(s) for +: 'Mock' and 'int'",
     "output_type": "error",
     "traceback": [
      "\u001b[0;31m---------------------------------------------------------------------------\u001b[0m",
      "\u001b[0;31mTypeError\u001b[0m                                 Traceback (most recent call last)",
      "\u001b[0;32m<ipython-input-33-1ccfcb7bd9ed>\u001b[0m in \u001b[0;36m<module>\u001b[0;34m\u001b[0m\n\u001b[0;32m----> 1\u001b[0;31m \u001b[0mm\u001b[0m \u001b[0;34m+\u001b[0m \u001b[0;36m10\u001b[0m\u001b[0;34m\u001b[0m\u001b[0;34m\u001b[0m\u001b[0m\n\u001b[0m",
      "\u001b[0;31mTypeError\u001b[0m: unsupported operand type(s) for +: 'Mock' and 'int'"
     ]
    }
   ],
   "source": [
    "m + 10"
   ]
  },
  {
   "cell_type": "markdown",
   "id": "3b2f5929-88c8-4baa-a5b8-49687f69293b",
   "metadata": {},
   "source": [
    "Isso porque o método mock não implementa os métodos mágicos como \\_\\_add\\_\\_. Por isso temos outro mock tipo de mock disponível."
   ]
  },
  {
   "cell_type": "code",
   "execution_count": 38,
   "id": "4389471c-7e8d-4ea5-994b-0da060aaa8a9",
   "metadata": {},
   "outputs": [
    {
     "data": {
      "text/plain": [
       "<MagicMock name='mock.__add__()' id='140262735164272'>"
      ]
     },
     "execution_count": 38,
     "metadata": {},
     "output_type": "execute_result"
    }
   ],
   "source": [
    "from unittest.mock import MagicMock\n",
    "\n",
    "m = MagicMock()\n",
    "\n",
    "m + 10"
   ]
  },
  {
   "cell_type": "markdown",
   "id": "f41db155-8eb0-4c0a-a5b3-ef4003d43393",
   "metadata": {},
   "source": [
    "O Magic mock implementa alguns métodos mágicos disponíveis, mas não todos."
   ]
  },
  {
   "cell_type": "code",
   "execution_count": 39,
   "id": "c50ddeef-0232-40b7-9acd-c892f25813de",
   "metadata": {},
   "outputs": [
    {
     "ename": "TypeError",
     "evalue": "'>' not supported between instances of 'MagicMock' and 'int'",
     "output_type": "error",
     "traceback": [
      "\u001b[0;31m---------------------------------------------------------------------------\u001b[0m",
      "\u001b[0;31mTypeError\u001b[0m                                 Traceback (most recent call last)",
      "\u001b[0;32m<ipython-input-39-33c37fc33842>\u001b[0m in \u001b[0;36m<module>\u001b[0;34m\u001b[0m\n\u001b[0;32m----> 1\u001b[0;31m \u001b[0mm\u001b[0m \u001b[0;34m>\u001b[0m \u001b[0;36m10\u001b[0m\u001b[0;34m\u001b[0m\u001b[0;34m\u001b[0m\u001b[0m\n\u001b[0m",
      "\u001b[0;31mTypeError\u001b[0m: '>' not supported between instances of 'MagicMock' and 'int'"
     ]
    }
   ],
   "source": [
    "m > 10"
   ]
  },
  {
   "cell_type": "markdown",
   "id": "07b0bc71-1763-410b-a933-cf20a925e03b",
   "metadata": {},
   "source": [
    "Alguns métodos magicos devem ser implementados pelo usuário caso necessario."
   ]
  },
  {
   "cell_type": "code",
   "execution_count": 44,
   "id": "7d56a5cf-1b32-4703-8ec5-b48159fcc2d1",
   "metadata": {},
   "outputs": [
    {
     "data": {
      "text/plain": [
       "'Muito interessante'"
      ]
     },
     "execution_count": 44,
     "metadata": {},
     "output_type": "execute_result"
    }
   ],
   "source": [
    "m.__gt__.return_value = \"Muito interessante\"\n",
    "m > 10"
   ]
  }
 ],
 "metadata": {
  "kernelspec": {
   "display_name": "Python 3 (ipykernel)",
   "language": "python",
   "name": "python3"
  },
  "language_info": {
   "codemirror_mode": {
    "name": "ipython",
    "version": 3
   },
   "file_extension": ".py",
   "mimetype": "text/x-python",
   "name": "python",
   "nbconvert_exporter": "python",
   "pygments_lexer": "ipython3",
   "version": "3.9.6"
  }
 },
 "nbformat": 4,
 "nbformat_minor": 5
}
