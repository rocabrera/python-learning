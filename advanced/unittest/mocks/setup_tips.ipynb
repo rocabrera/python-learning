{
 "cells": [
  {
   "cell_type": "markdown",
   "id": "8fab873a-2e77-4aa5-b76b-d21273ca2a19",
   "metadata": {
    "tags": []
   },
   "source": [
    "# **Packages and Modules** "
   ]
  },
  {
   "cell_type": "markdown",
   "id": "728c4c1f-ac09-4466-9b5f-25a11eedac0a",
   "metadata": {},
   "source": [
    "Quando trabalhamos com testes unitarios muitas vezes estamos preocupados com o ***coverage***. Essa métrica mostra qual a porcentagem das linhas dos nossos arquivos que estão passando por testes.\n",
    "\n",
    "\n",
    " Suponha a seguinte estrutura de diretório:\n",
    "```shell\n",
    ".\n",
    "├── src\n",
    "│   ├── example\n",
    "│   │   └── funcs.py\n",
    "│   └── infra\n",
    "│       ├── app.py\n",
    "│       ├── model.py\n",
    "│       └── processing.py\n",
    "└── tests\n",
    "\n",
    "```\n",
    "\n",
    "Para ter o coverage desse código fonte normalmente executariamos o seguinte comando ```pytest tests/ --cov=src/```, onde ```--cov``` aceita diretórios ou nome de pacotes. Nessa situação o seguinte apareceria <font color =\"red\">**WARNING: Failed to generate report: No data to report.**</font>\n",
    "\n",
    "Isso ocorre porque ```cov``` procurar por arquivos ```.py``` em um diretório ou pacote. Da forma como estava estruturado não existia arquivos no diretório.\n",
    "\n",
    "Para resolver esse problema precisamos adicionar o arquivo ```__init__.py``` em todos os folders.\n",
    "> The __init__.py files are required to make Python treat directories containing the file as packages - [link](https://docs.python.org/3/tutorial/modules.html). \n",
    "\n",
    "Agora quando passarmos ```cov=src``` estará sendo coberto todo o código ```src```.\n",
    "```shell\n",
    ".\n",
    "├── src\n",
    "│   ├── example\n",
    "│   │   ├── funcs.py\n",
    "│   │   └── __init__.py\n",
    "│   ├── infra\n",
    "│   │   ├── app.py\n",
    "│   │   ├── __init__.py\n",
    "│   │   ├── model.py\n",
    "│   │   └── processing.py\n",
    "│   └── __init__.py\n",
    "└── tests\n",
    "\n",
    "```"
   ]
  },
  {
   "cell_type": "markdown",
   "id": "87f7bab8-b89d-4b86-9f0a-b8c7c5797019",
   "metadata": {
    "jp-MarkdownHeadingCollapsed": true,
    "tags": []
   },
   "source": [
    "# **Possíveis Problemas**"
   ]
  },
  {
   "cell_type": "markdown",
   "id": "91c2c6eb-2b86-4161-92cc-3d654b970bf7",
   "metadata": {},
   "source": [
    "## **Como mockar um import?** "
   ]
  },
  {
   "cell_type": "markdown",
   "id": "97542147-7d0e-4904-a365-9a2c9b0ecc08",
   "metadata": {},
   "source": [
    "O python vai tentar importar e colocar o nome do pacote na variável ```sys.modules```"
   ]
  },
  {
   "cell_type": "code",
   "execution_count": 1,
   "id": "384b2670-8851-4e56-97c7-e25316900be7",
   "metadata": {},
   "outputs": [
    {
     "name": "stdout",
     "output_type": "stream",
     "text": [
      "False\n"
     ]
    }
   ],
   "source": [
    "import sys\n",
    "print(\"pandas\" in sys.modules)"
   ]
  },
  {
   "cell_type": "code",
   "execution_count": 2,
   "id": "94c4931a-1be1-4dbb-bf4c-c750880700a3",
   "metadata": {},
   "outputs": [
    {
     "name": "stdout",
     "output_type": "stream",
     "text": [
      "False\n",
      "True\n"
     ]
    }
   ],
   "source": [
    "import pandas as pd\n",
    "print(\"pd\" in sys.modules)\n",
    "print(\"pandas\" in sys.modules)"
   ]
  },
  {
   "cell_type": "code",
   "execution_count": 3,
   "id": "e9d2f64a-c211-4345-b1ac-4cd10c489ea7",
   "metadata": {},
   "outputs": [
    {
     "data": {
      "text/plain": [
       "<module 'pandas' from '/home/rocabrera/.pyenv/versions/venv_playground/lib/python3.9/site-packages/pandas/__init__.py'>"
      ]
     },
     "execution_count": 3,
     "metadata": {},
     "output_type": "execute_result"
    }
   ],
   "source": [
    "# Como o python consegue encontrar o pacote é possível fazer as chamadas  \n",
    "sys.modules[\"pandas\"]"
   ]
  },
  {
   "cell_type": "code",
   "execution_count": 4,
   "id": "baca2e17-e248-4e58-93fc-3294c2a26fce",
   "metadata": {},
   "outputs": [
    {
     "data": {
      "text/html": [
       "<div>\n",
       "<style scoped>\n",
       "    .dataframe tbody tr th:only-of-type {\n",
       "        vertical-align: middle;\n",
       "    }\n",
       "\n",
       "    .dataframe tbody tr th {\n",
       "        vertical-align: top;\n",
       "    }\n",
       "\n",
       "    .dataframe thead th {\n",
       "        text-align: right;\n",
       "    }\n",
       "</style>\n",
       "<table border=\"1\" class=\"dataframe\">\n",
       "  <thead>\n",
       "    <tr style=\"text-align: right;\">\n",
       "      <th></th>\n",
       "      <th>0</th>\n",
       "      <th>1</th>\n",
       "      <th>2</th>\n",
       "    </tr>\n",
       "  </thead>\n",
       "  <tbody>\n",
       "    <tr>\n",
       "      <th>0</th>\n",
       "      <td>1</td>\n",
       "      <td>2</td>\n",
       "      <td>3</td>\n",
       "    </tr>\n",
       "    <tr>\n",
       "      <th>1</th>\n",
       "      <td>4</td>\n",
       "      <td>5</td>\n",
       "      <td>6</td>\n",
       "    </tr>\n",
       "  </tbody>\n",
       "</table>\n",
       "</div>"
      ],
      "text/plain": [
       "   0  1  2\n",
       "0  1  2  3\n",
       "1  4  5  6"
      ]
     },
     "execution_count": 4,
     "metadata": {},
     "output_type": "execute_result"
    }
   ],
   "source": [
    "df = pd.DataFrame([[1,2,3],[4,5,6]])\n",
    "df"
   ]
  },
  {
   "cell_type": "markdown",
   "id": "75a86728-487a-4fc5-90f6-1effa7bb9b9d",
   "metadata": {},
   "source": [
    "O que acontece se a referência para o pacote fosse apagada?"
   ]
  },
  {
   "cell_type": "code",
   "execution_count": 5,
   "id": "185e5d13-0be2-42ef-a015-4bc917b2e873",
   "metadata": {},
   "outputs": [],
   "source": [
    "sys.modules[\"pandas\"] = None"
   ]
  },
  {
   "cell_type": "code",
   "execution_count": 6,
   "id": "ca745d59-05c1-4237-9b99-15dd0c223cf4",
   "metadata": {},
   "outputs": [],
   "source": [
    "df = pd.DataFrame([[1,2,3],[4,5,6]])"
   ]
  },
  {
   "cell_type": "markdown",
   "id": "35f46284-3150-4837-b7a7-0f2292f84a10",
   "metadata": {},
   "source": [
    "Com isso em mente, para mockar um import basta mudar a referência de import do pacote antes dos testes serem executados. Cria-se um arquivo denominado ```conftest.py```, o qual é executado pelo ***pytest*** antes dos test unitários, e adiciona-se o mock. \n",
    "\n",
    "Como exemplo:\n",
    "```python\n",
    "from unittest.mock import MagicMock \n",
    "\n",
    "sys.modules[\"pandas\"] = MagicMock()  # Adiciona a chave pandas como um mock\n",
    "```\n",
    "\n",
    "A estrutura:\n",
    "```shell\n",
    ".\n",
    "├── src\n",
    "│   ├── example\n",
    "│   │   ├── funcs.py\n",
    "│   │   └── __init__.py\n",
    "│   ├── infra\n",
    "│   │   ├── app.py\n",
    "│   │   ├── __init__.py\n",
    "│   │   ├── model.py\n",
    "│   │   └── processing.py\n",
    "│   └── __init__.py\n",
    "└── tests\n",
    "    └── conftest.py\n",
    "```"
   ]
  },
  {
   "cell_type": "markdown",
   "id": "a2121652-0a48-41a5-b477-c25d3bf4cadc",
   "metadata": {
    "jp-MarkdownHeadingCollapsed": true,
    "tags": []
   },
   "source": [
    "## Extra - Porque isso funciona? "
   ]
  },
  {
   "cell_type": "markdown",
   "id": "7e3b962d-30db-44d5-962a-816a16a3eb1c",
   "metadata": {},
   "source": [
    "Isso funciona porque o python só importa um pacote que não está registrado.\n",
    "Como exemplo: "
   ]
  },
  {
   "cell_type": "code",
   "execution_count": 7,
   "id": "7b4f7adc-ec72-454a-920f-6c25a9d22d0e",
   "metadata": {},
   "outputs": [
    {
     "data": {
      "text/plain": [
       "'batata'"
      ]
     },
     "execution_count": 7,
     "metadata": {},
     "output_type": "execute_result"
    }
   ],
   "source": [
    "sys.modules[\"numpy\"] = \"batata\"  # Adiciona a chave numpy\n",
    "import numpy as np  # Import não tem efeito porque a variável ja existe\n",
    "sys.modules[\"numpy\"] "
   ]
  },
  {
   "cell_type": "code",
   "execution_count": 8,
   "id": "48669bd3-d79f-440d-9d09-5ed8d5619705",
   "metadata": {},
   "outputs": [
    {
     "name": "stderr",
     "output_type": "stream",
     "text": [
      "/tmp/ipykernel_29033/2854398591.py:2: UserWarning: The NumPy module was reloaded (imported a second time). This can in some cases result in small but subtle issues and is discouraged.\n",
      "  import numpy as np  # Se não existe numpy  o import funciona normalmente\n"
     ]
    },
    {
     "data": {
      "text/plain": [
       "<module 'numpy' from '/home/rocabrera/.pyenv/versions/venv_playground/lib/python3.9/site-packages/numpy/__init__.py'>"
      ]
     },
     "execution_count": 8,
     "metadata": {},
     "output_type": "execute_result"
    }
   ],
   "source": [
    "sys.modules.pop(\"numpy\")  # Deleta o nome da variável\n",
    "import numpy as np  # Se não existe numpy  o import funciona normalmente\n",
    "sys.modules[\"numpy\"]"
   ]
  },
  {
   "cell_type": "markdown",
   "id": "82e5ddd3-1541-4ef9-bdeb-e7dc81084290",
   "metadata": {},
   "source": [
    "E esse é o motivo do porque precisamos restart o kernel para que as mudanças feitas no nosso arquivo reflitam ao realizar um novo import."
   ]
  }
 ],
 "metadata": {
  "kernelspec": {
   "display_name": "venv_playground",
   "language": "python",
   "name": "venv_playground"
  },
  "language_info": {
   "codemirror_mode": {
    "name": "ipython",
    "version": 3
   },
   "file_extension": ".py",
   "mimetype": "text/x-python",
   "name": "python",
   "nbconvert_exporter": "python",
   "pygments_lexer": "ipython3",
   "version": "3.9.6"
  }
 },
 "nbformat": 4,
 "nbformat_minor": 5
}
