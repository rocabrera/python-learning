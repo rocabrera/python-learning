{
 "cells": [
  {
   "cell_type": "markdown",
   "id": "1a969cb4-cd5e-468f-b93a-c1eb8f3c73c5",
   "metadata": {},
   "source": [
    "# **How to handle Exceptions?**  "
   ]
  },
  {
   "cell_type": "markdown",
   "id": "9b5e859f-e85a-49ce-9f1c-06de598e2cde",
   "metadata": {},
   "source": [
    "Not all exceptions are exceptions."
   ]
  },
  {
   "cell_type": "code",
   "execution_count": null,
   "id": "40a9e3dc-e779-4d7e-8e01-70d934dfe91b",
   "metadata": {},
   "outputs": [],
   "source": [
    "x = 10 \n",
    "\n",
    "if x > 5:\n",
    "    raise \"x deve ser menor que 5\""
   ]
  },
  {
   "cell_type": "markdown",
   "id": "b02ab521-5513-42c3-a0e1-c5a077ecf69c",
   "metadata": {},
   "source": [
    "There is an error hierarchy.\n",
    "\n",
    "- BaseException:\n",
    "  - SystemExit\n",
    "  - KeyboardInterrupt\n",
    "  - GeneratorExit\n",
    "  - <font color=\"blue\">**Exception**</font>"
   ]
  },
  {
   "cell_type": "code",
   "execution_count": null,
   "id": "1658b134-17d7-4476-bcab-85b2a5c57c7c",
   "metadata": {},
   "outputs": [],
   "source": [
    "class BigNumbersError(BaseException):\n",
    "    pass\n",
    "\n",
    "x = 10 \n",
    "if x > 5:\n",
    "    raise BigNumbersError(\"x deve ser menor que 5\")"
   ]
  },
  {
   "cell_type": "markdown",
   "id": "cb50752c-67eb-48fd-896d-12f62af05990",
   "metadata": {},
   "source": [
    "> **The built-in exception classes can be subclassed to define new exceptions; <font color=\"orange\">programmers are encouraged to derive new exceptions from the Exception class or one of its subclasses, and not from BaseException.** <a href=\"https://docs.python.org/3/library/exceptions.html\">Source</a></font>"
   ]
  },
  {
   "cell_type": "markdown",
   "id": "c138f863-603d-4452-8cf4-7f2eb8c9e6e5",
   "metadata": {},
   "source": [
    "## **Exceptions**"
   ]
  },
  {
   "cell_type": "markdown",
   "id": "77d471dd-c493-4b76-ae46-ba099c89def2",
   "metadata": {
    "tags": []
   },
   "source": [
    "There are many exceptions available - <a href=\"https://docs.python.org/3/library/exceptions.html#exception-hierarchy\">Exception hierarchy</a>\n",
    "<details>\n",
    "    \n",
    "```\n",
    "Exception\n",
    "  +-- StopIteration\n",
    "  +-- StopAsyncIteration\n",
    "  +-- ArithmeticError\n",
    "  |    +-- FloatingPointError\n",
    "  |    +-- OverflowError\n",
    "  |    +-- ZeroDivisionError\n",
    "  +-- AssertionError\n",
    "  +-- AttributeError\n",
    "  +-- BufferError\n",
    "  +-- EOFError\n",
    "  +-- ImportError\n",
    "  |    +-- ModuleNotFoundError\n",
    "  +-- LookupError\n",
    "  |    +-- IndexError\n",
    "  |    +-- KeyError\n",
    "  +-- MemoryError\n",
    "  +-- NameError\n",
    "  |    +-- UnboundLocalError\n",
    "  +-- OSError\n",
    "  |    +-- BlockingIOError\n",
    "  |    +-- ChildProcessError\n",
    "  |    +-- ConnectionError\n",
    "  |    |    +-- BrokenPipeError\n",
    "  |    |    +-- ConnectionAbortedError\n",
    "  |    |    +-- ConnectionRefusedError\n",
    "  |    |    +-- ConnectionResetError\n",
    "  |    +-- FileExistsError\n",
    "  |    +-- FileNotFoundError\n",
    "  |    +-- InterruptedError\n",
    "  |    +-- IsADirectoryError\n",
    "  |    +-- NotADirectoryError\n",
    "  |    +-- PermissionError\n",
    "  |    +-- ProcessLookupError\n",
    "  |    +-- TimeoutError\n",
    "  +-- ReferenceError\n",
    "  +-- RuntimeError\n",
    "  |    +-- NotImplementedError\n",
    "  |    +-- RecursionError\n",
    "  +-- SyntaxError\n",
    "  |    +-- IndentationError\n",
    "  |         +-- TabError\n",
    "  +-- SystemError\n",
    "  +-- TypeError\n",
    "  +-- ValueError\n",
    "  |    +-- UnicodeError\n",
    "  |         +-- UnicodeDecodeError\n",
    "  |         +-- UnicodeEncodeError\n",
    "  |         +-- UnicodeTranslateError\n",
    "  +-- Warning\n",
    "       +-- DeprecationWarning\n",
    "       +-- PendingDeprecationWarning\n",
    "       +-- RuntimeWarning\n",
    "       +-- SyntaxWarning\n",
    "       +-- UserWarning\n",
    "       +-- FutureWarning\n",
    "       +-- ImportWarning\n",
    "       +-- UnicodeWarning\n",
    "       +-- BytesWarning\n",
    "       +-- ResourceWarning\n",
    "```\n",
    "    \n",
    "</details>\n"
   ]
  },
  {
   "cell_type": "markdown",
   "id": "d4d55f48-916b-4c0c-b213-14797cff262e",
   "metadata": {},
   "source": [
    "### **AttributeError**"
   ]
  },
  {
   "cell_type": "markdown",
   "id": "8edd0a9f-6035-4f51-b495-a8b2584c8f67",
   "metadata": {},
   "source": [
    "> **<a href=\"https://docs.python.org/3/library/exceptions.html#AttributeError\">Attribute Error</a>: Raised when an attribute reference or assignment fails.**\n",
    "obs: Also raises an error for a missing method"
   ]
  },
  {
   "cell_type": "code",
   "execution_count": null,
   "id": "237e746c-25fe-4be0-a4d6-17bac604e7f7",
   "metadata": {},
   "outputs": [],
   "source": [
    "class Dummy:\n",
    "    def __init__(self):\n",
    "        self.x = 1\n",
    "        pass\n",
    "    def do_stuff(self):\n",
    "        pass\n",
    "    \n",
    "try:\n",
    "    dummy = Dummy()\n",
    "    dummy.do_stuff2()\n",
    "except Exception as e:\n",
    "    print(type(e),e)\n",
    "    pass"
   ]
  },
  {
   "cell_type": "markdown",
   "id": "a79c91e6-d15c-491f-aab2-4c209f169f20",
   "metadata": {},
   "source": [
    "### **LookupError**"
   ]
  },
  {
   "cell_type": "markdown",
   "id": "62135b3d-8fe3-447e-829f-ae1a64258d8a",
   "metadata": {},
   "source": [
    " - > **<a href=\"https://docs.python.org/3/library/exceptions.html#IndexError\">Index Error</a>: Raised when a sequence subscript is out of range.**\n",
    "\n",
    " - > **<a href=\"https://docs.python.org/3/library/exceptions.html#KeyError\">Key Error</a>: Raised when a mapping (dictionary) key is not found in the set of existing keys.**\n"
   ]
  },
  {
   "cell_type": "code",
   "execution_count": null,
   "id": "c0152f64-0e1c-4253-b4dd-4d7d622c05e2",
   "metadata": {},
   "outputs": [],
   "source": [
    "lst = [1,2,3]\n",
    "try:\n",
    "    lst[4]\n",
    "except LookupError as e:\n",
    "    print(type(e),e,\"\\n\")\n",
    "    \n",
    "dic = {\"a\":1,\"b\":2}\n",
    "try:\n",
    "    dic[\"c\"]\n",
    "except LookupError as e:\n",
    "    print(type(e),e)"
   ]
  },
  {
   "cell_type": "code",
   "execution_count": null,
   "id": "b439e1b9-0082-438f-a4c2-c3a053d2f418",
   "metadata": {},
   "outputs": [],
   "source": [
    "lst = [1,2,3]\n",
    "dic = {\"a\":1,\"b\":2}\n",
    "try:\n",
    "    dic[\"c\"]\n",
    "except IndexError as e:\n",
    "    print(f\"Index out of range: your list has {len(lst)} elements.\")\n",
    "except KeyError as e:\n",
    "    print(f\"The selected key does not exist.\")\n"
   ]
  },
  {
   "cell_type": "markdown",
   "id": "e8e4d3ea-cc85-4f59-8873-0da2b28b0a4f",
   "metadata": {},
   "source": [
    "### **TypeError**"
   ]
  },
  {
   "cell_type": "markdown",
   "id": "3f29c9be-d78d-4a8b-a3be-aa87cb5a1e3a",
   "metadata": {},
   "source": [
    " - > **<a href=\"https://docs.python.org/3/library/exceptions.html#TypeError\">Type Error</a>: Raised when an operation or function is applied to an object of inappropriate type.**"
   ]
  },
  {
   "cell_type": "code",
   "execution_count": null,
   "id": "e73e2b0d-1c6d-44fb-b848-8a8c7858795a",
   "metadata": {},
   "outputs": [],
   "source": [
    "try:\n",
    "    () + \"\"\n",
    "except Exception as e:\n",
    "    print(type(e), e)"
   ]
  },
  {
   "cell_type": "code",
   "execution_count": null,
   "id": "49ac2c30-4a02-4d94-9d7c-625c15c93874",
   "metadata": {},
   "outputs": [],
   "source": [
    "try:\n",
    "    len(1)\n",
    "except Exception as e:\n",
    "    print(type(e), e)"
   ]
  },
  {
   "cell_type": "markdown",
   "id": "65168899-920a-4cdd-9585-041d719cea2f",
   "metadata": {},
   "source": [
    "### **NameError & UnboundLocalError** "
   ]
  },
  {
   "cell_type": "markdown",
   "id": "8ef6fea2-c308-4dd8-875c-9f3c155954f3",
   "metadata": {},
   "source": [
    "- > **<a href=\"https://docs.python.org/3/library/exceptions.html#NameError\">Nmae Error</a>: Raised when a local or global name is not found.**\n",
    "\n",
    "- > **<a href=\"https://docs.python.org/3/library/exceptions.html#UnboundLocalError\">UnboundLocal Error</a>: Raised when a reference is made to a local variable in a function or method, but no value has been bound to that variable.**"
   ]
  },
  {
   "cell_type": "code",
   "execution_count": 5,
   "id": "b9f0936d-0ef8-445a-8455-aeed2c350810",
   "metadata": {},
   "outputs": [
    {
     "name": "stdout",
     "output_type": "stream",
     "text": [
      "<class 'NameError'> name 'var' is not defined\n",
      "<class 'UnboundLocalError'> local variable 'var' referenced before assignment\n"
     ]
    }
   ],
   "source": [
    "def do():\n",
    "    print(var)\n",
    "\n",
    "def do2():\n",
    "    print(var)\n",
    "    var=2 \n",
    "    \n",
    "try:\n",
    "    do()  \n",
    "except NameError as e:\n",
    "    print(type(e),e)\n",
    "    \n",
    "try:\n",
    "    do2()\n",
    "except NameError as e:\n",
    "    print(type(e),e)"
   ]
  },
  {
   "cell_type": "code",
   "execution_count": 7,
   "id": "0619b7de-359e-4545-a957-54a8fd5282b2",
   "metadata": {},
   "outputs": [
    {
     "name": "stdout",
     "output_type": "stream",
     "text": [
      "<class 'UnboundLocalError'> local variable 'var' referenced before assignment\n"
     ]
    }
   ],
   "source": [
    "#One of the many reasons to avoid global variables.\n",
    "var = 10\n",
    "\n",
    "try:\n",
    "    do2()\n",
    "except Exception as e:\n",
    "    print(type(e), e)"
   ]
  },
  {
   "cell_type": "markdown",
   "id": "5a21eb15-9c2d-4f73-822d-27e355c89fad",
   "metadata": {},
   "source": [
    "<font color=\"blue\">A variable is determined to be free or local at compile time.</font> (important to better understand when creating decorators).\n",
    "\n",
    "<a href=\"https://www.youtube.com/watch?v=9v8eu4MOet8\">Nice explanation</a>"
   ]
  },
  {
   "cell_type": "markdown",
   "id": "7b2af252-2ff9-4768-aeb6-60f8746d2b57",
   "metadata": {},
   "source": [
    "## HTT "
   ]
  },
  {
   "cell_type": "markdown",
   "id": "8e475420-8ea5-4ebc-8995-bbbd9693780d",
   "metadata": {},
   "source": [
    "\n",
    "Obs\n",
    "\n",
    "All assert statements will actually be removed from your code automatically when the interpreter is run with the -O or -OO flags to optimize the bytecode.\n",
    "\n",
    "Assert statemens should be used only in tests or during development phase."
   ]
  },
  {
   "cell_type": "markdown",
   "id": "26ece453-8f11-4430-9cf7-82c8c930dea1",
   "metadata": {},
   "source": [
    "## **Releasing resources** "
   ]
  },
  {
   "cell_type": "code",
   "execution_count": null,
   "id": "41148498-4ed1-456a-aefe-369b680414d9",
   "metadata": {
    "tags": []
   },
   "outputs": [],
   "source": [
    "\"\"\"\n",
    "- What if file does not exist?\n",
    "- What if an error occurs in the exception clause?\n",
    "\"\"\"\n",
    "def profund_math_to_solve_exception(x,y):\n",
    "    return x/y\n",
    "\n",
    "#path = 'data/file.txt'\n",
    "path = 'data/file2.txt'\n",
    "x, y = 2,2\n",
    "try:\n",
    "    #Consume resource\n",
    "    file  = open(path, \"r\")\n",
    "    #Processing\n",
    "    text = file.read()\n",
    "    print(f\"Content: {text}\")\n",
    "except FileNotFoundError as e:\n",
    "    print(f\"An exception {type(e)} occured\")\n",
    "    print(\"Solving exception ...\")\n",
    "    _=profund_math_to_solve_exception(x,y)\n",
    "    print(\"Done\")\n",
    "\n",
    "print(\"Closing file ...\")\n",
    "file.close()\n",
    "print(\"Done\")"
   ]
  },
  {
   "cell_type": "code",
   "execution_count": null,
   "id": "7f0c83ca-8e54-44df-b35a-7dd9276dfda4",
   "metadata": {},
   "outputs": [],
   "source": [
    "\"\"\"\n",
    "- What if the file does not exist?\n",
    "- What if an error occurs in the exception clause?\n",
    "\"\"\"\n",
    "def profund_math_to_solve_exception(x,y):\n",
    "    return x/y\n",
    "\n",
    "#path = 'data/file.txt'\n",
    "path = 'data/file2.txt'\n",
    "x, y = 0,0\n",
    "try:\n",
    "    #Consume resource\n",
    "    file  = open(path, \"r\")\n",
    "    #Processing\n",
    "    text = file.read()\n",
    "    print(f\"Content: {text}\")\n",
    "    \n",
    "except FileNotFoundError as e:\n",
    "    print(f\"An exception {type(e)} occured\")\n",
    "    print(\"Solving exception ...\")\n",
    "    valor=profund_math_to_solve_exception(x,y)\n",
    "    print(\"Done\")\n",
    "    \n",
    "finally:\n",
    "    print(\"Closing file ...\")\n",
    "    file.close()\n",
    "    print(\"Done\")"
   ]
  },
  {
   "cell_type": "markdown",
   "id": "12242385-8605-4567-8b4c-8eec7d954f8a",
   "metadata": {},
   "source": [
    "> In real world applications, the finally clause is useful for releasing external resources (such as files or network connections), regardless of whether the use of the resource was successful. https://docs.python.org/3/tutorial/errors.html#tut-userexceptions"
   ]
  },
  {
   "cell_type": "code",
   "execution_count": null,
   "id": "1166bc24-e93d-4ed2-8a22-f4552ef499fa",
   "metadata": {},
   "outputs": [],
   "source": [
    "\"\"\"\n",
    "Example 1\n",
    "- What if file does not exist?\n",
    "\"\"\"\n",
    "def profund_math_to_solve_exception(x,y):\n",
    "    return x/y\n",
    "\n",
    "path = 'data/file.txt'\n",
    "try:\n",
    "    #Consume resource\n",
    "    file  = open(path, \"r\")\n",
    "    text = file.read()\n",
    "    print(f\"Content: {text}\")\n",
    "except:\n",
    "    valor=profund_math_to_solve_exception(2,2)\n",
    "\n",
    "print(\"Closing file ...\")\n",
    "file.close()\n",
    "print(\"Done\")"
   ]
  },
  {
   "cell_type": "code",
   "execution_count": null,
   "id": "76307dff-cf4a-4658-ad7a-830d94b1f458",
   "metadata": {},
   "outputs": [],
   "source": [
    "\"\"\"\n",
    "Horrible\n",
    "\"\"\"\n",
    "path = \"data/manager.txt\"\n",
    "\n",
    "try:\n",
    "    file  = open(path, \"r\")\n",
    "    texts = file.read().splitlines()\n",
    "    print(texts)\n",
    "except:\n",
    "    pass"
   ]
  },
  {
   "cell_type": "code",
   "execution_count": null,
   "id": "7a48dbc0-922e-436d-bc31-b2b07f03b7bb",
   "metadata": {},
   "outputs": [],
   "source": [
    "\"\"\"\n",
    "If the finally clause executes a break, continue or return statement, exceptions are not re-raised.\n",
    "\"\"\"\n",
    "\n",
    "def my_test():\n",
    "\n",
    "    try:\n",
    "        raise KeyboardInterrupt\n",
    "    finally:\n",
    "        print('Goodbye, world!')\n",
    "        return 42\n",
    "    \n",
    "my_test()"
   ]
  },
  {
   "cell_type": "code",
   "execution_count": null,
   "id": "223a8075-fa8a-4e1c-aea5-8d6da3cd0739",
   "metadata": {},
   "outputs": [],
   "source": [
    "\"\"\"\n",
    "If the finally clause executes a break, continue or return statement, exceptions are not re-raised.\n",
    "\"\"\"\n",
    "\n",
    "def my_test():\n",
    "\n",
    "    try:\n",
    "        return \"try\"\n",
    "    finally:\n",
    "        return 'Finnaly'\n",
    "    \n",
    "my_test()"
   ]
  },
  {
   "cell_type": "code",
   "execution_count": null,
   "id": "a76a2b7f-916a-4317-a1c5-e47c7e803da8",
   "metadata": {
    "tags": []
   },
   "outputs": [],
   "source": [
    "try:\n",
    "    with open(\"test.txt\", \"r\") as f:\n",
    "        f.read()\n",
    "except Exception as e:\n",
    "    raise \"rodrigo\""
   ]
  },
  {
   "cell_type": "code",
   "execution_count": null,
   "id": "3768a118-1020-4920-9e93-82cfb0e7c33a",
   "metadata": {
    "tags": []
   },
   "outputs": [],
   "source": [
    "try:\n",
    "    with open(\"test.txt\", \"r\") as f:\n",
    "        f.read()\n",
    "except Exception as e:\n",
    "    print(type(e))\n",
    "    raise e(\"rodrigo\")"
   ]
  },
  {
   "cell_type": "code",
   "execution_count": null,
   "id": "747d4c57-01fd-4f4b-9dd5-2e61a9889136",
   "metadata": {},
   "outputs": [],
   "source": [
    "try:\n",
    "    x=0/0\n",
    "except Exception as e:\n",
    "    print(type(e))\n",
    "    raise e(\"rodrigo\")"
   ]
  },
  {
   "cell_type": "code",
   "execution_count": null,
   "id": "b265b905-5785-41dd-8c69-f0ab5def4aee",
   "metadata": {},
   "outputs": [],
   "source": [
    "x = 10 \n",
    "\n",
    "if x > 5:\n",
    "    raise Exception(\"x deve ser menor que 5\")"
   ]
  },
  {
   "cell_type": "markdown",
   "id": "a2b5c907-810e-4a42-8c57-a49275ce3ccf",
   "metadata": {},
   "source": [
    "## **Nem toda exceção é uma exceção**"
   ]
  },
  {
   "cell_type": "code",
   "execution_count": null,
   "id": "7f196bbb-dadb-41e4-a1f5-ed8fcc52023c",
   "metadata": {},
   "outputs": [],
   "source": []
  },
  {
   "cell_type": "markdown",
   "id": "a893272a-ed68-4519-9f5e-966572c3bfe7",
   "metadata": {},
   "source": [
    "\n",
    "- If some code path simply must broadly catch all exceptions - for example, the top-level loop for some long-running persistent process - then each such caught exception must write the full stack trace to a log or file, along with a timestamp. Not just the exception type and message, but the full stack trace.\n",
    "\n",
    "- For all other except clauses - which really should be the vast majority - the caught exception type must be as specific as possible. Something like KeyError, or ConnectionTimeout, etc.\n"
   ]
  },
  {
   "cell_type": "code",
   "execution_count": null,
   "id": "6491bc2c-0854-4ace-9e4c-b45da6ebdca7",
   "metadata": {},
   "outputs": [],
   "source": []
  }
 ],
 "metadata": {
  "kernelspec": {
   "display_name": "venv_playground",
   "language": "python",
   "name": "venv_playground"
  },
  "language_info": {
   "codemirror_mode": {
    "name": "ipython",
    "version": 3
   },
   "file_extension": ".py",
   "mimetype": "text/x-python",
   "name": "python",
   "nbconvert_exporter": "python",
   "pygments_lexer": "ipython3",
   "version": "3.9.4"
  }
 },
 "nbformat": 4,
 "nbformat_minor": 5
}
