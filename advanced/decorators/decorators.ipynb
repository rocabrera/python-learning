{
 "cells": [
  {
   "cell_type": "markdown",
   "metadata": {},
   "source": [
    "# **Let's learn about decorators** "
   ]
  },
  {
   "cell_type": "code",
   "execution_count": 1,
   "metadata": {
    "ExecuteTime": {
     "end_time": "2020-12-30T01:05:53.338722Z",
     "start_time": "2020-12-30T01:05:53.334733Z"
    }
   },
   "outputs": [],
   "source": [
    "import time\n",
    "from functools import partial, wraps, lru_cache"
   ]
  },
  {
   "cell_type": "markdown",
   "metadata": {},
   "source": [
    "A decorator is a callable that takes another function as argument.The decorator may perform some processing with the decorated function, and\n",
    "returns it or replaces it with another function or callable object."
   ]
  },
  {
   "cell_type": "markdown",
   "metadata": {},
   "source": [
    "```python\n",
    "@decorate_func\n",
    "def target():\n",
    "    print('running target()')\n",
    "    \n",
    "#############################\n",
    "    \n",
    "def target():\n",
    "    print('running target()')\n",
    "    \n",
    "target = decorate_func(target)\n",
    "```\n"
   ]
  },
  {
   "cell_type": "markdown",
   "metadata": {},
   "source": [
    "- Strictly speaking, decorators are just syntactic sugar. \n",
    "\n",
    "- Usung decorators is  convenient, especially when doing metaprogramming—changing program behavior at runtime.\n",
    "\n",
    "- They are executed immediately when a module is loaded."
   ]
  },
  {
   "cell_type": "markdown",
   "metadata": {},
   "source": [
    "## **Closures** "
   ]
  },
  {
   "cell_type": "code",
   "execution_count": 6,
   "metadata": {
    "ExecuteTime": {
     "end_time": "2020-12-30T01:05:53.346718Z",
     "start_time": "2020-12-30T01:05:53.339720Z"
    }
   },
   "outputs": [],
   "source": [
    "def historical_print():\n",
    "    \n",
    "    hist_lst = []\n",
    "    \n",
    "    def inner_print(string):\n",
    "        hist_lst.append(string)\n",
    "        print(\" \".join(hist_lst))\n",
    "        \n",
    "    print(f\"style_print closure:\\n{inner_print.__closure__}\")\n",
    "    print()\n",
    "    print(f\"super_print closure:\\n{historical_print.__closure__}\")\n",
    "\n",
    "    return inner_print"
   ]
  },
  {
   "cell_type": "code",
   "execution_count": 8,
   "metadata": {
    "ExecuteTime": {
     "end_time": "2020-12-30T01:05:53.357693Z",
     "start_time": "2020-12-30T01:05:53.347699Z"
    }
   },
   "outputs": [
    {
     "name": "stdout",
     "output_type": "stream",
     "text": [
      "style_print closure:\n",
      "(<cell at 0x7f58583aeac0: list object at 0x7f58583b3b80>,)\n",
      "\n",
      "super_print closure:\n",
      "None\n"
     ]
    }
   ],
   "source": [
    "printer = historical_print()"
   ]
  },
  {
   "cell_type": "markdown",
   "metadata": {},
   "source": [
    "- The ```inner_print``` function finds the ```hist_lst``` in their closure."
   ]
  },
  {
   "cell_type": "code",
   "execution_count": 9,
   "metadata": {
    "ExecuteTime": {
     "end_time": "2020-12-30T01:05:53.366652Z",
     "start_time": "2020-12-30T01:05:53.358670Z"
    }
   },
   "outputs": [
    {
     "name": "stdout",
     "output_type": "stream",
     "text": [
      "I\n"
     ]
    }
   ],
   "source": [
    "printer(\"I\")"
   ]
  },
  {
   "cell_type": "code",
   "execution_count": 10,
   "metadata": {
    "ExecuteTime": {
     "end_time": "2020-12-30T01:05:53.366652Z",
     "start_time": "2020-12-30T01:05:53.358670Z"
    }
   },
   "outputs": [
    {
     "name": "stdout",
     "output_type": "stream",
     "text": [
      "I like\n"
     ]
    }
   ],
   "source": [
    "printer(\"like\")"
   ]
  },
  {
   "cell_type": "code",
   "execution_count": 11,
   "metadata": {
    "ExecuteTime": {
     "end_time": "2020-12-30T01:05:53.366652Z",
     "start_time": "2020-12-30T01:05:53.358670Z"
    }
   },
   "outputs": [
    {
     "name": "stdout",
     "output_type": "stream",
     "text": [
      "I like it\n"
     ]
    }
   ],
   "source": [
    "printer(\"it\")"
   ]
  },
  {
   "cell_type": "markdown",
   "metadata": {},
   "source": [
    "## **Free variables** "
   ]
  },
  {
   "cell_type": "code",
   "execution_count": 12,
   "metadata": {
    "ExecuteTime": {
     "end_time": "2020-12-30T01:05:53.376623Z",
     "start_time": "2020-12-30T01:05:53.367645Z"
    }
   },
   "outputs": [
    {
     "name": "stdout",
     "output_type": "stream",
     "text": [
      "3.5\n"
     ]
    }
   ],
   "source": [
    "lst = [1,2,3,4,5,6]\n",
    "soma = sum(lst)\n",
    "size = len(lst)\n",
    "print(soma/size)"
   ]
  },
  {
   "cell_type": "code",
   "execution_count": 13,
   "metadata": {
    "ExecuteTime": {
     "end_time": "2020-12-30T01:05:53.384600Z",
     "start_time": "2020-12-30T01:05:53.378617Z"
    }
   },
   "outputs": [],
   "source": [
    "def make_averager_v1():\n",
    "    series = []\n",
    "    def averager_v1(new_value):\n",
    "        series.append(new_value)\n",
    "        total = sum(series)\n",
    "        print(total/len(series))\n",
    "    return averager_v1"
   ]
  },
  {
   "cell_type": "markdown",
   "metadata": {},
   "source": [
    "- The closure for ```averager``` extends the scope of that function.\n",
    "- ```series``` is a **local variable** of ```make_averager```\n",
    "- ```series``` is a **free variable** of ```averager```. This means a variable is not bound in the local scope."
   ]
  },
  {
   "cell_type": "code",
   "execution_count": 14,
   "metadata": {
    "ExecuteTime": {
     "end_time": "2020-12-30T01:05:53.393576Z",
     "start_time": "2020-12-30T01:05:53.386594Z"
    }
   },
   "outputs": [],
   "source": [
    "avg = make_averager_v1()"
   ]
  },
  {
   "cell_type": "code",
   "execution_count": 15,
   "metadata": {
    "ExecuteTime": {
     "end_time": "2020-12-30T01:05:53.403549Z",
     "start_time": "2020-12-30T01:05:53.395570Z"
    }
   },
   "outputs": [
    {
     "name": "stdout",
     "output_type": "stream",
     "text": [
      "10.0\n",
      "15.0\n",
      "20.0\n"
     ]
    }
   ],
   "source": [
    "avg(10)\n",
    "avg(20)\n",
    "avg(30)"
   ]
  },
  {
   "cell_type": "code",
   "execution_count": 16,
   "metadata": {
    "ExecuteTime": {
     "end_time": "2020-12-30T01:05:53.412557Z",
     "start_time": "2020-12-30T01:05:53.405544Z"
    }
   },
   "outputs": [
    {
     "name": "stdout",
     "output_type": "stream",
     "text": [
      "Local variables: ('new_value', 'total')\n",
      "Free variables: ('series',)\n",
      "Closure: [10, 20, 30]\n"
     ]
    }
   ],
   "source": [
    "print(f\"Local variables: {avg.__code__.co_varnames}\")\n",
    "print(f\"Free variables: {avg.__code__.co_freevars}\")\n",
    "print(f\"Closure: {avg.__closure__[0].cell_contents}\")"
   ]
  },
  {
   "cell_type": "markdown",
   "metadata": {},
   "source": [
    "- Each item in the closure corresponds to a name in the free variables."
   ]
  },
  {
   "cell_type": "code",
   "execution_count": 17,
   "metadata": {
    "ExecuteTime": {
     "end_time": "2020-12-30T01:05:53.421674Z",
     "start_time": "2020-12-30T01:05:53.413526Z"
    }
   },
   "outputs": [],
   "source": [
    "def make_averager_v2():\n",
    "    count = 0\n",
    "    total = 0\n",
    "    def averager_v2(new_value):\n",
    "        count += 1\n",
    "        total += new_value\n",
    "        print(total / count)\n",
    "    return averager_v2"
   ]
  },
  {
   "cell_type": "code",
   "execution_count": 18,
   "metadata": {
    "ExecuteTime": {
     "end_time": "2020-12-30T01:05:53.475567Z",
     "start_time": "2020-12-30T01:05:53.422671Z"
    },
    "collapsed": true,
    "jupyter": {
     "outputs_hidden": true
    },
    "tags": []
   },
   "outputs": [
    {
     "ename": "UnboundLocalError",
     "evalue": "local variable 'count' referenced before assignment",
     "output_type": "error",
     "traceback": [
      "\u001b[0;31m---------------------------------------------------------------------------\u001b[0m",
      "\u001b[0;31mUnboundLocalError\u001b[0m                         Traceback (most recent call last)",
      "\u001b[0;32m<ipython-input-18-0dacbd829a94>\u001b[0m in \u001b[0;36m<module>\u001b[0;34m\u001b[0m\n\u001b[1;32m      1\u001b[0m \u001b[0mavg\u001b[0m \u001b[0;34m=\u001b[0m \u001b[0mmake_averager_v2\u001b[0m\u001b[0;34m(\u001b[0m\u001b[0;34m)\u001b[0m\u001b[0;34m\u001b[0m\u001b[0;34m\u001b[0m\u001b[0m\n\u001b[0;32m----> 2\u001b[0;31m \u001b[0mavg\u001b[0m\u001b[0;34m(\u001b[0m\u001b[0;36m10\u001b[0m\u001b[0;34m)\u001b[0m\u001b[0;34m\u001b[0m\u001b[0;34m\u001b[0m\u001b[0m\n\u001b[0m",
      "\u001b[0;32m<ipython-input-17-f7dc778ce9ae>\u001b[0m in \u001b[0;36maverager_v2\u001b[0;34m(new_value)\u001b[0m\n\u001b[1;32m      3\u001b[0m     \u001b[0mtotal\u001b[0m \u001b[0;34m=\u001b[0m \u001b[0;36m0\u001b[0m\u001b[0;34m\u001b[0m\u001b[0;34m\u001b[0m\u001b[0m\n\u001b[1;32m      4\u001b[0m     \u001b[0;32mdef\u001b[0m \u001b[0maverager_v2\u001b[0m\u001b[0;34m(\u001b[0m\u001b[0mnew_value\u001b[0m\u001b[0;34m)\u001b[0m\u001b[0;34m:\u001b[0m\u001b[0;34m\u001b[0m\u001b[0;34m\u001b[0m\u001b[0m\n\u001b[0;32m----> 5\u001b[0;31m         \u001b[0mcount\u001b[0m \u001b[0;34m+=\u001b[0m \u001b[0;36m1\u001b[0m\u001b[0;34m\u001b[0m\u001b[0;34m\u001b[0m\u001b[0m\n\u001b[0m\u001b[1;32m      6\u001b[0m         \u001b[0mtotal\u001b[0m \u001b[0;34m+=\u001b[0m \u001b[0mnew_value\u001b[0m\u001b[0;34m\u001b[0m\u001b[0;34m\u001b[0m\u001b[0m\n\u001b[1;32m      7\u001b[0m         \u001b[0mprint\u001b[0m\u001b[0;34m(\u001b[0m\u001b[0mtotal\u001b[0m \u001b[0;34m/\u001b[0m \u001b[0mcount\u001b[0m\u001b[0;34m)\u001b[0m\u001b[0;34m\u001b[0m\u001b[0;34m\u001b[0m\u001b[0m\n",
      "\u001b[0;31mUnboundLocalError\u001b[0m: local variable 'count' referenced before assignment"
     ]
    }
   ],
   "source": [
    "avg = make_averager_v2()\n",
    "avg(10)"
   ]
  },
  {
   "cell_type": "markdown",
   "metadata": {},
   "source": [
    "The ```+=``` operator means  ```count = count + 1```, but count is a number or any immutable type, which is not allowed. Immutable types like numbers, strings, tuples, etc., can only be read."
   ]
  },
  {
   "cell_type": "code",
   "execution_count": 19,
   "metadata": {
    "ExecuteTime": {
     "end_time": "2020-12-30T01:06:02.611531Z",
     "start_time": "2020-12-30T01:06:02.607516Z"
    }
   },
   "outputs": [],
   "source": [
    "def make_averager_v3():\n",
    "    count = [0]\n",
    "    total = [0]\n",
    "    def averager_v3(new_value):\n",
    "        count[0] += 1\n",
    "        total[0] += new_value\n",
    "        print(total[0] / count[0])\n",
    "    return averager_v3"
   ]
  },
  {
   "cell_type": "code",
   "execution_count": 20,
   "metadata": {
    "ExecuteTime": {
     "end_time": "2020-12-30T01:06:03.100980Z",
     "start_time": "2020-12-30T01:06:03.096960Z"
    }
   },
   "outputs": [
    {
     "name": "stdout",
     "output_type": "stream",
     "text": [
      "10.0\n",
      "15.0\n",
      "20.0\n"
     ]
    }
   ],
   "source": [
    "avg = make_averager_v3()\n",
    "avg(10)\n",
    "avg(20)\n",
    "avg(30)"
   ]
  },
  {
   "cell_type": "code",
   "execution_count": 21,
   "metadata": {
    "ExecuteTime": {
     "end_time": "2020-12-30T01:06:03.153634Z",
     "start_time": "2020-12-30T01:06:03.149645Z"
    }
   },
   "outputs": [],
   "source": [
    "def make_averager_v4():\n",
    "    count = 0\n",
    "    total = 0\n",
    "    def averager_v4(new_value):\n",
    "        nonlocal count, total\n",
    "        count += 1\n",
    "        total += new_value\n",
    "        print(total / count)\n",
    "    return averager_v4"
   ]
  },
  {
   "cell_type": "code",
   "execution_count": 22,
   "metadata": {
    "ExecuteTime": {
     "end_time": "2020-12-30T01:06:03.207234Z",
     "start_time": "2020-12-30T01:06:03.202247Z"
    }
   },
   "outputs": [
    {
     "name": "stdout",
     "output_type": "stream",
     "text": [
      "10.0\n",
      "15.0\n",
      "20.0\n"
     ]
    }
   ],
   "source": [
    "avg = make_averager_v4()\n",
    "avg(10)\n",
    "avg(20)\n",
    "avg(30)"
   ]
  },
  {
   "cell_type": "code",
   "execution_count": 23,
   "metadata": {
    "ExecuteTime": {
     "end_time": "2020-12-30T01:06:03.285026Z",
     "start_time": "2020-12-30T01:06:03.281037Z"
    }
   },
   "outputs": [
    {
     "name": "stdout",
     "output_type": "stream",
     "text": [
      "Local variables: ('new_value',)\n",
      "Free variables: ('count', 'total')\n",
      "Closure: [3, 60]\n"
     ]
    }
   ],
   "source": [
    "print(f\"Local variables: {avg.__code__.co_varnames}\")\n",
    "print(f\"Free variables: {avg.__code__.co_freevars}\")\n",
    "print(f\"Closure: {[i.cell_contents for i in avg.__closure__]}\")"
   ]
  },
  {
   "cell_type": "markdown",
   "metadata": {},
   "source": [
    "## **Decorators** "
   ]
  },
  {
   "cell_type": "markdown",
   "metadata": {},
   "source": [
    "### **Decorators are executed in import time**"
   ]
  },
  {
   "cell_type": "code",
   "execution_count": 24,
   "metadata": {
    "ExecuteTime": {
     "end_time": "2020-12-30T01:06:03.434757Z",
     "start_time": "2020-12-30T01:06:03.428773Z"
    }
   },
   "outputs": [
    {
     "name": "stdout",
     "output_type": "stream",
     "text": [
      "Even tough, the functions f1 and f2 are not called the registry already have both function addrees\n",
      "\n",
      "running register(<function f1 at 0x7f58582cd0d0>)\n",
      "running register(<function f2 at 0x7f58582cd670>)\n",
      "\n",
      "Registry: [<function f1 at 0x7f58582cd0d0>, <function f2 at 0x7f58582cd670>]\n"
     ]
    }
   ],
   "source": [
    "print(\"\"\"Even tough, the functions f1 and f2 are not called the registry already have both function addrees\\n\"\"\")\n",
    "\n",
    "registry = []\n",
    "\n",
    "def register(func):\n",
    "    print('running register(%s)' % func)\n",
    "    registry.append(func)\n",
    "    return func\n",
    "\n",
    "@register\n",
    "def f1():\n",
    "    print('running f1()')\n",
    "    \n",
    "@register\n",
    "def f2():\n",
    "    print('running f2()')\n",
    "    \n",
    "def f3():\n",
    "    print('running f3()')\n",
    "    \n",
    "print(f\"\\nRegistry: {registry}\")"
   ]
  },
  {
   "cell_type": "markdown",
   "metadata": {},
   "source": [
    "### **Example 1**"
   ]
  },
  {
   "cell_type": "code",
   "execution_count": null,
   "metadata": {
    "ExecuteTime": {
     "end_time": "2020-12-30T01:06:03.444730Z",
     "start_time": "2020-12-30T01:06:03.437749Z"
    }
   },
   "outputs": [],
   "source": [
    "import time\n",
    "\n",
    "def clock(func):\n",
    "    \n",
    "    def clocked(*args): #\n",
    "        t0 = time.perf_counter()\n",
    "        result = func(*args) #\n",
    "        elapsed = time.perf_counter() - t0\n",
    "        name = func.__name__\n",
    "        arg_str = ', '.join(repr(arg) for arg in args)\n",
    "        print('[%0.8fs] %s(%s) -> %r' % (elapsed, name, arg_str, result))\n",
    "        return result\n",
    "    print(f\"Free variables: {clocked.__code__.co_freevars}\")\n",
    "    print(f\"Closure: {clocked.__closure__[0].cell_contents}\")\n",
    "    return clocked #\n",
    "    \n",
    "@clock\n",
    "#Recursao caudal \n",
    "def factorial(n):\n",
    "    return 1 if n < 2 else n*factorial(n-1)"
   ]
  },
  {
   "cell_type": "markdown",
   "metadata": {},
   "source": [
    "The same as:\n",
    "```python    \n",
    "def factorial(n):\n",
    "    return 1 if n < 2 else n*factorial(n-1)\n",
    "\n",
    "factorial = clock(factorial)\n",
    "``` "
   ]
  },
  {
   "cell_type": "code",
   "execution_count": null,
   "metadata": {
    "ExecuteTime": {
     "end_time": "2020-12-30T01:06:03.593333Z",
     "start_time": "2020-12-30T01:06:03.589344Z"
    }
   },
   "outputs": [],
   "source": [
    "_=factorial(4)"
   ]
  },
  {
   "cell_type": "code",
   "execution_count": null,
   "metadata": {
    "ExecuteTime": {
     "end_time": "2020-12-30T01:06:03.603306Z",
     "start_time": "2020-12-30T01:06:03.594330Z"
    }
   },
   "outputs": [],
   "source": [
    "@clock\n",
    "#Recursao \n",
    "def fibonnaci(n):\n",
    "    return 1 if n < 2 else fibonnaci(n-1) + fibonnaci(n-2)\n",
    "_ = fibonnaci(4)"
   ]
  },
  {
   "cell_type": "code",
   "execution_count": null,
   "metadata": {
    "ExecuteTime": {
     "end_time": "2020-12-30T01:06:03.613279Z",
     "start_time": "2020-12-30T01:06:03.607295Z"
    }
   },
   "outputs": [],
   "source": [
    "@clock\n",
    "@lru_cache()\n",
    "#Memoization\n",
    "def fibonnaci(n):\n",
    "    return 1 if n < 2 else fibonnaci(n-1) + fibonnaci(n-2)\n",
    "print(fibonnaci(10))"
   ]
  },
  {
   "cell_type": "code",
   "execution_count": null,
   "metadata": {
    "ExecuteTime": {
     "end_time": "2020-12-30T01:06:03.685109Z",
     "start_time": "2020-12-30T01:06:03.682095Z"
    }
   },
   "outputs": [],
   "source": [
    "print(f\"Factorial: {factorial.__name__}\")\n",
    "print(f\"Fibonnaci: {fibonnaci.__name__}\")"
   ]
  },
  {
   "cell_type": "markdown",
   "metadata": {},
   "source": [
    "This is the typical behavior of a decorator: **it replaces the decorated function with a new function that accepts the same arguments and (usually) returns whatever the decorated function was supposed to return**."
   ]
  },
  {
   "cell_type": "markdown",
   "metadata": {},
   "source": [
    "### **Example 2**"
   ]
  },
  {
   "cell_type": "code",
   "execution_count": null,
   "metadata": {
    "ExecuteTime": {
     "end_time": "2020-12-30T01:06:03.883100Z",
     "start_time": "2020-12-30T01:06:03.877117Z"
    }
   },
   "outputs": [],
   "source": [
    "def best_clock(func):\n",
    "    @wraps(func)\n",
    "    def clocked(*args, **kwargs):\n",
    "        t0 = time.time()\n",
    "        result = func(*args, **kwargs)\n",
    "        elapsed = time.time() - t0\n",
    "        name = func.__name__\n",
    "        arg_lst = []\n",
    "        if args:\n",
    "            arg_lst.append(', '.join(repr(arg) for arg in args))\n",
    "        if kwargs:\n",
    "            pairs = ['%s=%r' % (k, w) for k, w in sorted(kwargs.items())]\n",
    "            arg_lst.append(', '.join(pairs))\n",
    "        arg_str = ', '.join(arg_lst)\n",
    "        print('[%0.8fs] %s(%s) -> %r ' % (elapsed, name, arg_str, result))\n",
    "        return result\n",
    "    return clocked"
   ]
  },
  {
   "cell_type": "markdown",
   "metadata": {},
   "source": [
    "Wrappers:\n",
    "\n",
    "```python\n",
    "@functools.wraps(func)\n",
    "def g():\n",
    "    pass\n",
    "```\n",
    "\n",
    "- it copies the ```__module__```, ```__name__```, ```__qualname__```,  ```__doc__```, and  ```__annotations__``` attributes of ```func``` on ```g```. This default list is in WRAPPER_ASSIGNMENTS, you can see it in the functools source.\n",
    "\n",
    "- it updates the ```__dict__``` of g with all elements from ```func.__dict__```. (see WRAPPER_UPDATES in the source)\n",
    "\n",
    "- it sets a new ```__wrapped__ = func``` attribute on ```g```\n",
    "\n",
    "\n",
    "\n",
    "Ref: https://stackoverflow.com/questions/308999/what-does-functools-wraps-do"
   ]
  },
  {
   "cell_type": "code",
   "execution_count": null,
   "metadata": {
    "ExecuteTime": {
     "end_time": "2020-12-30T01:06:03.892076Z",
     "start_time": "2020-12-30T01:06:03.887090Z"
    }
   },
   "outputs": [],
   "source": [
    "@best_clock\n",
    "def factorial(n):\n",
    "    return 1 if n < 2 else n*factorial(n-1)\n",
    "_=factorial(5)"
   ]
  },
  {
   "cell_type": "code",
   "execution_count": null,
   "metadata": {
    "ExecuteTime": {
     "end_time": "2020-12-30T01:06:03.902050Z",
     "start_time": "2020-12-30T01:06:03.894071Z"
    }
   },
   "outputs": [],
   "source": [
    "@lru_cache()\n",
    "@best_clock\n",
    "#Recursao \n",
    "def fibonnaci(n):\n",
    "    return 1 if n < 2 else fibonnaci(n-1) + fibonnaci(n-2)\n",
    "_=fibonnaci(5)"
   ]
  },
  {
   "cell_type": "code",
   "execution_count": null,
   "metadata": {},
   "outputs": [],
   "source": [
    "print(f\"Factorial: {factorial.__name__}\")\n",
    "print(f\"Fibonnaci: {fibonnaci.__name__}\")"
   ]
  },
  {
   "cell_type": "markdown",
   "metadata": {},
   "source": [
    "## **Decorators with parameters**"
   ]
  },
  {
   "cell_type": "markdown",
   "metadata": {},
   "source": [
    "### **Example 1** "
   ]
  },
  {
   "cell_type": "code",
   "execution_count": null,
   "metadata": {
    "ExecuteTime": {
     "end_time": "2020-12-30T01:06:04.033533Z",
     "start_time": "2020-12-30T01:06:04.028511Z"
    }
   },
   "outputs": [],
   "source": [
    "def argument_clock(is_print=True):\n",
    "    def decorate(func):\n",
    "        @wraps(func)\n",
    "        def clocked(*args, **kwargs):\n",
    "            result = func(*args, **kwargs)\n",
    "            if is_print:\n",
    "                t0 = time.time()\n",
    "                elapsed = time.time() - t0\n",
    "                name = func.__name__\n",
    "                arg_lst = []\n",
    "                if args:\n",
    "                    arg_lst.append(', '.join(repr(arg) for arg in args))\n",
    "                if kwargs:\n",
    "                    pairs = ['%s=%r' % (k, w) for k, w in sorted(kwargs.items())]\n",
    "                    arg_lst.append(', '.join(pairs))\n",
    "                arg_str = ', '.join(arg_lst)\n",
    "                print('[%0.8fs] %s(%s) -> %r ' % (elapsed, name, arg_str, result))\n",
    "                return result\n",
    "            else:\n",
    "                return result\n",
    "        return clocked    \n",
    "    return decorate\n"
   ]
  },
  {
   "cell_type": "code",
   "execution_count": null,
   "metadata": {
    "ExecuteTime": {
     "end_time": "2020-12-30T01:06:04.048493Z",
     "start_time": "2020-12-30T01:06:04.034530Z"
    }
   },
   "outputs": [],
   "source": [
    "@lru_cache()\n",
    "@argument_clock(is_print=False)\n",
    "def fibonnaci(n):\n",
    "    return 1 if n < 2 else fibonnaci(n-1) + fibonnaci(n-2)\n",
    "fibonnaci(4)"
   ]
  },
  {
   "cell_type": "code",
   "execution_count": null,
   "metadata": {
    "ExecuteTime": {
     "end_time": "2020-12-30T01:06:04.056471Z",
     "start_time": "2020-12-30T01:06:04.049492Z"
    }
   },
   "outputs": [],
   "source": [
    "@lru_cache()\n",
    "@argument_clock(is_print=True)\n",
    "def fibonnaci(n):\n",
    "    return 1 if n < 2 else fibonnaci(n-1) + fibonnaci(n-2)\n",
    "_=fibonnaci(4)"
   ]
  },
  {
   "cell_type": "markdown",
   "metadata": {},
   "source": [
    "### **Example 2 - Valentin Berlier**"
   ]
  },
  {
   "cell_type": "code",
   "execution_count": null,
   "metadata": {
    "ExecuteTime": {
     "end_time": "2020-12-30T01:06:04.064442Z",
     "start_time": "2020-12-30T01:06:04.057434Z"
    }
   },
   "outputs": [],
   "source": [
    "def print_result(func=None, prefix=''):\n",
    "    if func is None:\n",
    "        return partial(print_result, prefix=prefix)\n",
    "    \n",
    "    @wraps(func)\n",
    "    def wrapper(*args, **kwargs):\n",
    "        result = func(*args, **kwargs)\n",
    "        print(f'{prefix}{result}')\n",
    "        return result\n",
    "    return wrapper"
   ]
  },
  {
   "cell_type": "code",
   "execution_count": null,
   "metadata": {
    "ExecuteTime": {
     "end_time": "2020-12-30T01:06:04.075227Z",
     "start_time": "2020-12-30T01:06:04.067407Z"
    }
   },
   "outputs": [],
   "source": [
    "@print_result\n",
    "def add(a, b):\n",
    "    return a + b\n",
    "\n",
    "add(2, 3)  # outputs '5'\n",
    "\n",
    "@print_result()\n",
    "def add(a, b):\n",
    "    return a + b\n",
    "\n",
    "add(2, 3)  # outputs '5'\n",
    "\n",
    "@print_result(prefix='The return value is ')\n",
    "def add(a, b):\n",
    "    return a + b\n",
    "\n",
    "add(2, 3)  # outputs 'The return value is 5'"
   ]
  },
  {
   "cell_type": "markdown",
   "metadata": {},
   "source": [
    "## **References** "
   ]
  },
  {
   "cell_type": "markdown",
   "metadata": {
    "ExecuteTime": {
     "end_time": "2020-12-29T16:31:12.231713Z",
     "start_time": "2020-12-29T16:31:12.215655Z"
    }
   },
   "source": [
    "Book:\n",
    "- Fluent Python - by Luciano Ramalho"
   ]
  }
 ],
 "metadata": {
  "hide_input": false,
  "kernelspec": {
   "display_name": "venv_playground",
   "language": "python",
   "name": "venv_playground"
  },
  "language_info": {
   "codemirror_mode": {
    "name": "ipython",
    "version": 3
   },
   "file_extension": ".py",
   "mimetype": "text/x-python",
   "name": "python",
   "nbconvert_exporter": "python",
   "pygments_lexer": "ipython3",
   "version": "3.9.4"
  },
  "varInspector": {
   "cols": {
    "lenName": 16,
    "lenType": 16,
    "lenVar": 40
   },
   "kernels_config": {
    "python": {
     "delete_cmd_postfix": "",
     "delete_cmd_prefix": "del ",
     "library": "var_list.py",
     "varRefreshCmd": "print(var_dic_list())"
    },
    "r": {
     "delete_cmd_postfix": ") ",
     "delete_cmd_prefix": "rm(",
     "library": "var_list.r",
     "varRefreshCmd": "cat(var_dic_list()) "
    }
   },
   "types_to_exclude": [
    "module",
    "function",
    "builtin_function_or_method",
    "instance",
    "_Feature"
   ],
   "window_display": false
  }
 },
 "nbformat": 4,
 "nbformat_minor": 4
}
