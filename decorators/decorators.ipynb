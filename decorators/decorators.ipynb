{
 "cells": [
  {
   "cell_type": "markdown",
   "metadata": {},
   "source": [
    "## **Decorator** "
   ]
  },
  {
   "cell_type": "markdown",
   "metadata": {},
   "source": [
    "## **Closures** "
   ]
  },
  {
   "cell_type": "code",
   "execution_count": 2,
   "metadata": {
    "ExecuteTime": {
     "end_time": "2020-12-29T17:25:34.631014Z",
     "start_time": "2020-12-29T17:25:34.614980Z"
    }
   },
   "outputs": [],
   "source": [
    "def historical_print():\n",
    "    \n",
    "    hist_lst = []\n",
    "    \n",
    "    def inner_print(string):\n",
    "        hist_lst.append(string)\n",
    "        print(\" \".join(hist_lst))\n",
    "        \n",
    "    print(f\"style_print closure:\\n{inner_print.__closure__}\")\n",
    "    print(f\"super_print closure:\\n{historical_print.__closure__}\")\n",
    "\n",
    "    return inner_print"
   ]
  },
  {
   "cell_type": "code",
   "execution_count": 3,
   "metadata": {
    "ExecuteTime": {
     "end_time": "2020-12-29T17:25:34.870331Z",
     "start_time": "2020-12-29T17:25:34.854331Z"
    }
   },
   "outputs": [
    {
     "name": "stdout",
     "output_type": "stream",
     "text": [
      "style_print closure:\n",
      "(<cell at 0x000002AD460EB9A8: list object at 0x000002AD5C1C6F48>,)\n",
      "super_print closure:\n",
      "None\n"
     ]
    }
   ],
   "source": [
    "printer = historical_print()"
   ]
  },
  {
   "cell_type": "markdown",
   "metadata": {},
   "source": [
    "- The ```inner_print``` function finds the ```hist_lst``` in their closure.\n",
    "- The closure for ```averager``` extends the scope of that function."
   ]
  },
  {
   "cell_type": "code",
   "execution_count": 4,
   "metadata": {
    "ExecuteTime": {
     "end_time": "2020-12-29T17:25:35.318962Z",
     "start_time": "2020-12-29T17:25:35.302978Z"
    }
   },
   "outputs": [
    {
     "name": "stdout",
     "output_type": "stream",
     "text": [
      "I\n",
      "I like\n",
      "I like it\n"
     ]
    }
   ],
   "source": [
    "printer(\"I\")\n",
    "printer(\"like\")\n",
    "printer(\"it\")"
   ]
  },
  {
   "cell_type": "markdown",
   "metadata": {},
   "source": [
    "## **Free variables** "
   ]
  },
  {
   "cell_type": "code",
   "execution_count": 5,
   "metadata": {
    "ExecuteTime": {
     "end_time": "2020-12-29T17:25:35.779891Z",
     "start_time": "2020-12-29T17:25:35.771899Z"
    }
   },
   "outputs": [
    {
     "name": "stdout",
     "output_type": "stream",
     "text": [
      "3.5\n"
     ]
    }
   ],
   "source": [
    "lst = [1,2,3,4,5,6]\n",
    "soma = sum(lst)\n",
    "size = len(lst)\n",
    "print(soma/size)"
   ]
  },
  {
   "cell_type": "code",
   "execution_count": 9,
   "metadata": {
    "ExecuteTime": {
     "end_time": "2020-12-29T17:25:42.741067Z",
     "start_time": "2020-12-29T17:25:42.733066Z"
    }
   },
   "outputs": [],
   "source": [
    "def make_averager_v1():\n",
    "    series = []\n",
    "    def averager_v1(new_value):\n",
    "        series.append(new_value)\n",
    "        total = sum(series)\n",
    "        print(total/len(series))\n",
    "    return averager_v1"
   ]
  },
  {
   "cell_type": "markdown",
   "metadata": {},
   "source": [
    "- ```series``` is a **local variable** of ```make_averager```\n",
    "- ```series``` is a **free variable** of ```averager```. This means a variable is not bound in the local scope."
   ]
  },
  {
   "cell_type": "code",
   "execution_count": 10,
   "metadata": {
    "ExecuteTime": {
     "end_time": "2020-12-29T17:25:43.144857Z",
     "start_time": "2020-12-29T17:25:43.128856Z"
    }
   },
   "outputs": [],
   "source": [
    "avg = make_averager_v1()"
   ]
  },
  {
   "cell_type": "code",
   "execution_count": 11,
   "metadata": {
    "ExecuteTime": {
     "end_time": "2020-12-29T17:25:43.311692Z",
     "start_time": "2020-12-29T17:25:43.303699Z"
    }
   },
   "outputs": [
    {
     "name": "stdout",
     "output_type": "stream",
     "text": [
      "10.0\n",
      "15.0\n",
      "20.0\n"
     ]
    }
   ],
   "source": [
    "avg(10)\n",
    "avg(20)\n",
    "avg(30)"
   ]
  },
  {
   "cell_type": "code",
   "execution_count": 12,
   "metadata": {
    "ExecuteTime": {
     "end_time": "2020-12-29T17:25:43.504902Z",
     "start_time": "2020-12-29T17:25:43.495436Z"
    }
   },
   "outputs": [
    {
     "name": "stdout",
     "output_type": "stream",
     "text": [
      "Local variables: ('new_value', 'total')\n",
      "Free variables: ('series',)\n",
      "Closure: [10, 20, 30]\n"
     ]
    }
   ],
   "source": [
    "print(f\"Local variables: {avg.__code__.co_varnames}\")\n",
    "print(f\"Free variables: {avg.__code__.co_freevars}\")\n",
    "print(f\"Closure: {avg.__closure__[0].cell_contents}\")"
   ]
  },
  {
   "cell_type": "markdown",
   "metadata": {},
   "source": [
    "- Each item in the closure corresponds to a name in the free variables."
   ]
  },
  {
   "cell_type": "code",
   "execution_count": 34,
   "metadata": {
    "ExecuteTime": {
     "end_time": "2020-12-29T17:29:12.027599Z",
     "start_time": "2020-12-29T17:29:12.011566Z"
    }
   },
   "outputs": [],
   "source": [
    "def make_averager_v2():\n",
    "    count = 0\n",
    "    total = 0\n",
    "    def averager_v2(new_value):\n",
    "        count += 1\n",
    "        total += new_value\n",
    "        print(total / count)\n",
    "    return averager_v2"
   ]
  },
  {
   "cell_type": "code",
   "execution_count": 35,
   "metadata": {
    "ExecuteTime": {
     "end_time": "2020-12-29T17:29:12.457760Z",
     "start_time": "2020-12-29T17:29:12.433781Z"
    }
   },
   "outputs": [
    {
     "ename": "UnboundLocalError",
     "evalue": "local variable 'count' referenced before assignment",
     "output_type": "error",
     "traceback": [
      "\u001b[1;31m---------------------------------------------------------------------------\u001b[0m",
      "\u001b[1;31mUnboundLocalError\u001b[0m                         Traceback (most recent call last)",
      "\u001b[1;32m<ipython-input-35-0dacbd829a94>\u001b[0m in \u001b[0;36m<module>\u001b[1;34m\u001b[0m\n\u001b[0;32m      1\u001b[0m \u001b[0mavg\u001b[0m \u001b[1;33m=\u001b[0m \u001b[0mmake_averager_v2\u001b[0m\u001b[1;33m(\u001b[0m\u001b[1;33m)\u001b[0m\u001b[1;33m\u001b[0m\u001b[1;33m\u001b[0m\u001b[0m\n\u001b[1;32m----> 2\u001b[1;33m \u001b[0mavg\u001b[0m\u001b[1;33m(\u001b[0m\u001b[1;36m10\u001b[0m\u001b[1;33m)\u001b[0m\u001b[1;33m\u001b[0m\u001b[1;33m\u001b[0m\u001b[0m\n\u001b[0m",
      "\u001b[1;32m<ipython-input-34-f7dc778ce9ae>\u001b[0m in \u001b[0;36maverager_v2\u001b[1;34m(new_value)\u001b[0m\n\u001b[0;32m      3\u001b[0m     \u001b[0mtotal\u001b[0m \u001b[1;33m=\u001b[0m \u001b[1;36m0\u001b[0m\u001b[1;33m\u001b[0m\u001b[1;33m\u001b[0m\u001b[0m\n\u001b[0;32m      4\u001b[0m     \u001b[1;32mdef\u001b[0m \u001b[0maverager_v2\u001b[0m\u001b[1;33m(\u001b[0m\u001b[0mnew_value\u001b[0m\u001b[1;33m)\u001b[0m\u001b[1;33m:\u001b[0m\u001b[1;33m\u001b[0m\u001b[1;33m\u001b[0m\u001b[0m\n\u001b[1;32m----> 5\u001b[1;33m         \u001b[0mcount\u001b[0m \u001b[1;33m+=\u001b[0m \u001b[1;36m1\u001b[0m\u001b[1;33m\u001b[0m\u001b[1;33m\u001b[0m\u001b[0m\n\u001b[0m\u001b[0;32m      6\u001b[0m         \u001b[0mtotal\u001b[0m \u001b[1;33m+=\u001b[0m \u001b[0mnew_value\u001b[0m\u001b[1;33m\u001b[0m\u001b[1;33m\u001b[0m\u001b[0m\n\u001b[0;32m      7\u001b[0m         \u001b[0mprint\u001b[0m\u001b[1;33m(\u001b[0m\u001b[0mtotal\u001b[0m \u001b[1;33m/\u001b[0m \u001b[0mcount\u001b[0m\u001b[1;33m)\u001b[0m\u001b[1;33m\u001b[0m\u001b[1;33m\u001b[0m\u001b[0m\n",
      "\u001b[1;31mUnboundLocalError\u001b[0m: local variable 'count' referenced before assignment"
     ]
    }
   ],
   "source": [
    "avg = make_averager_v2()\n",
    "avg(10)"
   ]
  },
  {
   "cell_type": "markdown",
   "metadata": {},
   "source": [
    "The ```+=``` operator means  ```count = count + 1```, but count is a number or any immutable type, which is not allowed. Immutable types like numbers, strings, tuples, etc., can only be read."
   ]
  },
  {
   "cell_type": "code",
   "execution_count": 36,
   "metadata": {
    "ExecuteTime": {
     "end_time": "2020-12-29T17:29:13.044461Z",
     "start_time": "2020-12-29T17:29:13.028461Z"
    }
   },
   "outputs": [],
   "source": [
    "def make_averager_v3():\n",
    "    count = [0]\n",
    "    total = [0]\n",
    "    def averager_v3(new_value):\n",
    "        count[0] += 1\n",
    "        total[0] += new_value\n",
    "        print(total[0] / count[0])\n",
    "    return averager_v3"
   ]
  },
  {
   "cell_type": "code",
   "execution_count": 37,
   "metadata": {
    "ExecuteTime": {
     "end_time": "2020-12-29T17:29:13.292540Z",
     "start_time": "2020-12-29T17:29:13.268540Z"
    }
   },
   "outputs": [
    {
     "name": "stdout",
     "output_type": "stream",
     "text": [
      "10.0\n",
      "15.0\n",
      "20.0\n"
     ]
    }
   ],
   "source": [
    "avg = make_averager_v3()\n",
    "avg(10)\n",
    "avg(20)\n",
    "avg(30)"
   ]
  },
  {
   "cell_type": "code",
   "execution_count": 38,
   "metadata": {
    "ExecuteTime": {
     "end_time": "2020-12-29T17:29:13.513967Z",
     "start_time": "2020-12-29T17:29:13.497967Z"
    }
   },
   "outputs": [],
   "source": [
    "def make_averager_v4():\n",
    "    count = 0\n",
    "    total = 0\n",
    "    def averager_v4(new_value):\n",
    "        nonlocal count, total\n",
    "        count += 1\n",
    "        total += new_value\n",
    "        print(total / count)\n",
    "    return averager_v4"
   ]
  },
  {
   "cell_type": "code",
   "execution_count": 39,
   "metadata": {
    "ExecuteTime": {
     "end_time": "2020-12-29T17:29:14.065339Z",
     "start_time": "2020-12-29T17:29:14.057370Z"
    }
   },
   "outputs": [
    {
     "name": "stdout",
     "output_type": "stream",
     "text": [
      "10.0\n",
      "15.0\n",
      "20.0\n"
     ]
    }
   ],
   "source": [
    "avg = make_averager_v4()\n",
    "avg(10)\n",
    "avg(20)\n",
    "avg(30)"
   ]
  },
  {
   "cell_type": "code",
   "execution_count": 40,
   "metadata": {
    "ExecuteTime": {
     "end_time": "2020-12-29T17:29:14.477906Z",
     "start_time": "2020-12-29T17:29:14.469885Z"
    }
   },
   "outputs": [
    {
     "name": "stdout",
     "output_type": "stream",
     "text": [
      "Local variables: ('new_value',)\n",
      "Free variables: ('count', 'total')\n",
      "Closure: [3, 60]\n"
     ]
    }
   ],
   "source": [
    "print(f\"Local variables: {avg.__code__.co_varnames}\")\n",
    "print(f\"Free variables: {avg.__code__.co_freevars}\")\n",
    "print(f\"Closure: {[i.cell_contents for i in avg.__closure__]}\")"
   ]
  },
  {
   "cell_type": "markdown",
   "metadata": {},
   "source": [
    "A decorator is a callable that takes another function as argument.The decorator may perform some processing with the decorated function, and\n",
    "returns it or replaces it with another function or callable object."
   ]
  },
  {
   "cell_type": "markdown",
   "metadata": {},
   "source": [
    "```python\n",
    "\n",
    "@decorate_func\n",
    "def target():\n",
    "    print('running target()')\n",
    "    \n",
    "#############################\n",
    "    \n",
    "def target():\n",
    "    print('running target()')\n",
    "    \n",
    "target = decorate_func(target)\n",
    "```\n"
   ]
  },
  {
   "cell_type": "markdown",
   "metadata": {},
   "source": [
    "- Strictly speaking, decorators are just syntactic sugar. \n",
    "\n",
    "- Usung decorators is  convenient, especially when doing metaprogramming—changing program behavior at runtime.\n",
    "\n",
    "- They are executed immediately when a module is loaded."
   ]
  },
  {
   "cell_type": "markdown",
   "metadata": {
    "heading_collapsed": true
   },
   "source": [
    "### Decorators are executed in import time"
   ]
  },
  {
   "cell_type": "code",
   "execution_count": 1,
   "metadata": {
    "ExecuteTime": {
     "end_time": "2020-12-29T17:25:34.357346Z",
     "start_time": "2020-12-29T17:25:34.341302Z"
    },
    "hidden": true
   },
   "outputs": [
    {
     "name": "stdout",
     "output_type": "stream",
     "text": [
      "Even tough, the functions f1 and f2 are not called the registry already have both function addrees\n",
      "\n",
      "running register(<function f1 at 0x000002AD5C55DD38>)\n",
      "running register(<function f2 at 0x000002AD5C55DE58>)\n",
      "\n",
      "Registry: [<function f1 at 0x000002AD5C55DD38>, <function f2 at 0x000002AD5C55DE58>]\n"
     ]
    }
   ],
   "source": [
    "print(\"\"\"Even tough, the functions f1 and f2 are not called the registry already have both function addrees\\n\"\"\")\n",
    "\n",
    "registry = []\n",
    "\n",
    "def register(func):\n",
    "    print('running register(%s)' % func)\n",
    "    registry.append(func)\n",
    "    return func\n",
    "\n",
    "@register\n",
    "def f1():\n",
    "    print('running f1()')\n",
    "    \n",
    "@register\n",
    "def f2():\n",
    "    print('running f2()')\n",
    "    \n",
    "def f3():\n",
    "    print('running f3()')\n",
    "    \n",
    "print(f\"\\nRegistry: {registry}\")"
   ]
  },
  {
   "cell_type": "markdown",
   "metadata": {},
   "source": [
    "## **References** "
   ]
  },
  {
   "cell_type": "markdown",
   "metadata": {
    "ExecuteTime": {
     "end_time": "2020-12-29T16:31:12.231713Z",
     "start_time": "2020-12-29T16:31:12.215655Z"
    }
   },
   "source": [
    "Book:\n",
    "- Fluent Python - by Luciano Ramalho"
   ]
  }
 ],
 "metadata": {
  "hide_input": false,
  "kernelspec": {
   "display_name": "Python 3",
   "language": "python",
   "name": "python3"
  },
  "language_info": {
   "codemirror_mode": {
    "name": "ipython",
    "version": 3
   },
   "file_extension": ".py",
   "mimetype": "text/x-python",
   "name": "python",
   "nbconvert_exporter": "python",
   "pygments_lexer": "ipython3",
   "version": "3.7.7"
  },
  "varInspector": {
   "cols": {
    "lenName": 16,
    "lenType": 16,
    "lenVar": 40
   },
   "kernels_config": {
    "python": {
     "delete_cmd_postfix": "",
     "delete_cmd_prefix": "del ",
     "library": "var_list.py",
     "varRefreshCmd": "print(var_dic_list())"
    },
    "r": {
     "delete_cmd_postfix": ") ",
     "delete_cmd_prefix": "rm(",
     "library": "var_list.r",
     "varRefreshCmd": "cat(var_dic_list()) "
    }
   },
   "types_to_exclude": [
    "module",
    "function",
    "builtin_function_or_method",
    "instance",
    "_Feature"
   ],
   "window_display": false
  }
 },
 "nbformat": 4,
 "nbformat_minor": 4
}
